{
  "cells": [
    {
      "cell_type": "code",
      "execution_count": 1,
      "metadata": {
        "colab": {
          "base_uri": "https://localhost:8080/"
        },
        "id": "hBH2ppPMGzVz",
        "outputId": "eca9895a-4f0d-4115-b43a-62f21e645787"
      },
      "outputs": [
        {
          "data": {
            "text/plain": [
              "'!pip install wandb -q\\n!pip install tensorflow-gpu'"
            ]
          },
          "execution_count": 1,
          "metadata": {},
          "output_type": "execute_result"
        }
      ],
      "source": [
        "\"\"\"!pip install wandb -q\n",
        "!pip install tensorflow-gpu\"\"\""
      ]
    },
    {
      "cell_type": "code",
      "execution_count": 2,
      "metadata": {
        "colab": {
          "base_uri": "https://localhost:8080/"
        },
        "id": "9ekWtDVBG3DM",
        "outputId": "52441373-bf87-47f5-e795-6e66e8c3922c"
      },
      "outputs": [
        {
          "data": {
            "text/plain": [
              "'\\nimport wandb\\nfrom wandb.keras import WandbCallback'"
            ]
          },
          "execution_count": 2,
          "metadata": {},
          "output_type": "execute_result"
        }
      ],
      "source": [
        "\"\"\"import torch\n",
        "import tensorflow as tf\n",
        "print(tf.__version__)\"\"\"\n",
        "\"\"\"\n",
        "import wandb\n",
        "from wandb.keras import WandbCallback\"\"\""
      ]
    },
    {
      "cell_type": "code",
      "execution_count": 1,
      "metadata": {
        "colab": {
          "base_uri": "https://localhost:8080/"
        },
        "id": "QhUF5dIMG6mz",
        "outputId": "53afcfb3-3fd3-4ef3-a1ae-7d109e858f55"
      },
      "outputs": [
        {
          "name": "stdout",
          "output_type": "stream",
          "text": [
            "fatal: destination path 'faceattributes' already exists and is not an empty directory.\n"
          ]
        }
      ],
      "source": [
        "!git clone https://github.com/ayulockin/faceattributes.git"
      ]
    },
    {
      "cell_type": "code",
      "execution_count": 2,
      "metadata": {
        "colab": {
          "base_uri": "https://localhost:8080/"
        },
        "id": "EaCqN9pfG_-S",
        "outputId": "74bd6b75-a26f-4140-87b5-26f29620d4d8"
      },
      "outputs": [
        {
          "name": "stdout",
          "output_type": "stream",
          "text": [
            "checkpoint\t     data\t\t\tIncorrect\t  utils.py\n",
            "checkpoint_new\t     df_age_result.csv\t\tmodels\t\t  vgg16.h5\n",
            "cifar_pytorch.ipynb  df_race_result.csv\t\t__pycache__\n",
            "cifar_torch_v2.py    faceattributes\t\tpytorch_grad_cam\n",
            "DAI_ass1_SVM.ipynb   Grad-Cam-checkpoint.ipynb\tqu2.ipynb\n"
          ]
        }
      ],
      "source": [
        "!ls"
      ]
    },
    {
      "cell_type": "code",
      "execution_count": 3,
      "metadata": {
        "colab": {
          "base_uri": "https://localhost:8080/"
        },
        "id": "AquiiUAkHCWC",
        "outputId": "03c8f47c-fb87-418f-fa40-d29e674dd1d4"
      },
      "outputs": [
        {
          "name": "stdout",
          "output_type": "stream",
          "text": [
            "/DATA/roy2/DAI/faceattributes\n"
          ]
        }
      ],
      "source": [
        "%cd faceattributes"
      ]
    },
    {
      "cell_type": "code",
      "execution_count": 4,
      "metadata": {
        "colab": {
          "base_uri": "https://localhost:8080/"
        },
        "id": "sxko430wHEBI",
        "outputId": "0c986f2f-c1ed-4407-cd78-45a906c8938d"
      },
      "outputs": [
        {
          "name": "stdout",
          "output_type": "stream",
          "text": [
            " datasets\n",
            "'EDA of Face Dataset.ipynb'\n",
            " examples\n",
            " face_detector\n",
            " Image1.jpeg\n",
            " images\n",
            " LICENSE\n",
            " main.py\n",
            " prepareUTKFaceData.py\n",
            " README.md\n",
            "'UTK_Face_Attribute_Classifier_with_TF2_0_and_W&B.ipynb'\n"
          ]
        }
      ],
      "source": [
        "!ls"
      ]
    },
    {
      "cell_type": "code",
      "execution_count": 5,
      "metadata": {
        "colab": {
          "base_uri": "https://localhost:8080/"
        },
        "id": "jMgY2je7HKpx",
        "outputId": "732b3413-8cb8-4ddc-986a-7aeafd10c2af"
      },
      "outputs": [
        {
          "name": "stdout",
          "output_type": "stream",
          "text": [
            "Total number of images:  23705\n"
          ]
        }
      ],
      "source": [
        "import os\n",
        "\n",
        "images = os.listdir('images')\n",
        "print('Total number of images: ', len(images))"
      ]
    },
    {
      "cell_type": "code",
      "execution_count": 6,
      "metadata": {},
      "outputs": [],
      "source": [
        "#!pip3 install scikit-image"
      ]
    },
    {
      "cell_type": "code",
      "execution_count": 7,
      "metadata": {
        "id": "4HjtDoiUHN-I"
      },
      "outputs": [],
      "source": [
        "import pandas as pd\n",
        "import numpy as np\n",
        "from sklearn import svm\n",
        "from sklearn.metrics import confusion_matrix, accuracy_score\n",
        "from skimage.transform import rescale, resize, downscale_local_mean\n",
        "from sklearn import datasets, svm, metrics\n",
        "from sklearn.model_selection import train_test_split\n",
        "import warnings\n",
        "import sys\n",
        "import os\n",
        "import shutil\n",
        "from joblib import dump, load\n",
        "import numpy as np\n",
        "import math\n",
        "import torch"
      ]
    },
    {
      "cell_type": "code",
      "execution_count": 8,
      "metadata": {},
      "outputs": [],
      "source": [
        "#!pip install tensorflow"
      ]
    },
    {
      "cell_type": "code",
      "execution_count": 9,
      "metadata": {
        "id": "nulCiCHAHQAx"
      },
      "outputs": [],
      "source": [
        "labels = pd.read_csv('datasets/face_dataset.csv')"
      ]
    },
    {
      "cell_type": "code",
      "execution_count": 10,
      "metadata": {
        "colab": {
          "base_uri": "https://localhost:8080/"
        },
        "id": "kMvC84_Iis8K",
        "outputId": "30fcc58a-30f0-42a8-faa9-5bb1838261c9"
      },
      "outputs": [
        {
          "data": {
            "text/plain": [
              "array([0, 2, 1, 3, 4])"
            ]
          },
          "execution_count": 10,
          "metadata": {},
          "output_type": "execute_result"
        }
      ],
      "source": [
        "labels['ethnicity'].unique()"
      ]
    },
    {
      "cell_type": "code",
      "execution_count": 19,
      "metadata": {
        "colab": {
          "base_uri": "https://localhost:8080/",
          "height": 359
        },
        "id": "4uILwrGLHR0B",
        "outputId": "e07df7d5-4035-438e-ab4b-a72e385a52cf"
      },
      "outputs": [
        {
          "data": {
            "text/html": [
              "<div>\n",
              "<style scoped>\n",
              "    .dataframe tbody tr th:only-of-type {\n",
              "        vertical-align: middle;\n",
              "    }\n",
              "\n",
              "    .dataframe tbody tr th {\n",
              "        vertical-align: top;\n",
              "    }\n",
              "\n",
              "    .dataframe thead th {\n",
              "        text-align: right;\n",
              "    }\n",
              "</style>\n",
              "<table border=\"1\" class=\"dataframe\">\n",
              "  <thead>\n",
              "    <tr style=\"text-align: right;\">\n",
              "      <th></th>\n",
              "      <th>image_id</th>\n",
              "      <th>age</th>\n",
              "      <th>gender</th>\n",
              "      <th>ethnicity</th>\n",
              "    </tr>\n",
              "  </thead>\n",
              "  <tbody>\n",
              "    <tr>\n",
              "      <th>0</th>\n",
              "      <td>teripprmot</td>\n",
              "      <td>100</td>\n",
              "      <td>0</td>\n",
              "      <td>0</td>\n",
              "    </tr>\n",
              "    <tr>\n",
              "      <th>1</th>\n",
              "      <td>ibjkghymsu</td>\n",
              "      <td>100</td>\n",
              "      <td>0</td>\n",
              "      <td>0</td>\n",
              "    </tr>\n",
              "    <tr>\n",
              "      <th>2</th>\n",
              "      <td>dlsaxmcymo</td>\n",
              "      <td>100</td>\n",
              "      <td>1</td>\n",
              "      <td>0</td>\n",
              "    </tr>\n",
              "    <tr>\n",
              "      <th>3</th>\n",
              "      <td>oyyopnhvza</td>\n",
              "      <td>100</td>\n",
              "      <td>1</td>\n",
              "      <td>0</td>\n",
              "    </tr>\n",
              "    <tr>\n",
              "      <th>4</th>\n",
              "      <td>nhufelmwaw</td>\n",
              "      <td>100</td>\n",
              "      <td>1</td>\n",
              "      <td>0</td>\n",
              "    </tr>\n",
              "    <tr>\n",
              "      <th>5</th>\n",
              "      <td>fkozflztvo</td>\n",
              "      <td>100</td>\n",
              "      <td>1</td>\n",
              "      <td>0</td>\n",
              "    </tr>\n",
              "    <tr>\n",
              "      <th>6</th>\n",
              "      <td>jfjtfckikm</td>\n",
              "      <td>100</td>\n",
              "      <td>1</td>\n",
              "      <td>0</td>\n",
              "    </tr>\n",
              "    <tr>\n",
              "      <th>7</th>\n",
              "      <td>exeinekyai</td>\n",
              "      <td>100</td>\n",
              "      <td>1</td>\n",
              "      <td>0</td>\n",
              "    </tr>\n",
              "    <tr>\n",
              "      <th>8</th>\n",
              "      <td>ynybxuwyrx</td>\n",
              "      <td>100</td>\n",
              "      <td>1</td>\n",
              "      <td>2</td>\n",
              "    </tr>\n",
              "    <tr>\n",
              "      <th>9</th>\n",
              "      <td>pkwnjssqij</td>\n",
              "      <td>100</td>\n",
              "      <td>1</td>\n",
              "      <td>2</td>\n",
              "    </tr>\n",
              "  </tbody>\n",
              "</table>\n",
              "</div>"
            ],
            "text/plain": [
              "     image_id  age  gender  ethnicity\n",
              "0  teripprmot  100       0          0\n",
              "1  ibjkghymsu  100       0          0\n",
              "2  dlsaxmcymo  100       1          0\n",
              "3  oyyopnhvza  100       1          0\n",
              "4  nhufelmwaw  100       1          0\n",
              "5  fkozflztvo  100       1          0\n",
              "6  jfjtfckikm  100       1          0\n",
              "7  exeinekyai  100       1          0\n",
              "8  ynybxuwyrx  100       1          2\n",
              "9  pkwnjssqij  100       1          2"
            ]
          },
          "execution_count": 19,
          "metadata": {},
          "output_type": "execute_result"
        }
      ],
      "source": [
        "labels.head(10)"
      ]
    },
    {
      "cell_type": "code",
      "execution_count": 22,
      "metadata": {},
      "outputs": [
        {
          "data": {
            "text/plain": [
              "0    10078\n",
              "1     4526\n",
              "3     3975\n",
              "2     3434\n",
              "4     1692\n",
              "Name: ethnicity, dtype: int64"
            ]
          },
          "execution_count": 22,
          "metadata": {},
          "output_type": "execute_result"
        }
      ],
      "source": [
        "labels['ethnicity'].value_counts()"
      ]
    },
    {
      "cell_type": "code",
      "execution_count": 23,
      "metadata": {},
      "outputs": [
        {
          "data": {
            "text/plain": [
              "0    12391\n",
              "1    11314\n",
              "Name: gender, dtype: int64"
            ]
          },
          "execution_count": 23,
          "metadata": {},
          "output_type": "execute_result"
        }
      ],
      "source": [
        "labels['gender'].value_counts()"
      ]
    },
    {
      "cell_type": "code",
      "execution_count": null,
      "metadata": {},
      "outputs": [],
      "source": []
    },
    {
      "cell_type": "code",
      "execution_count": 14,
      "metadata": {
        "id": "mQfvqz19HUr0"
      },
      "outputs": [],
      "source": [
        "labels = labels.sample(frac=1).reset_index(drop=True)"
      ]
    },
    {
      "cell_type": "code",
      "execution_count": 15,
      "metadata": {
        "id": "8wT7lsm_HZm9"
      },
      "outputs": [],
      "source": [
        "def groupAge(age):\n",
        "#   Age (0-28 ) as children(28-56) as Young , (56-84) as Adults and (84-116) as Old.\n",
        "    if age>=0 and age<28:\n",
        "        return '0 - 28'\n",
        "    elif age>=28 and age<56:\n",
        "        return '28 - 56'\n",
        "    elif age>=56 and age<84:\n",
        "        return '56 - 24'\n",
        "    elif age>=84 and age<=116:\n",
        "        return '84 - 116'"
      ]
    },
    {
      "cell_type": "code",
      "execution_count": 16,
      "metadata": {},
      "outputs": [],
      "source": [
        " #White, Black, Asian, Indian, and Others\n",
        " def groupRace(race):\n",
        "    if race == 0:\n",
        "        return 'White'\n",
        "    elif race == 1:\n",
        "        return 'Black'\n",
        "    elif race == 2:\n",
        "        return 'Asian'\n",
        "    elif race == 3:\n",
        "        return 'Indian'\n",
        "    else:\n",
        "        return 'Other'\n"
      ]
    },
    {
      "cell_type": "code",
      "execution_count": 17,
      "metadata": {
        "id": "1p2Ql-OHH2On"
      },
      "outputs": [],
      "source": [
        "import numpy as np \n",
        "import cv2\n",
        "import random\n",
        "import matplotlib.pyplot as plt\n",
        "\n",
        "%matplotlib inline\n",
        "\n",
        "#from tensorflow.keras.utils import to_categorical"
      ]
    },
    {
      "cell_type": "code",
      "execution_count": 18,
      "metadata": {},
      "outputs": [],
      "source": [
        "def to_categorical(y, num_classes):\n",
        "    \"\"\" 1-hot encodes a tensor \"\"\"\n",
        "    return np.eye(num_classes, dtype='uint8')[y]"
      ]
    },
    {
      "cell_type": "code",
      "execution_count": 19,
      "metadata": {
        "id": "V9SNoaVCH4Q-"
      },
      "outputs": [],
      "source": [
        "def formatdata(train_count, validation_count, test_count):\n",
        "  partitions = {'train': [],\n",
        "                'validation': [],\n",
        "                'test': []}\n",
        "  labels_dict = {'train_age': [], 'train_gender': [], 'train_ethnicity': [],\n",
        "                 'validation_age': [], 'validation_gender': [], 'validation_ethnicity': [],\n",
        "                 'test_age': [], 'test_gender': [], 'test_ethnicity': []}\n",
        "  random.seed(1)\n",
        "\n",
        "  print(\"[INFO] Preparing train data....\")\n",
        "  for ID in range(train_count):\n",
        "    try:\n",
        "        data = labels.loc[labels['image_id'] == images[ID][:-4]].values\n",
        "        labels_dict['train_age'].append(groupAge(data[0][1]))\n",
        "        labels_dict['train_gender'].append(data[0][2])\n",
        "        labels_dict['train_ethnicity'].append(groupRace(data[0][3]))\n",
        "        partitions['train'].append(images[ID])\n",
        "    except IndexError:\n",
        "        print(\"[ERROR]\", images[ID])\n",
        "        discared_data.append(images[ID])\n",
        "  print(\"[INFO] Done\")\n",
        "\n",
        "  print(\"[INFO] Preparing validation data....\")\n",
        "  for ID in range(train_count, train_count+validation_count):\n",
        "    try:\n",
        "        data = labels.loc[labels['image_id'] == images[ID][:-4]].values\n",
        "        labels_dict['validation_age'].append(groupAge(data[0][1]))\n",
        "        labels_dict['validation_gender'].append(data[0][2])\n",
        "        labels_dict['validation_ethnicity'].append(groupRace(data[0][3]))\n",
        "        partitions['validation'].append(images[ID])\n",
        "    except IndexError:\n",
        "        print(\"[ERROR]\", images[ID])\n",
        "        discared_data.append(images[ID])\n",
        "  print(\"[INFO] Done\")\n",
        "\n",
        "  ## Uncomment to get test split\n",
        "  print(\"[INFO] Preparing test data....\")\n",
        "  for ID in range(train_count+validation_count,train_count+validation_count+test_count):\n",
        "    try:\n",
        "        data = labels.loc[labels['image_id'] == images[ID][:-4]].values\n",
        "        labels_dict['test_age'].append(groupAge(data[0][1]))\n",
        "        labels_dict['test_gender'].append(data[0][2])\n",
        "        labels_dict['test_ethnicity'].append(groupRace(data[0][3]))\n",
        "        partitions['test'].append(images[ID])\n",
        "    except IndexError:\n",
        "        print(\"[ERROR]\", images[ID])\n",
        "        discared_data.append(images[ID])\n",
        "  print(\"[INFO] Done\")\n",
        "\n",
        "  return partitions, labels_dict"
      ]
    },
    {
      "cell_type": "code",
      "execution_count": 20,
      "metadata": {
        "colab": {
          "base_uri": "https://localhost:8080/"
        },
        "id": "zZmAfjI5IKTG",
        "outputId": "17b9d79f-02a8-4267-8b78-a43c94a56909"
      },
      "outputs": [
        {
          "name": "stdout",
          "output_type": "stream",
          "text": [
            "[INFO] Preparing train data....\n",
            "[INFO] Done\n",
            "[INFO] Preparing validation data....\n",
            "[INFO] Done\n",
            "[INFO] Preparing test data....\n",
            "[INFO] Done\n"
          ]
        }
      ],
      "source": [
        "# train:validation:test = 70:20:10 = 16596:4742:2370\n",
        "\n",
        "train_count = 16595\n",
        "validation_count = 4741\n",
        "test_count = 2369\n",
        "\n",
        "partitions, labels_dict = formatdata(train_count, validation_count, test_count)"
      ]
    },
    {
      "cell_type": "code",
      "execution_count": 21,
      "metadata": {
        "colab": {
          "base_uri": "https://localhost:8080/"
        },
        "id": "rGLOSnJDJ2eB",
        "outputId": "8bf7a714-2ad5-43ce-f791-0430764f64c2"
      },
      "outputs": [
        {
          "name": "stdout",
          "output_type": "stream",
          "text": [
            "[INFO] Training Data\n",
            "Size of train data:  16595\n",
            "Size of age as label:  16595\n",
            "Size of gender as label:  16595\n",
            "Size of ethnicity as label:  16595\n",
            "\n",
            "\n",
            "[INFO] Validation Data\n",
            "Size of validation data:  4741\n",
            "Size of age as label:  4741\n",
            "Size of gender as label:  4741\n",
            "Size of ethnicity as label:  4741\n",
            "\n",
            "\n",
            "[INFO] Test Data\n",
            "Size of test data:  2369\n",
            "Size of age as label:  2369\n",
            "Size of gender as label:  2369\n",
            "Size of ethnicity as label:  2369\n"
          ]
        }
      ],
      "source": [
        "print(\"[INFO] Training Data\")\n",
        "print(\"Size of train data: \", len(partitions['train']))\n",
        "print(\"Size of age as label: \", len(labels_dict['train_age']))\n",
        "print(\"Size of gender as label: \", len(labels_dict['train_gender']))\n",
        "print(\"Size of ethnicity as label: \", len(labels_dict['train_ethnicity']))\n",
        "print(\"\\n\")\n",
        "print(\"[INFO] Validation Data\")\n",
        "print(\"Size of validation data: \", len(partitions['validation']))\n",
        "print(\"Size of age as label: \", len(labels_dict['validation_age']))\n",
        "print(\"Size of gender as label: \", len(labels_dict['validation_gender']))\n",
        "print(\"Size of ethnicity as label: \", len(labels_dict['validation_ethnicity']))\n",
        "print(\"\\n\")\n",
        "# Uncomment to log test split details\n",
        "print(\"[INFO] Test Data\")\n",
        "print(\"Size of test data: \", len(partitions['test']))\n",
        "print(\"Size of age as label: \", len(labels_dict['test_age']))\n",
        "print(\"Size of gender as label: \", len(labels_dict['test_gender']))\n",
        "print(\"Size of ethnicity as label: \", len(labels_dict['test_ethnicity']))"
      ]
    },
    {
      "cell_type": "code",
      "execution_count": 22,
      "metadata": {
        "id": "qEeiv2AyKGDm"
      },
      "outputs": [],
      "source": [
        "import imageio"
      ]
    },
    {
      "cell_type": "code",
      "execution_count": 27,
      "metadata": {
        "id": "d5_NQJc3KtH8"
      },
      "outputs": [],
      "source": [
        "def loadImages(images, imagesPath):\n",
        "    print(\"[INFO] Loading....\")\n",
        "    X = []\n",
        "    count = 0\n",
        "    for image in images:\n",
        "        if count%1000==0:\n",
        "            print(\"[INFO] {} images loaded\".format(count))\n",
        "        img = imageio.imread(imagesPath+'/'+image)\n",
        "        img = np.array(img)\n",
        "        #resized_images = rescale(img, 0.5, anti_aliasing=False)\n",
        "        resized_images = cv2.resize(img,(32,32))\n",
        "        X.append(resized_images)\n",
        "        count+=1\n",
        "    print(\"[INFO] Done\")\n",
        "    return np.array(X)"
      ]
    },
    {
      "cell_type": "code",
      "execution_count": 28,
      "metadata": {
        "colab": {
          "base_uri": "https://localhost:8080/"
        },
        "id": "n2kp7x8FKu5U",
        "outputId": "653dce85-f1ed-4c7a-b925-6e9836236388"
      },
      "outputs": [
        {
          "name": "stdout",
          "output_type": "stream",
          "text": [
            "[INFO] Training Data\n",
            "[INFO] Loading....\n",
            "[INFO] 0 images loaded\n",
            "[INFO] 1000 images loaded\n",
            "[INFO] 2000 images loaded\n",
            "[INFO] 3000 images loaded\n",
            "[INFO] 4000 images loaded\n",
            "[INFO] 5000 images loaded\n",
            "[INFO] 6000 images loaded\n",
            "[INFO] 7000 images loaded\n",
            "[INFO] 8000 images loaded\n",
            "[INFO] 9000 images loaded\n",
            "[INFO] 10000 images loaded\n",
            "[INFO] 11000 images loaded\n",
            "[INFO] 12000 images loaded\n",
            "[INFO] 13000 images loaded\n",
            "[INFO] 14000 images loaded\n",
            "[INFO] 15000 images loaded\n",
            "[INFO] 16000 images loaded\n",
            "[INFO] Done\n",
            "[INFO] Validation Data\n",
            "[INFO] Loading....\n",
            "[INFO] 0 images loaded\n",
            "[INFO] 1000 images loaded\n",
            "[INFO] 2000 images loaded\n",
            "[INFO] 3000 images loaded\n",
            "[INFO] 4000 images loaded\n",
            "[INFO] Done\n"
          ]
        }
      ],
      "source": [
        "print(\"[INFO] Training Data\")\n",
        "trainX = loadImages(partitions['train'], 'images/')\n",
        "print(\"[INFO] Validation Data\")\n",
        "validationX = loadImages(partitions['validation'], 'images/')"
      ]
    },
    {
      "cell_type": "code",
      "execution_count": 29,
      "metadata": {},
      "outputs": [
        {
          "name": "stdout",
          "output_type": "stream",
          "text": [
            "[INFO] test Data\n",
            "[INFO] Loading....\n",
            "[INFO] 0 images loaded\n",
            "[INFO] 1000 images loaded\n",
            "[INFO] 2000 images loaded\n",
            "[INFO] Done\n"
          ]
        }
      ],
      "source": [
        "print(\"[INFO] test Data\")\n",
        "testX = loadImages(partitions['test'], 'images/')\n",
        "testX = testX/255.0\n",
        "testX_reshape = testX.flatten().reshape(testX.shape[0],testX.shape[1]* testX.shape[2]* testX.shape[3])"
      ]
    },
    {
      "cell_type": "code",
      "execution_count": 30,
      "metadata": {
        "id": "nwbdEg_GKxJM"
      },
      "outputs": [],
      "source": [
        "trainX = trainX/255.0\n",
        "validationX = validationX/255.0"
      ]
    },
    {
      "cell_type": "code",
      "execution_count": 31,
      "metadata": {
        "colab": {
          "base_uri": "https://localhost:8080/"
        },
        "id": "_23tYAnCKz0Q",
        "outputId": "9a52c6f1-8df3-41ca-ee60-c4bca80eae17"
      },
      "outputs": [
        {
          "name": "stdout",
          "output_type": "stream",
          "text": [
            "[INFO] Training Images:  (16595, 32, 32, 3)\n",
            "[INFO] Validation Images:  (4741, 32, 32, 3)\n"
          ]
        }
      ],
      "source": [
        "print(\"[INFO] Training Images: \", trainX.shape)\n",
        "print(\"[INFO] Validation Images: \", validationX.shape)\n",
        "trainX_reshape = trainX.flatten().reshape(trainX.shape[0],trainX.shape[1]* trainX.shape[2]* trainX.shape[3] )\n",
        "validationX_reshape = validationX.flatten().reshape(validationX.shape[0],validationX.shape[1]* validationX.shape[2]* validationX.shape[3])"
      ]
    },
    {
      "cell_type": "code",
      "execution_count": 32,
      "metadata": {
        "id": "2pfbyI6MmxMH"
      },
      "outputs": [
        {
          "name": "stdout",
          "output_type": "stream",
          "text": [
            "(16595, 3072) (4741, 3072)\n"
          ]
        }
      ],
      "source": [
        "print(trainX_reshape.shape, validationX_reshape.shape)\n"
      ]
    },
    {
      "cell_type": "code",
      "execution_count": 33,
      "metadata": {
        "id": "t8awXASCK1_3"
      },
      "outputs": [],
      "source": [
        "trainY = {\n",
        "    'gender': np.array(labels_dict['train_gender']),\n",
        "    'ethnicity': np.array(labels_dict['train_ethnicity']),\n",
        "    'age': np.array(labels_dict['train_age'])\n",
        "}\n",
        "\n",
        "validationY = {\n",
        "    'gender': np.array(labels_dict['validation_gender']),\n",
        "    'ethnicity': np.array(labels_dict['validation_ethnicity']),\n",
        "    'age': np.array(labels_dict['validation_age'])\n",
        "}\n",
        "testY = {\n",
        "    'gender': np.array(labels_dict['test_gender']),\n",
        "    'ethnicity': np.array(labels_dict['test_ethnicity']),\n",
        "    'age': np.array(labels_dict['test_age'])\n",
        "}\n",
        "\n",
        "trainY['gender'] = trainY['gender'].reshape(trainY['gender'].shape[0], 1)\n",
        "validationY['gender'] = validationY['gender'].reshape(validationY['gender'].shape[0], 1)\n",
        "sample_test = testY['gender']\n",
        "testY['gender'] = testY['gender'].reshape(testY['gender'].shape[0], 1)"
      ]
    },
    {
      "cell_type": "code",
      "execution_count": 34,
      "metadata": {},
      "outputs": [
        {
          "name": "stdout",
          "output_type": "stream",
          "text": [
            "['0 - 28' '28 - 56' '0 - 28' ... '28 - 56' '0 - 28' '0 - 28']\n"
          ]
        }
      ],
      "source": [
        "print(testY['age'])"
      ]
    },
    {
      "cell_type": "code",
      "execution_count": 35,
      "metadata": {
        "colab": {
          "base_uri": "https://localhost:8080/"
        },
        "id": "U1Mv3c0IK_fb",
        "outputId": "c4b7db67-3ec0-4060-c005-a066505f3886"
      },
      "outputs": [
        {
          "name": "stdout",
          "output_type": "stream",
          "text": [
            "Training labels\n",
            "[INFO] Shape of gender label:  (16595, 1)\n",
            "[INFO] Shape of ethnicity label:  (16595,)\n",
            "[INFO] Shape of age label:  (16595,)\n",
            "\n",
            "Validation labels\n",
            "[INFO] Shape of gender label:  (4741, 1)\n",
            "[INFO] Shape of ethnicity label:  (4741,)\n",
            "[INFO] Shape of age label:  (4741,)\n"
          ]
        }
      ],
      "source": [
        "print('Training labels')\n",
        "print('[INFO] Shape of gender label: ', trainY['gender'].shape)\n",
        "print('[INFO] Shape of ethnicity label: ', trainY['ethnicity'].shape)\n",
        "print('[INFO] Shape of age label: ', trainY['age'].shape)\n",
        "print('\\nValidation labels')\n",
        "print('[INFO] Shape of gender label: ', validationY['gender'].shape)\n",
        "print('[INFO] Shape of ethnicity label: ', validationY['ethnicity'].shape)\n",
        "print('[INFO] Shape of age label: ', validationY['age'].shape)"
      ]
    },
    {
      "cell_type": "code",
      "execution_count": 36,
      "metadata": {
        "id": "sbHKPthf1c0L"
      },
      "outputs": [
        {
          "data": {
            "text/plain": [
              "'def validate(X_val, y_val, i):\\n    predicted = clf.predict(X_val)\\n    accuracy = metrics.accuracy_score(y_val, predicted)\\n    print(accuracy, i)\\n    if accuracy < 0.11:\\n        pass\\n        print(\"Skipping for gamma {}\". format(i))\\n    candidate = {\\n        \\'acc_valid\\' : accuracy,\\n        \\'gamma\\' : i,\\n        }\\n    return candidate'"
            ]
          },
          "execution_count": 36,
          "metadata": {},
          "output_type": "execute_result"
        }
      ],
      "source": [
        "\"\"\"def validate(X_val, y_val, i):\n",
        "    predicted = clf.predict(X_val)\n",
        "    accuracy = metrics.accuracy_score(y_val, predicted)\n",
        "    print(accuracy, i)\n",
        "    if accuracy < 0.11:\n",
        "        pass\n",
        "        print(\"Skipping for gamma {}\". format(i))\n",
        "    candidate = {\n",
        "        'acc_valid' : accuracy,\n",
        "        'gamma' : i,\n",
        "        }\n",
        "    return candidate\"\"\""
      ]
    },
    {
      "cell_type": "code",
      "execution_count": 37,
      "metadata": {},
      "outputs": [
        {
          "data": {
            "text/plain": [
              "'mydir = \"/DATA/roy2/DAI/models\"\\nif os.path.exists(mydir):\\n    shutil.rmtree(mydir)'"
            ]
          },
          "execution_count": 37,
          "metadata": {},
          "output_type": "execute_result"
        }
      ],
      "source": [
        "\"\"\"mydir = \"/DATA/roy2/DAI/models\"\n",
        "if os.path.exists(mydir):\n",
        "    shutil.rmtree(mydir)\"\"\"\n"
      ]
    },
    {
      "cell_type": "code",
      "execution_count": 38,
      "metadata": {
        "colab": {
          "base_uri": "https://localhost:8080/"
        },
        "id": "9BlXLWi81LgM",
        "outputId": "da6ff378-7fee-4527-ec03-43c935e07ab6"
      },
      "outputs": [
        {
          "data": {
            "text/plain": [
              "'parames = [1e-7,1e-5,1e-3,0.01,0.1,1]\\nmodel_candidate = []\\nfor i in parames:\\n  clf = svm.SVC(kernel = \\'linear\\', gamma=i)\\n  clf.fit(trainX_reshape, trainY[\\'gender\\'])\\n  model_candidate.append(validate(validationX_reshape, validationY[\\'gender\\'],i))\\n  mydir = \"/DATA/roy2/DAI/models/\" \\n  output = mydir+\"gamma_{}\".format(i)\\n  os.makedirs(output)\\n  dump(clf, os.path.join(output,\"model.joblib\"))'"
            ]
          },
          "execution_count": 38,
          "metadata": {},
          "output_type": "execute_result"
        }
      ],
      "source": [
        "\"\"\"parames = [1e-7,1e-5,1e-3,0.01,0.1,1]\n",
        "model_candidate = []\n",
        "for i in parames:\n",
        "  clf = svm.SVC(kernel = 'linear', gamma=i)\n",
        "  clf.fit(trainX_reshape, trainY['gender'])\n",
        "  model_candidate.append(validate(validationX_reshape, validationY['gender'],i))\n",
        "  mydir = \"/DATA/roy2/DAI/models/\" \n",
        "  output = mydir+\"gamma_{}\".format(i)\n",
        "  os.makedirs(output)\n",
        "  dump(clf, os.path.join(output,\"model.joblib\"))\"\"\"\n"
      ]
    },
    {
      "cell_type": "code",
      "execution_count": 39,
      "metadata": {
        "id": "wdQ1LSIJ7Xiw"
      },
      "outputs": [
        {
          "data": {
            "text/plain": [
              "'def report(clf, y_test, predicted):\\n    print(f\"Classification report for classifier {clf}:\\n\"\\n      f\"{metrics.classification_report(y_test, predicted)}\\n\")\\n\\ndef test(X_test, y_test,best_model_folder):\\n    clf = load(os.path.join(best_model_folder,\"model.joblib\"))\\n    predicted = clf.predict(X_test)\\n    report(clf, y_test, predicted)\\n    return clf, predicted # classification report function'"
            ]
          },
          "execution_count": 39,
          "metadata": {},
          "output_type": "execute_result"
        }
      ],
      "source": [
        "\"\"\"def report(clf, y_test, predicted):\n",
        "    print(f\"Classification report for classifier {clf}:\\n\"\n",
        "      f\"{metrics.classification_report(y_test, predicted)}\\n\")\n",
        "\n",
        "def test(X_test, y_test,best_model_folder):\n",
        "    clf = load(os.path.join(best_model_folder,\"model.joblib\"))\n",
        "    predicted = clf.predict(X_test)\n",
        "    report(clf, y_test, predicted)\n",
        "    return clf, predicted # classification report function\"\"\""
      ]
    },
    {
      "cell_type": "code",
      "execution_count": 40,
      "metadata": {
        "colab": {
          "base_uri": "https://localhost:8080/"
        },
        "id": "gyqqgeyBLBba",
        "outputId": "706e17b3-a9b2-47c8-eb5c-46626a9f31f0"
      },
      "outputs": [],
      "source": [
        "# clf = SVC().fit(trainX_reshape, trainY['gender'])"
      ]
    },
    {
      "cell_type": "code",
      "execution_count": 41,
      "metadata": {
        "id": "vn-sKtuamA6u"
      },
      "outputs": [
        {
          "data": {
            "text/plain": [
              "'\\nbest_model_folder = \"/DATA/roy2/DAI/models/gamma_{}\".format(0.01)\\n\\nclf, predicted = test(testX_reshape, testY[\\'gender\\'],best_model_folder)'"
            ]
          },
          "execution_count": 41,
          "metadata": {},
          "output_type": "execute_result"
        }
      ],
      "source": [
        "#max_valid = max(model_candidate, key = lambda x: x['acc_valid']) # extract the model based on max accuracy\n",
        "\"\"\"\n",
        "best_model_folder = \"/DATA/roy2/DAI/models/gamma_{}\".format(0.01)\n",
        "\n",
        "clf, predicted = test(testX_reshape, testY['gender'],best_model_folder)\"\"\" # test function"
      ]
    },
    {
      "cell_type": "code",
      "execution_count": 42,
      "metadata": {
        "colab": {
          "base_uri": "https://localhost:8080/"
        },
        "id": "2QP04373xo8D",
        "outputId": "9c79f021-fc36-48e2-de79-5974aef7cc42"
      },
      "outputs": [],
      "source": [
        "# print(accuracy)\n",
        "#model_candidate"
      ]
    },
    {
      "cell_type": "code",
      "execution_count": 43,
      "metadata": {},
      "outputs": [
        {
          "name": "stderr",
          "output_type": "stream",
          "text": [
            "/DATA/roy2/miniconda3/envs/py36/lib/python3.6/site-packages/sklearn/externals/joblib/__init__.py:15: DeprecationWarning: sklearn.externals.joblib is deprecated in 0.21 and will be removed in 0.23. Please import this functionality directly from joblib, which can be installed with: pip install joblib. If this warning is raised when loading pickled models, you may need to re-serialize those models with scikit-learn 0.21+.\n",
            "  warnings.warn(msg, category=DeprecationWarning)\n",
            "/DATA/roy2/miniconda3/envs/py36/lib/python3.6/site-packages/sklearn/utils/validation.py:724: DataConversionWarning: A column-vector y was passed when a 1d array was expected. Please change the shape of y to (n_samples, ), for example using ravel().\n",
            "  y = column_or_1d(y, warn=True)\n"
          ]
        },
        {
          "data": {
            "text/plain": [
              "['/DATA/roy2/DAI/models/clf.pkl']"
            ]
          },
          "execution_count": 43,
          "metadata": {},
          "output_type": "execute_result"
        }
      ],
      "source": [
        "# for  gamma = 'auto'\n",
        "from sklearn.externals import joblib\n",
        "\n",
        "clf = svm.SVC(kernel = 'linear', gamma='auto', probability = True)\n",
        "clf.fit(trainX_reshape, trainY['gender'])\n",
        "joblib.dump(clf,'/DATA/roy2/DAI/models/clf.pkl')"
      ]
    },
    {
      "cell_type": "code",
      "execution_count": 44,
      "metadata": {},
      "outputs": [],
      "source": [
        "y_prob = clf.predict_proba(testX_reshape)\n",
        "y_pred = clf.predict(testX_reshape)\n",
        "accuracy = clf.score(testX_reshape, testY['gender'])\n",
        "cm = confusion_matrix(testY['gender'], y_pred)"
      ]
    },
    {
      "cell_type": "code",
      "execution_count": 45,
      "metadata": {},
      "outputs": [
        {
          "data": {
            "text/plain": [
              "0.8547910510764035"
            ]
          },
          "execution_count": 45,
          "metadata": {},
          "output_type": "execute_result"
        }
      ],
      "source": [
        "accuracy"
      ]
    },
    {
      "cell_type": "code",
      "execution_count": 46,
      "metadata": {
        "colab": {
          "base_uri": "https://localhost:8080/"
        },
        "id": "6Cb7ozQJy8hX",
        "outputId": "8ed231b2-557d-403e-9ddc-7aaf7c27623b"
      },
      "outputs": [
        {
          "data": {
            "text/html": [
              "<div>\n",
              "<style scoped>\n",
              "    .dataframe tbody tr th:only-of-type {\n",
              "        vertical-align: middle;\n",
              "    }\n",
              "\n",
              "    .dataframe tbody tr th {\n",
              "        vertical-align: top;\n",
              "    }\n",
              "\n",
              "    .dataframe thead th {\n",
              "        text-align: right;\n",
              "    }\n",
              "</style>\n",
              "<table border=\"1\" class=\"dataframe\">\n",
              "  <thead>\n",
              "    <tr style=\"text-align: right;\">\n",
              "      <th></th>\n",
              "      <th>female</th>\n",
              "      <th>male</th>\n",
              "    </tr>\n",
              "  </thead>\n",
              "  <tbody>\n",
              "    <tr>\n",
              "      <th>female</th>\n",
              "      <td>1076</td>\n",
              "      <td>183</td>\n",
              "    </tr>\n",
              "    <tr>\n",
              "      <th>male</th>\n",
              "      <td>161</td>\n",
              "      <td>949</td>\n",
              "    </tr>\n",
              "  </tbody>\n",
              "</table>\n",
              "</div>"
            ],
            "text/plain": [
              "        female  male\n",
              "female    1076   183\n",
              "male       161   949"
            ]
          },
          "execution_count": 46,
          "metadata": {},
          "output_type": "execute_result"
        }
      ],
      "source": [
        "pd.DataFrame(cm, index = ['female', 'male'], columns = ['female','male' ])"
      ]
    },
    {
      "cell_type": "markdown",
      "metadata": {},
      "source": [
        "# Creating Dataframe for class-wise accuracy"
      ]
    },
    {
      "cell_type": "code",
      "execution_count": 47,
      "metadata": {
        "id": "wRRY3NT6y-ks"
      },
      "outputs": [],
      "source": [
        "df_test = pd.DataFrame()\n",
        "df_test['gender'] = sample_test\n",
        "df_test['age'] = testY['age']\n",
        "df_test['ethnicity'] = testY['ethnicity']\n",
        "df_test['predicted'] = y_pred\n",
        "#df_test['input'] = testX"
      ]
    },
    {
      "cell_type": "code",
      "execution_count": 48,
      "metadata": {},
      "outputs": [
        {
          "data": {
            "text/html": [
              "<div>\n",
              "<style scoped>\n",
              "    .dataframe tbody tr th:only-of-type {\n",
              "        vertical-align: middle;\n",
              "    }\n",
              "\n",
              "    .dataframe tbody tr th {\n",
              "        vertical-align: top;\n",
              "    }\n",
              "\n",
              "    .dataframe thead th {\n",
              "        text-align: right;\n",
              "    }\n",
              "</style>\n",
              "<table border=\"1\" class=\"dataframe\">\n",
              "  <thead>\n",
              "    <tr style=\"text-align: right;\">\n",
              "      <th></th>\n",
              "      <th>gender</th>\n",
              "      <th>age</th>\n",
              "      <th>ethnicity</th>\n",
              "      <th>predicted</th>\n",
              "    </tr>\n",
              "  </thead>\n",
              "  <tbody>\n",
              "    <tr>\n",
              "      <th>0</th>\n",
              "      <td>0</td>\n",
              "      <td>0 - 28</td>\n",
              "      <td>Black</td>\n",
              "      <td>0</td>\n",
              "    </tr>\n",
              "    <tr>\n",
              "      <th>1</th>\n",
              "      <td>0</td>\n",
              "      <td>28 - 56</td>\n",
              "      <td>Black</td>\n",
              "      <td>1</td>\n",
              "    </tr>\n",
              "    <tr>\n",
              "      <th>2</th>\n",
              "      <td>1</td>\n",
              "      <td>0 - 28</td>\n",
              "      <td>Black</td>\n",
              "      <td>0</td>\n",
              "    </tr>\n",
              "    <tr>\n",
              "      <th>3</th>\n",
              "      <td>0</td>\n",
              "      <td>28 - 56</td>\n",
              "      <td>White</td>\n",
              "      <td>0</td>\n",
              "    </tr>\n",
              "    <tr>\n",
              "      <th>4</th>\n",
              "      <td>1</td>\n",
              "      <td>0 - 28</td>\n",
              "      <td>Indian</td>\n",
              "      <td>1</td>\n",
              "    </tr>\n",
              "    <tr>\n",
              "      <th>...</th>\n",
              "      <td>...</td>\n",
              "      <td>...</td>\n",
              "      <td>...</td>\n",
              "      <td>...</td>\n",
              "    </tr>\n",
              "    <tr>\n",
              "      <th>2364</th>\n",
              "      <td>1</td>\n",
              "      <td>0 - 28</td>\n",
              "      <td>Indian</td>\n",
              "      <td>1</td>\n",
              "    </tr>\n",
              "    <tr>\n",
              "      <th>2365</th>\n",
              "      <td>0</td>\n",
              "      <td>0 - 28</td>\n",
              "      <td>Asian</td>\n",
              "      <td>0</td>\n",
              "    </tr>\n",
              "    <tr>\n",
              "      <th>2366</th>\n",
              "      <td>0</td>\n",
              "      <td>28 - 56</td>\n",
              "      <td>Black</td>\n",
              "      <td>0</td>\n",
              "    </tr>\n",
              "    <tr>\n",
              "      <th>2367</th>\n",
              "      <td>1</td>\n",
              "      <td>0 - 28</td>\n",
              "      <td>White</td>\n",
              "      <td>1</td>\n",
              "    </tr>\n",
              "    <tr>\n",
              "      <th>2368</th>\n",
              "      <td>1</td>\n",
              "      <td>0 - 28</td>\n",
              "      <td>Indian</td>\n",
              "      <td>1</td>\n",
              "    </tr>\n",
              "  </tbody>\n",
              "</table>\n",
              "<p>2369 rows × 4 columns</p>\n",
              "</div>"
            ],
            "text/plain": [
              "      gender      age ethnicity  predicted\n",
              "0          0   0 - 28     Black          0\n",
              "1          0  28 - 56     Black          1\n",
              "2          1   0 - 28     Black          0\n",
              "3          0  28 - 56     White          0\n",
              "4          1   0 - 28    Indian          1\n",
              "...      ...      ...       ...        ...\n",
              "2364       1   0 - 28    Indian          1\n",
              "2365       0   0 - 28     Asian          0\n",
              "2366       0  28 - 56     Black          0\n",
              "2367       1   0 - 28     White          1\n",
              "2368       1   0 - 28    Indian          1\n",
              "\n",
              "[2369 rows x 4 columns]"
            ]
          },
          "execution_count": 48,
          "metadata": {},
          "output_type": "execute_result"
        }
      ],
      "source": [
        "df_test"
      ]
    },
    {
      "cell_type": "code",
      "execution_count": 49,
      "metadata": {},
      "outputs": [],
      "source": [
        "l = df_test['age'].unique()\n",
        "gk = df_test.groupby('age')\n"
      ]
    },
    {
      "cell_type": "code",
      "execution_count": 50,
      "metadata": {},
      "outputs": [
        {
          "name": "stdout",
          "output_type": "stream",
          "text": [
            "0 - 28\n",
            "0.7909604519774012\n",
            "[[333  87]\n",
            " [135 507]]\n",
            "28 - 56\n",
            "0.9237713139418254\n",
            "[[567  44]\n",
            " [ 32 354]]\n",
            "56 - 24\n",
            "0.8913857677902621\n",
            "[[164  16]\n",
            " [ 13  74]]\n",
            "84 - 116\n",
            "0.6046511627906976\n",
            "[[12 14]\n",
            " [ 3 14]]\n"
          ]
        }
      ],
      "source": [
        "acc = []\n",
        "group_age = []\n",
        "count = []\n",
        "for i in range(len(l)):\n",
        "    df_test_age=gk.get_group(l[i])\n",
        "    accuracy = accuracy_score(df_test_age['predicted'], df_test_age['gender'])\n",
        "    cm = confusion_matrix(df_test_age['predicted'], df_test_age['gender'])\n",
        "    acc.append(accuracy)\n",
        "    group_age.append(l[i])\n",
        "    count.append(len(df_test_age))\n",
        "    print(l[i])\n",
        "    print(accuracy)\n",
        "    print(cm)"
      ]
    },
    {
      "cell_type": "code",
      "execution_count": 51,
      "metadata": {},
      "outputs": [
        {
          "data": {
            "text/html": [
              "<div>\n",
              "<style scoped>\n",
              "    .dataframe tbody tr th:only-of-type {\n",
              "        vertical-align: middle;\n",
              "    }\n",
              "\n",
              "    .dataframe tbody tr th {\n",
              "        vertical-align: top;\n",
              "    }\n",
              "\n",
              "    .dataframe thead th {\n",
              "        text-align: right;\n",
              "    }\n",
              "</style>\n",
              "<table border=\"1\" class=\"dataframe\">\n",
              "  <thead>\n",
              "    <tr style=\"text-align: right;\">\n",
              "      <th></th>\n",
              "      <th>age</th>\n",
              "      <th>acc</th>\n",
              "      <th>count</th>\n",
              "    </tr>\n",
              "  </thead>\n",
              "  <tbody>\n",
              "    <tr>\n",
              "      <th>0</th>\n",
              "      <td>0 - 28</td>\n",
              "      <td>0.790960</td>\n",
              "      <td>1062</td>\n",
              "    </tr>\n",
              "    <tr>\n",
              "      <th>1</th>\n",
              "      <td>28 - 56</td>\n",
              "      <td>0.923771</td>\n",
              "      <td>997</td>\n",
              "    </tr>\n",
              "    <tr>\n",
              "      <th>2</th>\n",
              "      <td>56 - 24</td>\n",
              "      <td>0.891386</td>\n",
              "      <td>267</td>\n",
              "    </tr>\n",
              "    <tr>\n",
              "      <th>3</th>\n",
              "      <td>84 - 116</td>\n",
              "      <td>0.604651</td>\n",
              "      <td>43</td>\n",
              "    </tr>\n",
              "  </tbody>\n",
              "</table>\n",
              "</div>"
            ],
            "text/plain": [
              "        age       acc  count\n",
              "0    0 - 28  0.790960   1062\n",
              "1   28 - 56  0.923771    997\n",
              "2   56 - 24  0.891386    267\n",
              "3  84 - 116  0.604651     43"
            ]
          },
          "execution_count": 51,
          "metadata": {},
          "output_type": "execute_result"
        }
      ],
      "source": [
        "df_age_result = pd.DataFrame()\n",
        "df_age_result['age'] = group_age\n",
        "df_age_result['acc'] = acc\n",
        "df_age_result['count'] = count\n",
        "df_age_result"
      ]
    },
    {
      "cell_type": "code",
      "execution_count": 52,
      "metadata": {},
      "outputs": [
        {
          "name": "stdout",
          "output_type": "stream",
          "text": [
            "Black\n",
            "0.8760683760683761\n",
            "[[217  32]\n",
            " [ 26 193]]\n",
            "White\n",
            "0.8507772020725388\n",
            "[[451  67]\n",
            " [ 77 370]]\n",
            "Indian\n",
            "0.9007263922518159\n",
            "[[215  23]\n",
            " [ 18 157]]\n",
            "Asian\n",
            "0.7982456140350878\n",
            "[[120  27]\n",
            " [ 42 153]]\n",
            "Other\n",
            "0.8232044198895028\n",
            "[[73 12]\n",
            " [20 76]]\n"
          ]
        }
      ],
      "source": [
        "l = df_test['ethnicity'].unique()\n",
        "#print(l)\n",
        "gk1 = df_test.groupby('ethnicity')\n",
        "acc = []\n",
        "group_race = []\n",
        "count = []\n",
        "for i in range(len(l)):\n",
        "    df_test_race=gk1.get_group(l[i])\n",
        "    accuracy = accuracy_score(df_test_race['predicted'], df_test_race['gender'])\n",
        "    cm = confusion_matrix(df_test_race['predicted'], df_test_race['gender'])\n",
        "    acc.append(accuracy)\n",
        "    group_race.append(l[i])\n",
        "    count.append(len(df_test_race))\n",
        "    print(l[i])\n",
        "    print(accuracy)\n",
        "    print(cm)\n",
        "    df_test_race = pd.DataFrame()"
      ]
    },
    {
      "cell_type": "code",
      "execution_count": 53,
      "metadata": {},
      "outputs": [
        {
          "data": {
            "text/html": [
              "<div>\n",
              "<style scoped>\n",
              "    .dataframe tbody tr th:only-of-type {\n",
              "        vertical-align: middle;\n",
              "    }\n",
              "\n",
              "    .dataframe tbody tr th {\n",
              "        vertical-align: top;\n",
              "    }\n",
              "\n",
              "    .dataframe thead th {\n",
              "        text-align: right;\n",
              "    }\n",
              "</style>\n",
              "<table border=\"1\" class=\"dataframe\">\n",
              "  <thead>\n",
              "    <tr style=\"text-align: right;\">\n",
              "      <th></th>\n",
              "      <th>race</th>\n",
              "      <th>acc</th>\n",
              "      <th>count</th>\n",
              "    </tr>\n",
              "  </thead>\n",
              "  <tbody>\n",
              "    <tr>\n",
              "      <th>0</th>\n",
              "      <td>Black</td>\n",
              "      <td>0.876068</td>\n",
              "      <td>468</td>\n",
              "    </tr>\n",
              "    <tr>\n",
              "      <th>1</th>\n",
              "      <td>White</td>\n",
              "      <td>0.850777</td>\n",
              "      <td>965</td>\n",
              "    </tr>\n",
              "    <tr>\n",
              "      <th>2</th>\n",
              "      <td>Indian</td>\n",
              "      <td>0.900726</td>\n",
              "      <td>413</td>\n",
              "    </tr>\n",
              "    <tr>\n",
              "      <th>3</th>\n",
              "      <td>Asian</td>\n",
              "      <td>0.798246</td>\n",
              "      <td>342</td>\n",
              "    </tr>\n",
              "    <tr>\n",
              "      <th>4</th>\n",
              "      <td>Other</td>\n",
              "      <td>0.823204</td>\n",
              "      <td>181</td>\n",
              "    </tr>\n",
              "  </tbody>\n",
              "</table>\n",
              "</div>"
            ],
            "text/plain": [
              "     race       acc  count\n",
              "0   Black  0.876068    468\n",
              "1   White  0.850777    965\n",
              "2  Indian  0.900726    413\n",
              "3   Asian  0.798246    342\n",
              "4   Other  0.823204    181"
            ]
          },
          "execution_count": 53,
          "metadata": {},
          "output_type": "execute_result"
        }
      ],
      "source": [
        "df_race_result = pd.DataFrame()\n",
        "df_race_result['race'] = group_race\n",
        "df_race_result['acc'] = acc\n",
        "df_race_result['count'] = count\n",
        "df_race_result"
      ]
    },
    {
      "cell_type": "code",
      "execution_count": 54,
      "metadata": {},
      "outputs": [],
      "source": [
        "df_age_result.to_csv('/DATA/roy2/DAI/df_age_result.csv', index = False)\n",
        "df_race_result.to_csv('/DATA/roy2/DAI/df_race_result.csv', index = False)"
      ]
    },
    {
      "cell_type": "markdown",
      "metadata": {},
      "source": [
        "# ROC"
      ]
    },
    {
      "cell_type": "code",
      "execution_count": 55,
      "metadata": {},
      "outputs": [],
      "source": [
        "def get_values(y_true, y_prob, thresholds):\n",
        "\n",
        "    fpr = []\n",
        "    tpr = []\n",
        "    precision = []\n",
        "    far = []\n",
        "    frr = []\n",
        "    for threshold in thresholds:\n",
        "\n",
        "        y_pred = np.where(y_prob >= threshold, 1, 0)\n",
        "\n",
        "        # fp = np.sum((y_pred == 1) & (y_true == 0))\n",
        "        # tp = np.sum((y_pred == 1) & (y_true == 1))\n",
        "\n",
        "        # fn = np.sum((y_pred == 0) & (y_true == 1))\n",
        "        # tn = np.sum((y_pred == 0) & (y_true == 0))\n",
        "        tn, fp, fn, tp = confusion_matrix(y_true, y_pred).ravel()\n",
        "\n",
        "        fpr.append(fp / (fp + tn))\n",
        "        tpr.append(tp / (tp + fn))\n",
        "        precision.append(tp / (tp + fp))\n",
        "        far.append(fp / (fp + tn))\n",
        "        frr.append(fn / (tp + fn))\n",
        "    return [fpr, tpr, precision, tpr, far, frr]"
      ]
    },
    {
      "cell_type": "code",
      "execution_count": 56,
      "metadata": {},
      "outputs": [],
      "source": [
        "thresholds = []\n",
        "i = 0.0001\n",
        "while i < 1:\n",
        "  thresholds.append(i)\n",
        "  i += 0.0001"
      ]
    },
    {
      "cell_type": "code",
      "execution_count": 57,
      "metadata": {},
      "outputs": [],
      "source": [
        "y_test = sample_test\n",
        "y_prob = y_prob"
      ]
    },
    {
      "cell_type": "code",
      "execution_count": 58,
      "metadata": {},
      "outputs": [
        {
          "name": "stderr",
          "output_type": "stream",
          "text": [
            "/DATA/roy2/miniconda3/envs/py36/lib/python3.6/site-packages/ipykernel_launcher.py:21: RuntimeWarning: invalid value encountered in long_scalars\n"
          ]
        }
      ],
      "source": [
        "fpr1, tpr1, precision1, recall1, far1, frr1 = get_values(y_test, y_prob[:, 1], thresholds)"
      ]
    },
    {
      "cell_type": "markdown",
      "metadata": {},
      "source": [
        "# Precision - recall curve"
      ]
    },
    {
      "cell_type": "code",
      "execution_count": 60,
      "metadata": {},
      "outputs": [
        {
          "data": {
            "text/plain": [
              "Text(0, 0.5, 'Precision')"
            ]
          },
          "execution_count": 60,
          "metadata": {},
          "output_type": "execute_result"
        },
        {
          "data": {
            "image/png": "[encoded data removed]",
            "text/plain": [
              "<Figure size 432x288 with 1 Axes>"
            ]
          },
          "metadata": {
            "needs_background": "light"
          },
          "output_type": "display_data"
        }
      ],
      "source": [
        "plt.plot(recall1, precision1)\n",
        "plt.title(\"Precision-Recall curve at SVM\")\n",
        "plt.xlabel('Recall')\n",
        "plt.ylabel('Precision')"
      ]
    },
    {
      "cell_type": "code",
      "execution_count": 61,
      "metadata": {},
      "outputs": [
        {
          "data": {
            "text/plain": [
              "<matplotlib.legend.Legend at 0x7f8ca304fcf8>"
            ]
          },
          "execution_count": 61,
          "metadata": {},
          "output_type": "execute_result"
        },
        {
          "data": {
            "image/png": "[encoded data removed]",
            "text/plain": [
              "<Figure size 432x288 with 1 Axes>"
            ]
          },
          "metadata": {
            "needs_background": "light"
          },
          "output_type": "display_data"
        }
      ],
      "source": [
        "plt.plot(far1)\n",
        "plt.plot(frr1)\n",
        "plt.legend(['FAR', 'FRR'])"
      ]
    },
    {
      "cell_type": "code",
      "execution_count": 62,
      "metadata": {},
      "outputs": [
        {
          "name": "stdout",
          "output_type": "stream",
          "text": [
            "0.0003084100780685606 4905 0.1453534551231136 0.14504504504504503\n"
          ]
        }
      ],
      "source": [
        "index = -1\n",
        "ans = 1000\n",
        "t = []\n",
        "for i in range(len(far1)):\n",
        "  if ans > abs(far1[i]-frr1[i]):\n",
        "    ans = abs(far1[i]-frr1[i])\n",
        "    index = i\n",
        "print(ans, index, far1[index], frr1[index])"
      ]
    },
    {
      "cell_type": "code",
      "execution_count": 64,
      "metadata": {},
      "outputs": [
        {
          "data": {
            "text/plain": [
              "<matplotlib.legend.Legend at 0x7f8ca260dfd0>"
            ]
          },
          "execution_count": 64,
          "metadata": {},
          "output_type": "execute_result"
        },
        {
          "data": {
            "image/png": "[encoded data removed]",
            "text/plain": [
              "<Figure size 432x288 with 1 Axes>"
            ]
          },
          "metadata": {
            "needs_background": "light"
          },
          "output_type": "display_data"
        }
      ],
      "source": [
        "from matplotlib import pyplot as plt\n",
        "plt.plot(fpr1, tpr1, marker='.', label='Male')\n",
        "plt.plot([0, 1], [0, 1], linestyle='--', label='Female')\n",
        "plt.title(\"SVM ROC curve\")\n",
        "plt.xlabel('False Positive Rate')\n",
        "plt.ylabel('True Positive Rate')\n",
        "plt.legend()"
      ]
    },
    {
      "cell_type": "code",
      "execution_count": null,
      "metadata": {},
      "outputs": [],
      "source": []
    }
  ],
  "metadata": {
    "colab": {
      "name": "Untitled28.ipynb",
      "provenance": []
    },
    "interpreter": {
      "hash": "2b59caec986488d55c581dc8f11e9c59343fc96a209a000ce8ab13a36b58f955"
    },
    "kernelspec": {
      "display_name": "Python 3.6.13 64-bit ('py36': conda)",
      "name": "python3"
    },
    "language_info": {
      "codemirror_mode": {
        "name": "ipython",
        "version": 3
      },
      "file_extension": ".py",
      "mimetype": "text/x-python",
      "name": "python",
      "nbconvert_exporter": "python",
      "pygments_lexer": "ipython3",
      "version": "3.6.13"
    }
  },
  "nbformat": 4,
  "nbformat_minor": 2
}
