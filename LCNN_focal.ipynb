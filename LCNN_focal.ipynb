{
  "nbformat": 4,
  "nbformat_minor": 0,
  "metadata": {
    "colab": {
      "name": "ques1_lcnn_focal.ipynb",
      "provenance": [],
      "collapsed_sections": []
    },
    "kernelspec": {
      "display_name": "Python 3",
      "name": "python3"
    },
    "language_info": {
      "name": "python"
    },
    "accelerator": "GPU"
  },
  "cells": [
    {
      "cell_type": "code",
      "metadata": {
        "id": "rMX5A5Xp07rm"
      },
      "source": [
        "import keras\n",
        "import tensorflow as tf\n",
        "from typeguard import typechecked\n",
        "\n",
        "\n",
        "class Maxout(keras.layers.Layer):\n",
        "    \"\"\"\n",
        "    Arguments:\n",
        "      num_units: Specifies how many features will remain after maxout\n",
        "        in the `axis` dimension (usually channel).\n",
        "        This must be a factor of number of features.\n",
        "      axis: The dimension where max pooling will be performed. Default is the\n",
        "        last dimension.\n",
        "    Input shape:\n",
        "      nD tensor with shape: `(batch_size, ..., axis_dim, ...)`.\n",
        "    Output shape:\n",
        "      nD tensor with shape: `(batch_size, ..., num_units, ...)`.\n",
        "    Reference : https://github.com/tensorflow/addons/blob/v0.10.0/tensorflow_addons/layers/maxout.py#L22-L90\n",
        "    \"\"\"\n",
        "\n",
        "    @typechecked\n",
        "    def __init__(self, num_units: int, axis: int = -1, **kwargs):\n",
        "        super().__init__(**kwargs)\n",
        "        self.num_units = num_units\n",
        "        self.axis = axis\n",
        "\n",
        "    def call(self, inputs):\n",
        "        inputs = tf.convert_to_tensor(inputs)\n",
        "        shape = inputs.get_shape().as_list()\n",
        "        # Dealing with batches with arbitrary sizes\n",
        "        for i in range(len(shape)):\n",
        "            if shape[i] is None:\n",
        "                shape[i] = tf.shape(inputs)[i]\n",
        "\n",
        "        num_channels = shape[self.axis]\n",
        "        if not isinstance(num_channels, tf.Tensor) and num_channels % self.num_units:\n",
        "            raise ValueError(\n",
        "                \"number of features({}) is not \" \"a multiple of num_units({})\".format(num_channels, self.num_units)\n",
        "            )\n",
        "\n",
        "        if self.axis < 0:\n",
        "            axis = self.axis + len(shape)\n",
        "        else:\n",
        "            axis = self.axis\n",
        "        assert axis >= 0, \"Find invalid axis: {}\".format(self.axis)\n",
        "\n",
        "        expand_shape = shape[:]\n",
        "        expand_shape[axis] = self.num_units\n",
        "        k = num_channels // self.num_units\n",
        "        expand_shape.insert(axis, k)\n",
        "\n",
        "        outputs = tf.math.reduce_max(tf.reshape(inputs, expand_shape), axis, keepdims=False)\n",
        "        return outputs\n",
        "\n",
        "    def compute_output_shape(self, input_shape):\n",
        "        input_shape = tf.TensorShape(input_shape).as_list()\n",
        "        input_shape[self.axis] = self.num_units\n",
        "        return tf.TensorShape(input_shape)\n",
        "\n",
        "    def get_config(self):\n",
        "        config = {\"num_units\": self.num_units, \"axis\": self.axis}\n",
        "        base_config = super().get_config()\n",
        "        return {**base_config, **config}"
      ],
      "execution_count": null,
      "outputs": []
    },
    {
      "cell_type": "code",
      "metadata": {
        "id": "ZudBlI0Z6Pnx"
      },
      "source": [
        "import tensorflow as tf\n",
        "from keras.layers import Activation, Dense, BatchNormalization, MaxPool2D, Lambda, Input, Flatten, Dropout\n",
        "from keras.layers.convolutional import Conv2D\n",
        "from keras.models import Model\n",
        "from keras.initializers import he_normal\n",
        "\n",
        "#Custom layer\n",
        "\n",
        "\n",
        "#function that return the stuck of Conv2D and MFM\n",
        "def MaxOutConv2D(x, dim, kernel_size, strides, padding='same'):\n",
        "    conv_out = Conv2D(dim, kernel_size=kernel_size, strides=strides, padding=padding)(x)\n",
        "    mfm_out = Maxout(int(dim/2))(conv_out)\n",
        "    return mfm_out\n",
        "\n",
        "\n",
        "#function that return the stuck of FC and MFM\n",
        "def MaxOutDense(x, dim):\n",
        "    dense_out = Dense(dim)(x)\n",
        "    mfm_out = Maxout(int(dim/2))(dense_out)\n",
        "    return mfm_out\n",
        "\n",
        "# this function helps to build LCNN. \n",
        "def build_lcnn(shape, n_label=2):\n",
        "    \"\"\"\n",
        "    Auguments:\n",
        "     shape (list) : \n",
        "      Input shape for LCNN. (Example : [128, 128, 1])\n",
        "     n_label (int) : \n",
        "      Number of label that LCNN should predict.\n",
        "    \"\"\"\n",
        "    \n",
        "    input = Input(shape=shape)\n",
        "\n",
        "    conv2d_1 = MaxOutConv2D(input, 64, kernel_size=5, strides=1, padding='same')\n",
        "    maxpool_1 = MaxPool2D(pool_size=(2, 2), strides=(2,2))(conv2d_1)\n",
        "\n",
        "    conv_2d_2 = MaxOutConv2D(maxpool_1, 64, kernel_size=1, strides=1, padding='same')\n",
        "    batch_norm_2 = BatchNormalization()(conv_2d_2)\n",
        "\n",
        "    conv2d_3 = MaxOutConv2D(batch_norm_2, 96, kernel_size=3, strides=1, padding='same')\n",
        "    maxpool_3 = MaxPool2D(pool_size=(2, 2), strides=(2,2))(conv2d_3)\n",
        "    batch_norm_3 = BatchNormalization()(maxpool_3)\n",
        "\n",
        "    conv_2d_4 = MaxOutConv2D(batch_norm_3, 96, kernel_size=1, strides=1, padding='same')\n",
        "    batch_norm_4 = BatchNormalization()(conv_2d_4)\n",
        "\n",
        "    conv2d_5 = MaxOutConv2D(batch_norm_4, 128, kernel_size=3, strides=1, padding='same')\n",
        "    maxpool_5 = MaxPool2D(pool_size=(2, 2), strides=(2,2))(conv2d_5)\n",
        "\n",
        "    conv_2d_6 = MaxOutConv2D(maxpool_5, 128, kernel_size=1, strides=1, padding='same')\n",
        "    batch_norm_6 = BatchNormalization()(conv_2d_6)\n",
        "\n",
        "    conv_2d_7 = MaxOutConv2D(batch_norm_6, 64, kernel_size=3, strides=1, padding='same')\n",
        "    batch_norm_7 = BatchNormalization()(conv_2d_7)\n",
        "\n",
        "    conv_2d_8 = MaxOutConv2D(batch_norm_7, 64, kernel_size=1, strides=1, padding='same')\n",
        "    batch_norm_8 = BatchNormalization()(conv_2d_8)\n",
        "\n",
        "    conv_2d_9 = MaxOutConv2D(batch_norm_8, 64, kernel_size=3, strides=1, padding='same')\n",
        "    maxpool_9 = MaxPool2D(pool_size=(2, 2), strides=(2,2))(conv_2d_9)\n",
        "    flatten = Flatten()(maxpool_9)\n",
        "\n",
        "    dense_10 = MaxOutDense(flatten, 160)\n",
        "    batch_norm_10 = BatchNormalization()(dense_10)\n",
        "    dropout_10 = Dropout(0.75)(batch_norm_10)\n",
        "\n",
        "    output = Dense(n_label, activation='softmax')(dropout_10)\n",
        "            \n",
        "    return Model(inputs=input, outputs=output)"
      ],
      "execution_count": null,
      "outputs": []
    },
    {
      "cell_type": "markdown",
      "metadata": {
        "id": "3n42zQObu9Tk"
      },
      "source": [
        "Dataset"
      ]
    },
    {
      "cell_type": "code",
      "metadata": {
        "colab": {
          "base_uri": "https://localhost:8080/"
        },
        "id": "83Ry591wa2qy",
        "outputId": "b986e38c-752d-4150-c56b-c23871c9bbe4"
      },
      "source": [
        "!git clone https://github.com/ayulockin/faceattributes.git"
      ],
      "execution_count": null,
      "outputs": [
        {
          "output_type": "stream",
          "name": "stdout",
          "text": [
            "Cloning into 'faceattributes'...\n",
            "remote: Enumerating objects: 23407, done.\u001b[K\n",
            "remote: Counting objects: 100% (19/19), done.\u001b[K\n",
            "remote: Compressing objects: 100% (18/18), done.\u001b[K\n",
            "remote: Total 23407 (delta 4), reused 6 (delta 1), pack-reused 23388\u001b[K\n",
            "Receiving objects: 100% (23407/23407), 115.73 MiB | 26.61 MiB/s, done.\n",
            "Resolving deltas: 100% (16/16), done.\n",
            "Checking out files: 100% (23747/23747), done.\n"
          ]
        }
      ]
    },
    {
      "cell_type": "code",
      "metadata": {
        "colab": {
          "base_uri": "https://localhost:8080/"
        },
        "id": "VHHWlq0la7q_",
        "outputId": "39d89f33-3fbe-4138-b156-6c146d9e8fbc"
      },
      "source": [
        "!ls"
      ],
      "execution_count": null,
      "outputs": [
        {
          "output_type": "stream",
          "name": "stdout",
          "text": [
            "faceattributes\tsample_data\n"
          ]
        }
      ]
    },
    {
      "cell_type": "code",
      "metadata": {
        "colab": {
          "base_uri": "https://localhost:8080/"
        },
        "id": "hkep7MGOa_-C",
        "outputId": "f5f0c49d-1198-4167-e5f5-34686650c860"
      },
      "source": [
        "%cd faceattributes"
      ],
      "execution_count": null,
      "outputs": [
        {
          "output_type": "stream",
          "name": "stdout",
          "text": [
            "/content/faceattributes\n"
          ]
        }
      ]
    },
    {
      "cell_type": "code",
      "metadata": {
        "colab": {
          "base_uri": "https://localhost:8080/"
        },
        "id": "6eyQZFmbbhqI",
        "outputId": "8028d474-a11c-4199-84ed-7b954a24ff99"
      },
      "source": [
        "!ls"
      ],
      "execution_count": null,
      "outputs": [
        {
          "output_type": "stream",
          "name": "stdout",
          "text": [
            " datasets\n",
            "'EDA of Face Dataset.ipynb'\n",
            " examples\n",
            " face_detector\n",
            " Image1.jpeg\n",
            " images\n",
            " LICENSE\n",
            " main.py\n",
            " prepareUTKFaceData.py\n",
            " README.md\n",
            "'UTK_Face_Attribute_Classifier_with_TF2_0_and_W&B.ipynb'\n"
          ]
        }
      ]
    },
    {
      "cell_type": "code",
      "metadata": {
        "colab": {
          "base_uri": "https://localhost:8080/"
        },
        "id": "HdmVG9C1bw9Y",
        "outputId": "03ab70b0-95e4-477b-a2c5-d7a6786dcb6c"
      },
      "source": [
        "import os\n",
        "\n",
        "images = os.listdir('images')\n",
        "print('Total number of images: ', len(images))"
      ],
      "execution_count": null,
      "outputs": [
        {
          "output_type": "stream",
          "name": "stdout",
          "text": [
            "Total number of images:  23705\n"
          ]
        }
      ]
    },
    {
      "cell_type": "code",
      "metadata": {
        "id": "REYXOXhpbCE4"
      },
      "source": [
        "import pandas as pd\n",
        "import numpy as np\n",
        "from sklearn import svm\n",
        "from sklearn.metrics import confusion_matrix, accuracy_score\n",
        "from skimage.transform import rescale, resize, downscale_local_mean\n",
        "from sklearn import datasets, svm, metrics\n",
        "from sklearn.model_selection import train_test_split\n",
        "import warnings\n",
        "import sys\n",
        "import os\n",
        "import shutil\n",
        "from joblib import dump, load\n",
        "import numpy as np\n",
        "import math\n",
        "import torch"
      ],
      "execution_count": null,
      "outputs": []
    },
    {
      "cell_type": "code",
      "metadata": {
        "id": "eWNseVm2bCJm"
      },
      "source": [
        "labels = pd.read_csv('datasets/face_dataset.csv')"
      ],
      "execution_count": null,
      "outputs": []
    },
    {
      "cell_type": "code",
      "metadata": {
        "id": "TSVK_WyCbCMY"
      },
      "source": [
        "labels = labels.sample(frac=1).reset_index(drop=True)"
      ],
      "execution_count": null,
      "outputs": []
    },
    {
      "cell_type": "code",
      "metadata": {
        "id": "cz1elP3lbCO-"
      },
      "source": [
        "def groupAge(age):\n",
        "#   Age (0-28 ) as children(28-56) as Young , (56-84) as Adults and (84-116) as Old.\n",
        "    if age>=0 and age<28:\n",
        "        return '0 - 28'\n",
        "    elif age>=28 and age<56:\n",
        "        return '28 - 56'\n",
        "    elif age>=56 and age<84:\n",
        "        return '56 - 24'\n",
        "    elif age>=84 and age<=116:\n",
        "        return '84 - 116'"
      ],
      "execution_count": null,
      "outputs": []
    },
    {
      "cell_type": "code",
      "metadata": {
        "id": "USx-TYuXbCRZ"
      },
      "source": [
        " #White, Black, Asian, Indian, and Others\n",
        " def groupRace(race):\n",
        "    if race == 0:\n",
        "        return 'White'\n",
        "    elif race == 1:\n",
        "        return 'Black'\n",
        "    elif race == 2:\n",
        "        return 'Asian'\n",
        "    elif race == 3:\n",
        "        return 'Indian'\n",
        "    else:\n",
        "        return 'Other'\n"
      ],
      "execution_count": null,
      "outputs": []
    },
    {
      "cell_type": "code",
      "metadata": {
        "id": "Xa9GJIASbCT9"
      },
      "source": [
        "import numpy as np \n",
        "import cv2\n",
        "import random\n",
        "import matplotlib.pyplot as plt\n",
        "\n",
        "%matplotlib inline\n",
        "\n",
        "#from tensorflow.keras.utils import to_categorical"
      ],
      "execution_count": null,
      "outputs": []
    },
    {
      "cell_type": "code",
      "metadata": {
        "id": "eYLbnyNabCWw"
      },
      "source": [
        "def to_categorical(y, num_classes):\n",
        "    \"\"\" 1-hot encodes a tensor \"\"\"\n",
        "    return np.eye(num_classes, dtype='uint8')[y]"
      ],
      "execution_count": null,
      "outputs": []
    },
    {
      "cell_type": "code",
      "metadata": {
        "id": "COXli0XmbQ_C"
      },
      "source": [
        "def formatdata(train_count, validation_count, test_count):\n",
        "  partitions = {'train': [],\n",
        "                'validation': [],\n",
        "                'test': []}\n",
        "  labels_dict = {'train_age': [], 'train_gender': [], 'train_ethnicity': [],\n",
        "                 'validation_age': [], 'validation_gender': [], 'validation_ethnicity': [],\n",
        "                 'test_age': [], 'test_gender': [], 'test_ethnicity': []}\n",
        "  random.seed(1)\n",
        "\n",
        "  print(\"[INFO] Preparing train data....\")\n",
        "  for ID in range(train_count):\n",
        "    try:\n",
        "        data = labels.loc[labels['image_id'] == images[ID][:-4]].values\n",
        "        labels_dict['train_age'].append(groupAge(data[0][1]))\n",
        "        labels_dict['train_gender'].append(data[0][2])\n",
        "        labels_dict['train_ethnicity'].append(groupRace(data[0][3]))\n",
        "        partitions['train'].append(images[ID])\n",
        "    except IndexError:\n",
        "        print(\"[ERROR]\", images[ID])\n",
        "        discared_data.append(images[ID])\n",
        "  print(\"[INFO] Done\")\n",
        "\n",
        "  print(\"[INFO] Preparing validation data....\")\n",
        "  for ID in range(train_count, train_count+validation_count):\n",
        "    try:\n",
        "        data = labels.loc[labels['image_id'] == images[ID][:-4]].values\n",
        "        labels_dict['validation_age'].append(groupAge(data[0][1]))\n",
        "        labels_dict['validation_gender'].append(data[0][2])\n",
        "        labels_dict['validation_ethnicity'].append(groupRace(data[0][3]))\n",
        "        partitions['validation'].append(images[ID])\n",
        "    except IndexError:\n",
        "        print(\"[ERROR]\", images[ID])\n",
        "        discared_data.append(images[ID])\n",
        "  print(\"[INFO] Done\")\n",
        "\n",
        "  ## Uncomment to get test split\n",
        "  print(\"[INFO] Preparing test data....\")\n",
        "  for ID in range(train_count+validation_count,train_count+validation_count+test_count):\n",
        "    try:\n",
        "        data = labels.loc[labels['image_id'] == images[ID][:-4]].values\n",
        "        labels_dict['test_age'].append(groupAge(data[0][1]))\n",
        "        labels_dict['test_gender'].append(data[0][2])\n",
        "        labels_dict['test_ethnicity'].append(groupRace(data[0][3]))\n",
        "        partitions['test'].append(images[ID])\n",
        "    except IndexError:\n",
        "        print(\"[ERROR]\", images[ID])\n",
        "        discared_data.append(images[ID])\n",
        "  print(\"[INFO] Done\")\n",
        "\n",
        "  return partitions, labels_dict"
      ],
      "execution_count": null,
      "outputs": []
    },
    {
      "cell_type": "code",
      "metadata": {
        "colab": {
          "base_uri": "https://localhost:8080/"
        },
        "id": "oi1HcJeXbRCG",
        "outputId": "e241bf9b-cbc0-4502-be83-acd72bf4a2e4"
      },
      "source": [
        "# train:validation:test = 70:20:10 = 16596:4742:2370\n",
        "\n",
        "train_count = 16595\n",
        "validation_count = 4741\n",
        "test_count = 2369\n",
        "\n",
        "partitions, labels_dict = formatdata(train_count, validation_count, test_count)"
      ],
      "execution_count": null,
      "outputs": [
        {
          "output_type": "stream",
          "name": "stdout",
          "text": [
            "[INFO] Preparing train data....\n",
            "[INFO] Done\n",
            "[INFO] Preparing validation data....\n",
            "[INFO] Done\n",
            "[INFO] Preparing test data....\n",
            "[INFO] Done\n"
          ]
        }
      ]
    },
    {
      "cell_type": "code",
      "metadata": {
        "colab": {
          "base_uri": "https://localhost:8080/"
        },
        "id": "vLdNdm9sbRE_",
        "outputId": "3ed7390a-2743-4707-fd78-25dfddfa8484"
      },
      "source": [
        "print(\"[INFO] Training Data\")\n",
        "print(\"Size of train data: \", len(partitions['train']))\n",
        "print(\"Size of age as label: \", len(labels_dict['train_age']))\n",
        "print(\"Size of gender as label: \", len(labels_dict['train_gender']))\n",
        "print(\"Size of ethnicity as label: \", len(labels_dict['train_ethnicity']))\n",
        "print(\"\\n\")\n",
        "print(\"[INFO] Validation Data\")\n",
        "print(\"Size of validation data: \", len(partitions['validation']))\n",
        "print(\"Size of age as label: \", len(labels_dict['validation_age']))\n",
        "print(\"Size of gender as label: \", len(labels_dict['validation_gender']))\n",
        "print(\"Size of ethnicity as label: \", len(labels_dict['validation_ethnicity']))\n",
        "print(\"\\n\")\n",
        "# Uncomment to log test split details\n",
        "print(\"[INFO] Test Data\")\n",
        "print(\"Size of test data: \", len(partitions['test']))\n",
        "print(\"Size of age as label: \", len(labels_dict['test_age']))\n",
        "print(\"Size of gender as label: \", len(labels_dict['test_gender']))\n",
        "print(\"Size of ethnicity as label: \", len(labels_dict['test_ethnicity']))"
      ],
      "execution_count": null,
      "outputs": [
        {
          "output_type": "stream",
          "name": "stdout",
          "text": [
            "[INFO] Training Data\n",
            "Size of train data:  16595\n",
            "Size of age as label:  16595\n",
            "Size of gender as label:  16595\n",
            "Size of ethnicity as label:  16595\n",
            "\n",
            "\n",
            "[INFO] Validation Data\n",
            "Size of validation data:  4741\n",
            "Size of age as label:  4741\n",
            "Size of gender as label:  4741\n",
            "Size of ethnicity as label:  4741\n",
            "\n",
            "\n",
            "[INFO] Test Data\n",
            "Size of test data:  2369\n",
            "Size of age as label:  2369\n",
            "Size of gender as label:  2369\n",
            "Size of ethnicity as label:  2369\n"
          ]
        }
      ]
    },
    {
      "cell_type": "code",
      "metadata": {
        "colab": {
          "base_uri": "https://localhost:8080/"
        },
        "id": "FGY5APu7bRHz",
        "outputId": "7c32ebcc-c7ee-45fc-9591-21f7349c3766"
      },
      "source": [
        "import imageio\n",
        "def loadImages(images, imagesPath):\n",
        "    print(\"[INFO] Loading....\")\n",
        "    X = []\n",
        "    count = 0\n",
        "    for image in images:\n",
        "        if count%1000==0:\n",
        "            print(\"[INFO] {} images loaded\".format(count))\n",
        "        img = imageio.imread(imagesPath+'/'+image)\n",
        "        #img = np.array(img)\n",
        "        #resized_images = rescale(img, 0.5, anti_aliasing=False)\n",
        "        resized_images = cv2.resize(img,(32,32))\n",
        "        X.append(resized_images)\n",
        "        count+=1\n",
        "    print(\"[INFO] Done\")\n",
        "    return np.array(X)\n",
        "\n",
        "print(\"[INFO] Training Data\")\n",
        "trainX = loadImages(partitions['train'], 'images/')\n",
        "print(\"[INFO] Validation Data\")\n",
        "validationX = loadImages(partitions['validation'], 'images/')"
      ],
      "execution_count": null,
      "outputs": [
        {
          "output_type": "stream",
          "name": "stdout",
          "text": [
            "[INFO] Training Data\n",
            "[INFO] Loading....\n",
            "[INFO] 0 images loaded\n",
            "[INFO] 1000 images loaded\n",
            "[INFO] 2000 images loaded\n",
            "[INFO] 3000 images loaded\n",
            "[INFO] 4000 images loaded\n",
            "[INFO] 5000 images loaded\n",
            "[INFO] 6000 images loaded\n",
            "[INFO] 7000 images loaded\n",
            "[INFO] 8000 images loaded\n",
            "[INFO] 9000 images loaded\n",
            "[INFO] 10000 images loaded\n",
            "[INFO] 11000 images loaded\n",
            "[INFO] 12000 images loaded\n",
            "[INFO] 13000 images loaded\n",
            "[INFO] 14000 images loaded\n",
            "[INFO] 15000 images loaded\n",
            "[INFO] 16000 images loaded\n",
            "[INFO] Done\n",
            "[INFO] Validation Data\n",
            "[INFO] Loading....\n",
            "[INFO] 0 images loaded\n",
            "[INFO] 1000 images loaded\n",
            "[INFO] 2000 images loaded\n",
            "[INFO] 3000 images loaded\n",
            "[INFO] 4000 images loaded\n",
            "[INFO] Done\n"
          ]
        }
      ]
    },
    {
      "cell_type": "code",
      "metadata": {
        "colab": {
          "base_uri": "https://localhost:8080/"
        },
        "id": "T_DuDkzVbRKM",
        "outputId": "593f2089-28db-4be5-fdda-1ff215204358"
      },
      "source": [
        "print(\"[INFO] test Data\")\n",
        "testX = loadImages(partitions['test'], 'images/')\n",
        "testX = testX/255.0\n",
        "# testX_reshape = testX.flatten().reshape(testX.shape[0],testX.shape[1]* testX.shape[2]* testX.shape[3])"
      ],
      "execution_count": null,
      "outputs": [
        {
          "output_type": "stream",
          "name": "stdout",
          "text": [
            "[INFO] test Data\n",
            "[INFO] Loading....\n",
            "[INFO] 0 images loaded\n",
            "[INFO] 1000 images loaded\n",
            "[INFO] 2000 images loaded\n",
            "[INFO] Done\n"
          ]
        }
      ]
    },
    {
      "cell_type": "code",
      "metadata": {
        "id": "d7WvLJg7bRMm"
      },
      "source": [
        "trainX = trainX/255.0\n",
        "validationX = validationX/255.0"
      ],
      "execution_count": null,
      "outputs": []
    },
    {
      "cell_type": "code",
      "metadata": {
        "colab": {
          "base_uri": "https://localhost:8080/"
        },
        "id": "8H5UHPsmowif",
        "outputId": "3783d76e-2a4e-4192-eaa2-b2370f5c68f1"
      },
      "source": [
        "trainX.shape"
      ],
      "execution_count": null,
      "outputs": [
        {
          "output_type": "execute_result",
          "data": {
            "text/plain": [
              "(16595, 32, 32, 3)"
            ]
          },
          "metadata": {},
          "execution_count": 21
        }
      ]
    },
    {
      "cell_type": "code",
      "metadata": {
        "colab": {
          "base_uri": "https://localhost:8080/"
        },
        "id": "aEId182BqRv9",
        "outputId": "e7108845-7a3b-43bc-e234-ebc091a992b0"
      },
      "source": [
        "testX.shape"
      ],
      "execution_count": null,
      "outputs": [
        {
          "output_type": "execute_result",
          "data": {
            "text/plain": [
              "(2369, 32, 32, 3)"
            ]
          },
          "metadata": {},
          "execution_count": 22
        }
      ]
    },
    {
      "cell_type": "code",
      "metadata": {
        "id": "OvTISByhbRPO"
      },
      "source": [
        "trainY = {\n",
        "    'gender': np.array(labels_dict['train_gender']),\n",
        "    'ethnicity': np.array(labels_dict['train_ethnicity']),\n",
        "    'age': np.array(labels_dict['train_age'])\n",
        "}\n",
        "\n",
        "validationY = {\n",
        "    'gender': np.array(labels_dict['validation_gender']),\n",
        "    'ethnicity': np.array(labels_dict['validation_ethnicity']),\n",
        "    'age': np.array(labels_dict['validation_age'])\n",
        "}\n",
        "testY = {\n",
        "    'gender': np.array(labels_dict['test_gender']),\n",
        "    'ethnicity': np.array(labels_dict['test_ethnicity']),\n",
        "    'age': np.array(labels_dict['test_age'])\n",
        "}\n",
        "\n",
        "trainY['gender'] = trainY['gender'].reshape(trainY['gender'].shape[0])\n",
        "validationY['gender'] = validationY['gender'].reshape(validationY['gender'].shape[0])\n",
        "sample_test = testY['gender']\n",
        "#testY['gender'] = testY['gender'].reshape(testY['gender'].shape[0], 1)"
      ],
      "execution_count": null,
      "outputs": []
    },
    {
      "cell_type": "code",
      "metadata": {
        "colab": {
          "base_uri": "https://localhost:8080/"
        },
        "id": "E6zAr9S9cQfp",
        "outputId": "76c78f58-9167-4ad3-fdb8-b88097c37b69"
      },
      "source": [
        "print('Training labels')\n",
        "print('[INFO] Shape of gender label: ', trainY['gender'].shape)\n",
        "print('[INFO] Shape of ethnicity label: ', trainY['ethnicity'].shape)\n",
        "print('[INFO] Shape of age label: ', trainY['age'].shape)\n",
        "print('\\nValidation labels')\n",
        "print('[INFO] Shape of gender label: ', validationY['gender'].shape)\n",
        "print('[INFO] Shape of ethnicity label: ', validationY['ethnicity'].shape)\n",
        "print('[INFO] Shape of age label: ', validationY['age'].shape)"
      ],
      "execution_count": null,
      "outputs": [
        {
          "output_type": "stream",
          "name": "stdout",
          "text": [
            "Training labels\n",
            "[INFO] Shape of gender label:  (16595,)\n",
            "[INFO] Shape of ethnicity label:  (16595,)\n",
            "[INFO] Shape of age label:  (16595,)\n",
            "\n",
            "Validation labels\n",
            "[INFO] Shape of gender label:  (4741,)\n",
            "[INFO] Shape of ethnicity label:  (4741,)\n",
            "[INFO] Shape of age label:  (4741,)\n"
          ]
        }
      ]
    },
    {
      "cell_type": "code",
      "metadata": {
        "id": "f2wViEvlq5V5"
      },
      "source": [
        "from tensorflow.keras.utils import to_categorical\n",
        "trainY['gender'] = to_categorical(trainY['gender'])"
      ],
      "execution_count": null,
      "outputs": []
    },
    {
      "cell_type": "code",
      "metadata": {
        "colab": {
          "base_uri": "https://localhost:8080/"
        },
        "id": "-frCWsRccQj2",
        "outputId": "ef191002-ecae-4cf0-c9e5-02984002afc7"
      },
      "source": [
        "trainY['gender'].shape"
      ],
      "execution_count": null,
      "outputs": [
        {
          "output_type": "execute_result",
          "data": {
            "text/plain": [
              "(16595, 2)"
            ]
          },
          "metadata": {},
          "execution_count": 26
        }
      ]
    },
    {
      "cell_type": "code",
      "metadata": {
        "id": "bwr4tXbNcQoY"
      },
      "source": [
        "testY['gender'] = to_categorical(testY['gender'])"
      ],
      "execution_count": null,
      "outputs": []
    },
    {
      "cell_type": "code",
      "metadata": {
        "id": "DdXrpe1SB3iO",
        "colab": {
          "base_uri": "https://localhost:8080/"
        },
        "outputId": "054ad2a8-f7e8-4aca-e699-3c077660d877"
      },
      "source": [
        "testY['gender'].shape"
      ],
      "execution_count": null,
      "outputs": [
        {
          "output_type": "execute_result",
          "data": {
            "text/plain": [
              "(2369, 2)"
            ]
          },
          "metadata": {},
          "execution_count": 28
        }
      ]
    },
    {
      "cell_type": "code",
      "metadata": {
        "id": "CjwKIjE_OrL4"
      },
      "source": [
        "import numpy\n",
        "x_train = trainX\n",
        "x_test = testX\n",
        "y_train_gender = trainY['gender']\n",
        "y_test_gender = testY['gender']\n"
      ],
      "execution_count": null,
      "outputs": []
    },
    {
      "cell_type": "code",
      "metadata": {
        "colab": {
          "base_uri": "https://localhost:8080/"
        },
        "id": "d0kyVKsEs-wn",
        "outputId": "4b164f13-2647-474f-b4a0-6392fb4c87a5"
      },
      "source": [
        "y_test_gender.shape"
      ],
      "execution_count": null,
      "outputs": [
        {
          "output_type": "execute_result",
          "data": {
            "text/plain": [
              "(2369, 2)"
            ]
          },
          "metadata": {},
          "execution_count": 30
        }
      ]
    },
    {
      "cell_type": "code",
      "metadata": {
        "colab": {
          "base_uri": "https://localhost:8080/"
        },
        "id": "WeSny_QWOmWY",
        "outputId": "11c55c4b-9e3f-40c7-e1a3-18b095a8ccdc"
      },
      "source": [
        "x_train.shape,y_train_gender.shape,x_test.shape,y_test_gender.shape"
      ],
      "execution_count": null,
      "outputs": [
        {
          "output_type": "execute_result",
          "data": {
            "text/plain": [
              "((16595, 32, 32, 3), (16595, 2), (2369, 32, 32, 3), (2369, 2))"
            ]
          },
          "metadata": {},
          "execution_count": 31
        }
      ]
    },
    {
      "cell_type": "markdown",
      "metadata": {
        "id": "4z9TRLcJRzpy"
      },
      "source": [
        "# Focal loss"
      ]
    },
    {
      "cell_type": "code",
      "metadata": {
        "id": "D44Alj2ERy-h"
      },
      "source": [
        "from tensorflow.keras import backend as K\n",
        "import tensorflow as tf\n",
        "\n",
        "# Compatible with tensorflow backend\n",
        "\n",
        "def focal_loss(gamma=2., alpha=.25):\n",
        "\tdef focal_loss_fixed(y_true, y_pred):\n",
        "\t\tpt_1 = tf.where(tf.equal(y_true, 1), y_pred, tf.ones_like(y_pred))\n",
        "\t\tpt_0 = tf.where(tf.equal(y_true, 0), y_pred, tf.zeros_like(y_pred))\n",
        "\t\treturn -K.mean(alpha * K.pow(1. - pt_1, gamma) * K.log(pt_1+K.epsilon())) - K.mean((1 - alpha) * K.pow(pt_0, gamma) * K.log(1. - pt_0 + K.epsilon()))\n",
        "\treturn focal_loss_fixed"
      ],
      "execution_count": null,
      "outputs": []
    },
    {
      "cell_type": "markdown",
      "metadata": {
        "id": "M3XJF0e6v9O7"
      },
      "source": [
        "Training"
      ]
    },
    {
      "cell_type": "code",
      "metadata": {
        "id": "0PtiVeZKnPjP"
      },
      "source": [
        "import numpy as np\n",
        "from keras.callbacks import EarlyStopping\n",
        "from tensorflow.keras.utils import to_categorical\n",
        "\n",
        "\n",
        "lr = 0.001\n",
        "epochs = 400\n",
        "batch_size =64\n",
        "x_train, y_train = x_train,y_train_gender\n",
        "x_test, y_test = x_test,y_test_gender\n",
        "input_shape = x_train.shape[1:]\n",
        "lcnn = build_lcnn(input_shape, n_label=2)\n",
        "lcnn.compile(optimizer=tf.keras.optimizers.Adam(learning_rate=lr), loss=[focal_loss(alpha=.25, gamma=2)], metrics=['accuracy'])\n",
        "es = EarlyStopping(monitor='val_loss', patience=5 , verbose=1)\n"
      ],
      "execution_count": null,
      "outputs": []
    },
    {
      "cell_type": "code",
      "metadata": {
        "colab": {
          "base_uri": "https://localhost:8080/"
        },
        "id": "V7ZFAM3LQThj",
        "outputId": "909be730-81f2-4843-c145-7d20e8900f0a"
      },
      "source": [
        "x_train.shape"
      ],
      "execution_count": null,
      "outputs": [
        {
          "output_type": "execute_result",
          "data": {
            "text/plain": [
              "(16595, 32, 32, 3)"
            ]
          },
          "metadata": {},
          "execution_count": 34
        }
      ]
    },
    {
      "cell_type": "code",
      "metadata": {
        "colab": {
          "base_uri": "https://localhost:8080/"
        },
        "id": "aLmZ2qazExUG",
        "outputId": "a025016e-69b9-46ce-baad-419da3f806b8"
      },
      "source": [
        "history = lcnn.fit(x_train, y_train, epochs=epochs, batch_size = 128, validation_split=0.3)\n",
        "\n"
      ],
      "execution_count": null,
      "outputs": [
        {
          "output_type": "stream",
          "name": "stdout",
          "text": [
            "Epoch 1/400\n",
            "91/91 [==============================] - 37s 55ms/step - loss: 0.4125 - accuracy: 0.5723 - val_loss: 0.0963 - val_accuracy: 0.5306\n",
            "Epoch 2/400\n",
            "91/91 [==============================] - 4s 43ms/step - loss: 0.1860 - accuracy: 0.6117 - val_loss: 0.0965 - val_accuracy: 0.5302\n",
            "Epoch 3/400\n",
            "91/91 [==============================] - 4s 43ms/step - loss: 0.1242 - accuracy: 0.6775 - val_loss: 0.0826 - val_accuracy: 0.6166\n",
            "Epoch 4/400\n",
            "91/91 [==============================] - 4s 44ms/step - loss: 0.1016 - accuracy: 0.7237 - val_loss: 0.0817 - val_accuracy: 0.6007\n",
            "Epoch 5/400\n",
            "91/91 [==============================] - 4s 43ms/step - loss: 0.0797 - accuracy: 0.7852 - val_loss: 0.0645 - val_accuracy: 0.7602\n",
            "Epoch 6/400\n",
            "91/91 [==============================] - 4s 43ms/step - loss: 0.0590 - accuracy: 0.8135 - val_loss: 0.0653 - val_accuracy: 0.7333\n",
            "Epoch 7/400\n",
            "91/91 [==============================] - 4s 43ms/step - loss: 0.0475 - accuracy: 0.8453 - val_loss: 0.0481 - val_accuracy: 0.8357\n",
            "Epoch 8/400\n",
            "91/91 [==============================] - 4s 43ms/step - loss: 0.0414 - accuracy: 0.8673 - val_loss: 0.0464 - val_accuracy: 0.8413\n",
            "Epoch 9/400\n",
            "91/91 [==============================] - 4s 44ms/step - loss: 0.0373 - accuracy: 0.8823 - val_loss: 0.0614 - val_accuracy: 0.7975\n",
            "Epoch 10/400\n",
            "91/91 [==============================] - 4s 43ms/step - loss: 0.0341 - accuracy: 0.8920 - val_loss: 0.0514 - val_accuracy: 0.8389\n",
            "Epoch 11/400\n",
            "91/91 [==============================] - 4s 43ms/step - loss: 0.0303 - accuracy: 0.9027 - val_loss: 0.0489 - val_accuracy: 0.8572\n",
            "Epoch 12/400\n",
            "91/91 [==============================] - 4s 43ms/step - loss: 0.0274 - accuracy: 0.9161 - val_loss: 0.0513 - val_accuracy: 0.8468\n",
            "Epoch 13/400\n",
            "91/91 [==============================] - 4s 44ms/step - loss: 0.0253 - accuracy: 0.9217 - val_loss: 0.0601 - val_accuracy: 0.8329\n",
            "Epoch 14/400\n",
            "91/91 [==============================] - 4s 43ms/step - loss: 0.0233 - accuracy: 0.9287 - val_loss: 0.0598 - val_accuracy: 0.8429\n",
            "Epoch 15/400\n",
            "91/91 [==============================] - 4s 43ms/step - loss: 0.0194 - accuracy: 0.9424 - val_loss: 0.0638 - val_accuracy: 0.8405\n",
            "Epoch 16/400\n",
            "91/91 [==============================] - 4s 43ms/step - loss: 0.0195 - accuracy: 0.9398 - val_loss: 0.0728 - val_accuracy: 0.8439\n",
            "Epoch 17/400\n",
            "91/91 [==============================] - 4s 43ms/step - loss: 0.0181 - accuracy: 0.9484 - val_loss: 0.0767 - val_accuracy: 0.8413\n",
            "Epoch 18/400\n",
            "91/91 [==============================] - 4s 43ms/step - loss: 0.0177 - accuracy: 0.9481 - val_loss: 0.0746 - val_accuracy: 0.8287\n",
            "Epoch 19/400\n",
            "91/91 [==============================] - 4s 43ms/step - loss: 0.0147 - accuracy: 0.9588 - val_loss: 0.0860 - val_accuracy: 0.8212\n",
            "Epoch 20/400\n",
            "91/91 [==============================] - 4s 44ms/step - loss: 0.0120 - accuracy: 0.9691 - val_loss: 0.1251 - val_accuracy: 0.7907\n",
            "Epoch 21/400\n",
            "91/91 [==============================] - 4s 44ms/step - loss: 0.0153 - accuracy: 0.9569 - val_loss: 0.0705 - val_accuracy: 0.8460\n",
            "Epoch 22/400\n",
            "91/91 [==============================] - 4s 43ms/step - loss: 0.0116 - accuracy: 0.9688 - val_loss: 0.0861 - val_accuracy: 0.8393\n",
            "Epoch 23/400\n",
            "91/91 [==============================] - 4s 44ms/step - loss: 0.0119 - accuracy: 0.9675 - val_loss: 0.0853 - val_accuracy: 0.8393\n",
            "Epoch 24/400\n",
            "91/91 [==============================] - 4s 44ms/step - loss: 0.0102 - accuracy: 0.9712 - val_loss: 0.0886 - val_accuracy: 0.8556\n",
            "Epoch 25/400\n",
            "91/91 [==============================] - 4s 43ms/step - loss: 0.0123 - accuracy: 0.9670 - val_loss: 0.0793 - val_accuracy: 0.8686\n",
            "Epoch 26/400\n",
            "91/91 [==============================] - 4s 43ms/step - loss: 0.0113 - accuracy: 0.9703 - val_loss: 0.0827 - val_accuracy: 0.8524\n",
            "Epoch 27/400\n",
            "91/91 [==============================] - 4s 43ms/step - loss: 0.0090 - accuracy: 0.9763 - val_loss: 0.0985 - val_accuracy: 0.8496\n",
            "Epoch 28/400\n",
            "91/91 [==============================] - 4s 43ms/step - loss: 0.0090 - accuracy: 0.9754 - val_loss: 0.0890 - val_accuracy: 0.8454\n",
            "Epoch 29/400\n",
            "91/91 [==============================] - 4s 43ms/step - loss: 0.0094 - accuracy: 0.9779 - val_loss: 0.0952 - val_accuracy: 0.8439\n",
            "Epoch 30/400\n",
            "91/91 [==============================] - 4s 43ms/step - loss: 0.0112 - accuracy: 0.9700 - val_loss: 0.0897 - val_accuracy: 0.8379\n",
            "Epoch 31/400\n",
            "91/91 [==============================] - 4s 43ms/step - loss: 0.0087 - accuracy: 0.9761 - val_loss: 0.0818 - val_accuracy: 0.8582\n",
            "Epoch 32/400\n",
            "91/91 [==============================] - 4s 43ms/step - loss: 0.0062 - accuracy: 0.9858 - val_loss: 0.0869 - val_accuracy: 0.8660\n",
            "Epoch 33/400\n",
            "91/91 [==============================] - 4s 43ms/step - loss: 0.0060 - accuracy: 0.9845 - val_loss: 0.1025 - val_accuracy: 0.8514\n",
            "Epoch 34/400\n",
            "91/91 [==============================] - 4s 43ms/step - loss: 0.0094 - accuracy: 0.9742 - val_loss: 0.1488 - val_accuracy: 0.8098\n",
            "Epoch 35/400\n",
            "91/91 [==============================] - 4s 44ms/step - loss: 0.0090 - accuracy: 0.9755 - val_loss: 0.0852 - val_accuracy: 0.8614\n",
            "Epoch 36/400\n",
            "91/91 [==============================] - 4s 43ms/step - loss: 0.0058 - accuracy: 0.9865 - val_loss: 0.1033 - val_accuracy: 0.8606\n",
            "Epoch 37/400\n",
            "91/91 [==============================] - 4s 43ms/step - loss: 0.0091 - accuracy: 0.9771 - val_loss: 0.0845 - val_accuracy: 0.8578\n",
            "Epoch 38/400\n",
            "91/91 [==============================] - 4s 43ms/step - loss: 0.0064 - accuracy: 0.9847 - val_loss: 0.0850 - val_accuracy: 0.8658\n",
            "Epoch 39/400\n",
            "91/91 [==============================] - 4s 43ms/step - loss: 0.0030 - accuracy: 0.9925 - val_loss: 0.1023 - val_accuracy: 0.8626\n",
            "Epoch 40/400\n",
            "91/91 [==============================] - 4s 43ms/step - loss: 0.0061 - accuracy: 0.9865 - val_loss: 0.1056 - val_accuracy: 0.8484\n",
            "Epoch 41/400\n",
            "91/91 [==============================] - 4s 43ms/step - loss: 0.0089 - accuracy: 0.9751 - val_loss: 0.0929 - val_accuracy: 0.8518\n",
            "Epoch 42/400\n",
            "91/91 [==============================] - 4s 43ms/step - loss: 0.0070 - accuracy: 0.9830 - val_loss: 0.0963 - val_accuracy: 0.8598\n",
            "Epoch 43/400\n",
            "91/91 [==============================] - 4s 44ms/step - loss: 0.0064 - accuracy: 0.9830 - val_loss: 0.0990 - val_accuracy: 0.8632\n",
            "Epoch 44/400\n",
            "91/91 [==============================] - 4s 43ms/step - loss: 0.0069 - accuracy: 0.9834 - val_loss: 0.1070 - val_accuracy: 0.8379\n",
            "Epoch 45/400\n",
            "91/91 [==============================] - 4s 43ms/step - loss: 0.0069 - accuracy: 0.9810 - val_loss: 0.1011 - val_accuracy: 0.8488\n",
            "Epoch 46/400\n",
            "91/91 [==============================] - 4s 43ms/step - loss: 0.0048 - accuracy: 0.9874 - val_loss: 0.0932 - val_accuracy: 0.8632\n",
            "Epoch 47/400\n",
            "91/91 [==============================] - 4s 43ms/step - loss: 0.0068 - accuracy: 0.9820 - val_loss: 0.0994 - val_accuracy: 0.8458\n",
            "Epoch 48/400\n",
            "91/91 [==============================] - 4s 43ms/step - loss: 0.0059 - accuracy: 0.9861 - val_loss: 0.1170 - val_accuracy: 0.8431\n",
            "Epoch 49/400\n",
            "91/91 [==============================] - 4s 43ms/step - loss: 0.0069 - accuracy: 0.9839 - val_loss: 0.0920 - val_accuracy: 0.8431\n",
            "Epoch 50/400\n",
            "91/91 [==============================] - 4s 44ms/step - loss: 0.0049 - accuracy: 0.9876 - val_loss: 0.0999 - val_accuracy: 0.8626\n",
            "Epoch 51/400\n",
            "91/91 [==============================] - 4s 43ms/step - loss: 0.0033 - accuracy: 0.9929 - val_loss: 0.1301 - val_accuracy: 0.8562\n",
            "Epoch 52/400\n",
            "91/91 [==============================] - 4s 43ms/step - loss: 0.0093 - accuracy: 0.9776 - val_loss: 0.0700 - val_accuracy: 0.8500\n",
            "Epoch 53/400\n",
            "91/91 [==============================] - 4s 43ms/step - loss: 0.0055 - accuracy: 0.9863 - val_loss: 0.0930 - val_accuracy: 0.8556\n",
            "Epoch 54/400\n",
            "91/91 [==============================] - 4s 43ms/step - loss: 0.0039 - accuracy: 0.9895 - val_loss: 0.1156 - val_accuracy: 0.8423\n",
            "Epoch 55/400\n",
            "91/91 [==============================] - 4s 44ms/step - loss: 0.0054 - accuracy: 0.9865 - val_loss: 0.0871 - val_accuracy: 0.8634\n",
            "Epoch 56/400\n",
            "91/91 [==============================] - 4s 44ms/step - loss: 0.0052 - accuracy: 0.9873 - val_loss: 0.0980 - val_accuracy: 0.8612\n",
            "Epoch 57/400\n",
            "91/91 [==============================] - 4s 44ms/step - loss: 0.0044 - accuracy: 0.9895 - val_loss: 0.0913 - val_accuracy: 0.8709\n",
            "Epoch 58/400\n",
            "91/91 [==============================] - 4s 44ms/step - loss: 0.0033 - accuracy: 0.9919 - val_loss: 0.1165 - val_accuracy: 0.8703\n",
            "Epoch 59/400\n",
            "91/91 [==============================] - 4s 44ms/step - loss: 0.0070 - accuracy: 0.9828 - val_loss: 0.1077 - val_accuracy: 0.8466\n",
            "Epoch 60/400\n",
            "91/91 [==============================] - 4s 43ms/step - loss: 0.0058 - accuracy: 0.9859 - val_loss: 0.1019 - val_accuracy: 0.8695\n",
            "Epoch 61/400\n",
            "91/91 [==============================] - 4s 44ms/step - loss: 0.0039 - accuracy: 0.9906 - val_loss: 0.1213 - val_accuracy: 0.8170\n",
            "Epoch 62/400\n",
            "91/91 [==============================] - 4s 44ms/step - loss: 0.0038 - accuracy: 0.9904 - val_loss: 0.1183 - val_accuracy: 0.8550\n",
            "Epoch 63/400\n",
            "91/91 [==============================] - 4s 44ms/step - loss: 0.0067 - accuracy: 0.9826 - val_loss: 0.0912 - val_accuracy: 0.8508\n",
            "Epoch 64/400\n",
            "91/91 [==============================] - 4s 44ms/step - loss: 0.0042 - accuracy: 0.9901 - val_loss: 0.1069 - val_accuracy: 0.8658\n",
            "Epoch 65/400\n",
            "91/91 [==============================] - 4s 44ms/step - loss: 0.0035 - accuracy: 0.9914 - val_loss: 0.1030 - val_accuracy: 0.8630\n",
            "Epoch 66/400\n",
            "91/91 [==============================] - 4s 44ms/step - loss: 0.0034 - accuracy: 0.9927 - val_loss: 0.1035 - val_accuracy: 0.8666\n",
            "Epoch 67/400\n",
            "91/91 [==============================] - 4s 44ms/step - loss: 0.0051 - accuracy: 0.9879 - val_loss: 0.1054 - val_accuracy: 0.8526\n",
            "Epoch 68/400\n",
            "91/91 [==============================] - 4s 43ms/step - loss: 0.0073 - accuracy: 0.9798 - val_loss: 0.0896 - val_accuracy: 0.8538\n",
            "Epoch 69/400\n",
            "91/91 [==============================] - 4s 43ms/step - loss: 0.0046 - accuracy: 0.9895 - val_loss: 0.1004 - val_accuracy: 0.8628\n",
            "Epoch 70/400\n",
            "91/91 [==============================] - 4s 43ms/step - loss: 0.0046 - accuracy: 0.9898 - val_loss: 0.1004 - val_accuracy: 0.8642\n",
            "Epoch 71/400\n",
            "91/91 [==============================] - 4s 44ms/step - loss: 0.0032 - accuracy: 0.9917 - val_loss: 0.1083 - val_accuracy: 0.8682\n",
            "Epoch 72/400\n",
            "91/91 [==============================] - 4s 44ms/step - loss: 0.0053 - accuracy: 0.9871 - val_loss: 0.1080 - val_accuracy: 0.8570\n",
            "Epoch 73/400\n",
            "91/91 [==============================] - 4s 44ms/step - loss: 0.0046 - accuracy: 0.9882 - val_loss: 0.0968 - val_accuracy: 0.8695\n",
            "Epoch 74/400\n",
            "91/91 [==============================] - 4s 44ms/step - loss: 0.0032 - accuracy: 0.9924 - val_loss: 0.1004 - val_accuracy: 0.8604\n",
            "Epoch 75/400\n",
            "91/91 [==============================] - 4s 44ms/step - loss: 0.0032 - accuracy: 0.9920 - val_loss: 0.1061 - val_accuracy: 0.8652\n",
            "Epoch 76/400\n",
            "91/91 [==============================] - 4s 43ms/step - loss: 0.0044 - accuracy: 0.9884 - val_loss: 0.1081 - val_accuracy: 0.8532\n",
            "Epoch 77/400\n",
            "91/91 [==============================] - 4s 44ms/step - loss: 0.0044 - accuracy: 0.9897 - val_loss: 0.1083 - val_accuracy: 0.8532\n",
            "Epoch 78/400\n",
            "91/91 [==============================] - 4s 44ms/step - loss: 0.0040 - accuracy: 0.9909 - val_loss: 0.1042 - val_accuracy: 0.8676\n",
            "Epoch 79/400\n",
            "91/91 [==============================] - 4s 44ms/step - loss: 0.0054 - accuracy: 0.9863 - val_loss: 0.0878 - val_accuracy: 0.8719\n",
            "Epoch 80/400\n",
            "91/91 [==============================] - 4s 43ms/step - loss: 0.0032 - accuracy: 0.9932 - val_loss: 0.1023 - val_accuracy: 0.8767\n",
            "Epoch 81/400\n",
            "91/91 [==============================] - 4s 43ms/step - loss: 0.0026 - accuracy: 0.9947 - val_loss: 0.1072 - val_accuracy: 0.8765\n",
            "Epoch 82/400\n",
            "91/91 [==============================] - 4s 44ms/step - loss: 0.0041 - accuracy: 0.9904 - val_loss: 0.0975 - val_accuracy: 0.8500\n",
            "Epoch 83/400\n",
            "91/91 [==============================] - 4s 44ms/step - loss: 0.0069 - accuracy: 0.9825 - val_loss: 0.1077 - val_accuracy: 0.8506\n",
            "Epoch 84/400\n",
            "91/91 [==============================] - 4s 44ms/step - loss: 0.0031 - accuracy: 0.9923 - val_loss: 0.1153 - val_accuracy: 0.8632\n",
            "Epoch 85/400\n",
            "91/91 [==============================] - 4s 44ms/step - loss: 0.0044 - accuracy: 0.9892 - val_loss: 0.0944 - val_accuracy: 0.8753\n",
            "Epoch 86/400\n",
            "91/91 [==============================] - 4s 44ms/step - loss: 0.0024 - accuracy: 0.9944 - val_loss: 0.1082 - val_accuracy: 0.8680\n",
            "Epoch 87/400\n",
            "91/91 [==============================] - 4s 44ms/step - loss: 0.0019 - accuracy: 0.9969 - val_loss: 0.1037 - val_accuracy: 0.8741\n",
            "Epoch 88/400\n",
            "91/91 [==============================] - 4s 43ms/step - loss: 0.0011 - accuracy: 0.9981 - val_loss: 0.1133 - val_accuracy: 0.8757\n",
            "Epoch 89/400\n",
            "91/91 [==============================] - 4s 43ms/step - loss: 0.0014 - accuracy: 0.9980 - val_loss: 0.1059 - val_accuracy: 0.8747\n",
            "Epoch 90/400\n",
            "91/91 [==============================] - 4s 43ms/step - loss: 0.0015 - accuracy: 0.9968 - val_loss: 0.1118 - val_accuracy: 0.8723\n",
            "Epoch 91/400\n",
            "91/91 [==============================] - 4s 43ms/step - loss: 0.0022 - accuracy: 0.9960 - val_loss: 0.1101 - val_accuracy: 0.8688\n",
            "Epoch 92/400\n",
            "91/91 [==============================] - 4s 44ms/step - loss: 0.0015 - accuracy: 0.9975 - val_loss: 0.1088 - val_accuracy: 0.8765\n",
            "Epoch 93/400\n",
            "91/91 [==============================] - 4s 44ms/step - loss: 9.3448e-04 - accuracy: 0.9981 - val_loss: 0.1143 - val_accuracy: 0.8781\n",
            "Epoch 94/400\n",
            "91/91 [==============================] - 4s 44ms/step - loss: 9.6395e-04 - accuracy: 0.9979 - val_loss: 0.1141 - val_accuracy: 0.8813\n",
            "Epoch 95/400\n",
            "91/91 [==============================] - 4s 44ms/step - loss: 0.0013 - accuracy: 0.9979 - val_loss: 0.1226 - val_accuracy: 0.8715\n",
            "Epoch 96/400\n",
            "91/91 [==============================] - 4s 44ms/step - loss: 0.0010 - accuracy: 0.9982 - val_loss: 0.1117 - val_accuracy: 0.8773\n",
            "Epoch 97/400\n",
            "91/91 [==============================] - 4s 44ms/step - loss: 8.4805e-04 - accuracy: 0.9983 - val_loss: 0.1108 - val_accuracy: 0.8755\n",
            "Epoch 98/400\n",
            "91/91 [==============================] - 4s 44ms/step - loss: 8.3907e-04 - accuracy: 0.9978 - val_loss: 0.1373 - val_accuracy: 0.8604\n",
            "Epoch 99/400\n",
            "91/91 [==============================] - 4s 44ms/step - loss: 0.0035 - accuracy: 0.9934 - val_loss: 0.0807 - val_accuracy: 0.8574\n",
            "Epoch 100/400\n",
            "91/91 [==============================] - 4s 44ms/step - loss: 0.0086 - accuracy: 0.9779 - val_loss: 0.0775 - val_accuracy: 0.8458\n",
            "Epoch 101/400\n",
            "91/91 [==============================] - 4s 43ms/step - loss: 0.0080 - accuracy: 0.9792 - val_loss: 0.1086 - val_accuracy: 0.8604\n",
            "Epoch 102/400\n",
            "91/91 [==============================] - 4s 44ms/step - loss: 0.0064 - accuracy: 0.9827 - val_loss: 0.0868 - val_accuracy: 0.8540\n",
            "Epoch 103/400\n",
            "91/91 [==============================] - 4s 44ms/step - loss: 0.0053 - accuracy: 0.9865 - val_loss: 0.0994 - val_accuracy: 0.8576\n",
            "Epoch 104/400\n",
            "91/91 [==============================] - 4s 43ms/step - loss: 0.0044 - accuracy: 0.9881 - val_loss: 0.1098 - val_accuracy: 0.8620\n",
            "Epoch 105/400\n",
            "91/91 [==============================] - 4s 44ms/step - loss: 0.0038 - accuracy: 0.9917 - val_loss: 0.1038 - val_accuracy: 0.8624\n",
            "Epoch 106/400\n",
            "91/91 [==============================] - 4s 43ms/step - loss: 0.0034 - accuracy: 0.9912 - val_loss: 0.1060 - val_accuracy: 0.8725\n",
            "Epoch 107/400\n",
            "91/91 [==============================] - 4s 44ms/step - loss: 0.0026 - accuracy: 0.9929 - val_loss: 0.1129 - val_accuracy: 0.8566\n",
            "Epoch 108/400\n",
            "91/91 [==============================] - 4s 44ms/step - loss: 0.0041 - accuracy: 0.9900 - val_loss: 0.1049 - val_accuracy: 0.8701\n",
            "Epoch 109/400\n",
            "91/91 [==============================] - 4s 43ms/step - loss: 0.0037 - accuracy: 0.9908 - val_loss: 0.0988 - val_accuracy: 0.8638\n",
            "Epoch 110/400\n",
            "91/91 [==============================] - 4s 44ms/step - loss: 0.0040 - accuracy: 0.9910 - val_loss: 0.0921 - val_accuracy: 0.8574\n",
            "Epoch 111/400\n",
            "91/91 [==============================] - 4s 44ms/step - loss: 0.0027 - accuracy: 0.9939 - val_loss: 0.1214 - val_accuracy: 0.8550\n",
            "Epoch 112/400\n",
            "91/91 [==============================] - 4s 44ms/step - loss: 0.0024 - accuracy: 0.9947 - val_loss: 0.1061 - val_accuracy: 0.8717\n",
            "Epoch 113/400\n",
            "91/91 [==============================] - 4s 44ms/step - loss: 0.0022 - accuracy: 0.9954 - val_loss: 0.1023 - val_accuracy: 0.8646\n",
            "Epoch 114/400\n",
            "91/91 [==============================] - 4s 44ms/step - loss: 0.0017 - accuracy: 0.9963 - val_loss: 0.1128 - val_accuracy: 0.8699\n",
            "Epoch 115/400\n",
            "91/91 [==============================] - 4s 44ms/step - loss: 0.0010 - accuracy: 0.9982 - val_loss: 0.1252 - val_accuracy: 0.8775\n",
            "Epoch 116/400\n",
            "91/91 [==============================] - 4s 44ms/step - loss: 0.0014 - accuracy: 0.9969 - val_loss: 0.1144 - val_accuracy: 0.8775\n",
            "Epoch 117/400\n",
            "91/91 [==============================] - 4s 43ms/step - loss: 7.7964e-04 - accuracy: 0.9979 - val_loss: 0.1287 - val_accuracy: 0.8755\n",
            "Epoch 118/400\n",
            "91/91 [==============================] - 4s 43ms/step - loss: 7.7346e-04 - accuracy: 0.9983 - val_loss: 0.1342 - val_accuracy: 0.8699\n",
            "Epoch 119/400\n",
            "91/91 [==============================] - 4s 44ms/step - loss: 8.3727e-04 - accuracy: 0.9986 - val_loss: 0.1111 - val_accuracy: 0.8763\n",
            "Epoch 120/400\n",
            "91/91 [==============================] - 4s 44ms/step - loss: 0.0019 - accuracy: 0.9950 - val_loss: 0.1179 - val_accuracy: 0.8713\n",
            "Epoch 121/400\n",
            "91/91 [==============================] - 4s 44ms/step - loss: 0.0043 - accuracy: 0.9903 - val_loss: 0.1143 - val_accuracy: 0.8032\n",
            "Epoch 122/400\n",
            "91/91 [==============================] - 4s 44ms/step - loss: 0.0073 - accuracy: 0.9805 - val_loss: 0.0855 - val_accuracy: 0.8672\n",
            "Epoch 123/400\n",
            "91/91 [==============================] - 4s 44ms/step - loss: 0.0041 - accuracy: 0.9898 - val_loss: 0.1080 - val_accuracy: 0.8686\n",
            "Epoch 124/400\n",
            "91/91 [==============================] - 4s 44ms/step - loss: 0.0050 - accuracy: 0.9872 - val_loss: 0.1011 - val_accuracy: 0.8721\n",
            "Epoch 125/400\n",
            "91/91 [==============================] - 4s 44ms/step - loss: 0.0036 - accuracy: 0.9909 - val_loss: 0.0987 - val_accuracy: 0.8620\n",
            "Epoch 126/400\n",
            "91/91 [==============================] - 4s 44ms/step - loss: 0.0019 - accuracy: 0.9946 - val_loss: 0.1243 - val_accuracy: 0.8761\n",
            "Epoch 127/400\n",
            "91/91 [==============================] - 4s 44ms/step - loss: 0.0022 - accuracy: 0.9950 - val_loss: 0.1121 - val_accuracy: 0.8715\n",
            "Epoch 128/400\n",
            "91/91 [==============================] - 4s 44ms/step - loss: 0.0033 - accuracy: 0.9918 - val_loss: 0.1202 - val_accuracy: 0.8684\n",
            "Epoch 129/400\n",
            "91/91 [==============================] - 4s 44ms/step - loss: 0.0027 - accuracy: 0.9935 - val_loss: 0.1166 - val_accuracy: 0.8777\n",
            "Epoch 130/400\n",
            "91/91 [==============================] - 4s 44ms/step - loss: 0.0027 - accuracy: 0.9941 - val_loss: 0.1139 - val_accuracy: 0.8717\n",
            "Epoch 131/400\n",
            "91/91 [==============================] - 4s 44ms/step - loss: 0.0016 - accuracy: 0.9956 - val_loss: 0.1248 - val_accuracy: 0.8580\n",
            "Epoch 132/400\n",
            "91/91 [==============================] - 4s 44ms/step - loss: 0.0032 - accuracy: 0.9915 - val_loss: 0.1108 - val_accuracy: 0.8630\n",
            "Epoch 133/400\n",
            "91/91 [==============================] - 4s 44ms/step - loss: 0.0015 - accuracy: 0.9963 - val_loss: 0.1423 - val_accuracy: 0.8578\n",
            "Epoch 134/400\n",
            "91/91 [==============================] - 4s 44ms/step - loss: 0.0027 - accuracy: 0.9937 - val_loss: 0.1402 - val_accuracy: 0.8526\n",
            "Epoch 135/400\n",
            "91/91 [==============================] - 4s 44ms/step - loss: 0.0033 - accuracy: 0.9923 - val_loss: 0.1153 - val_accuracy: 0.8668\n",
            "Epoch 136/400\n",
            "91/91 [==============================] - 4s 44ms/step - loss: 0.0018 - accuracy: 0.9957 - val_loss: 0.1212 - val_accuracy: 0.8715\n",
            "Epoch 137/400\n",
            "91/91 [==============================] - 4s 44ms/step - loss: 0.0035 - accuracy: 0.9908 - val_loss: 0.0960 - val_accuracy: 0.8705\n",
            "Epoch 138/400\n",
            "91/91 [==============================] - 4s 44ms/step - loss: 0.0015 - accuracy: 0.9960 - val_loss: 0.1281 - val_accuracy: 0.8701\n",
            "Epoch 139/400\n",
            "91/91 [==============================] - 4s 44ms/step - loss: 0.0015 - accuracy: 0.9963 - val_loss: 0.1267 - val_accuracy: 0.8751\n",
            "Epoch 140/400\n",
            "91/91 [==============================] - 4s 44ms/step - loss: 0.0015 - accuracy: 0.9966 - val_loss: 0.1317 - val_accuracy: 0.8570\n",
            "Epoch 141/400\n",
            "91/91 [==============================] - 4s 44ms/step - loss: 0.0030 - accuracy: 0.9922 - val_loss: 0.0984 - val_accuracy: 0.8636\n",
            "Epoch 142/400\n",
            "91/91 [==============================] - 4s 44ms/step - loss: 0.0023 - accuracy: 0.9943 - val_loss: 0.1231 - val_accuracy: 0.8763\n",
            "Epoch 143/400\n",
            "91/91 [==============================] - 4s 44ms/step - loss: 0.0015 - accuracy: 0.9963 - val_loss: 0.1278 - val_accuracy: 0.8727\n",
            "Epoch 144/400\n",
            "91/91 [==============================] - 4s 44ms/step - loss: 0.0011 - accuracy: 0.9977 - val_loss: 0.1283 - val_accuracy: 0.8747\n",
            "Epoch 145/400\n",
            "91/91 [==============================] - 4s 43ms/step - loss: 0.0011 - accuracy: 0.9976 - val_loss: 0.1156 - val_accuracy: 0.8719\n",
            "Epoch 146/400\n",
            "91/91 [==============================] - 4s 44ms/step - loss: 9.6732e-04 - accuracy: 0.9982 - val_loss: 0.1173 - val_accuracy: 0.8785\n",
            "Epoch 147/400\n",
            "91/91 [==============================] - 4s 45ms/step - loss: 0.0011 - accuracy: 0.9980 - val_loss: 0.1083 - val_accuracy: 0.8795\n",
            "Epoch 148/400\n",
            "91/91 [==============================] - 4s 44ms/step - loss: 9.0342e-04 - accuracy: 0.9980 - val_loss: 0.1040 - val_accuracy: 0.8847\n",
            "Epoch 149/400\n",
            "91/91 [==============================] - 4s 44ms/step - loss: 7.4169e-04 - accuracy: 0.9984 - val_loss: 0.1134 - val_accuracy: 0.8857\n",
            "Epoch 150/400\n",
            "91/91 [==============================] - 4s 44ms/step - loss: 5.3526e-04 - accuracy: 0.9985 - val_loss: 0.1239 - val_accuracy: 0.8761\n",
            "Epoch 151/400\n",
            "91/91 [==============================] - 4s 44ms/step - loss: 5.8314e-04 - accuracy: 0.9986 - val_loss: 0.1236 - val_accuracy: 0.8817\n",
            "Epoch 152/400\n",
            "91/91 [==============================] - 4s 44ms/step - loss: 6.0040e-04 - accuracy: 0.9985 - val_loss: 0.1125 - val_accuracy: 0.8849\n",
            "Epoch 153/400\n",
            "91/91 [==============================] - 4s 44ms/step - loss: 7.5340e-04 - accuracy: 0.9985 - val_loss: 0.1053 - val_accuracy: 0.8811\n",
            "Epoch 154/400\n",
            "91/91 [==============================] - 4s 44ms/step - loss: 5.6703e-04 - accuracy: 0.9985 - val_loss: 0.1202 - val_accuracy: 0.8823\n",
            "Epoch 155/400\n",
            "91/91 [==============================] - 4s 43ms/step - loss: 0.0014 - accuracy: 0.9979 - val_loss: 0.0854 - val_accuracy: 0.8785\n",
            "Epoch 156/400\n",
            "91/91 [==============================] - 4s 44ms/step - loss: 5.5233e-04 - accuracy: 0.9985 - val_loss: 0.1158 - val_accuracy: 0.8805\n",
            "Epoch 157/400\n",
            "91/91 [==============================] - 4s 44ms/step - loss: 4.4848e-04 - accuracy: 0.9987 - val_loss: 0.1252 - val_accuracy: 0.8843\n",
            "Epoch 158/400\n",
            "91/91 [==============================] - 4s 44ms/step - loss: 8.4658e-04 - accuracy: 0.9985 - val_loss: 0.1166 - val_accuracy: 0.8662\n",
            "Epoch 159/400\n",
            "91/91 [==============================] - 4s 44ms/step - loss: 0.0011 - accuracy: 0.9978 - val_loss: 0.1112 - val_accuracy: 0.8809\n",
            "Epoch 160/400\n",
            "91/91 [==============================] - 4s 44ms/step - loss: 0.0010 - accuracy: 0.9973 - val_loss: 0.1186 - val_accuracy: 0.8749\n",
            "Epoch 161/400\n",
            "91/91 [==============================] - 4s 43ms/step - loss: 0.0048 - accuracy: 0.9867 - val_loss: 0.0709 - val_accuracy: 0.8445\n",
            "Epoch 162/400\n",
            "91/91 [==============================] - 4s 43ms/step - loss: 0.0077 - accuracy: 0.9811 - val_loss: 0.0844 - val_accuracy: 0.8666\n",
            "Epoch 163/400\n",
            "91/91 [==============================] - 4s 44ms/step - loss: 0.0056 - accuracy: 0.9848 - val_loss: 0.0947 - val_accuracy: 0.8618\n",
            "Epoch 164/400\n",
            "91/91 [==============================] - 4s 43ms/step - loss: 0.0037 - accuracy: 0.9903 - val_loss: 0.1208 - val_accuracy: 0.8574\n",
            "Epoch 165/400\n",
            "91/91 [==============================] - 4s 44ms/step - loss: 0.0021 - accuracy: 0.9943 - val_loss: 0.1392 - val_accuracy: 0.8560\n",
            "Epoch 166/400\n",
            "91/91 [==============================] - 4s 44ms/step - loss: 0.0024 - accuracy: 0.9949 - val_loss: 0.1136 - val_accuracy: 0.8644\n",
            "Epoch 167/400\n",
            "91/91 [==============================] - 4s 43ms/step - loss: 0.0027 - accuracy: 0.9929 - val_loss: 0.1144 - val_accuracy: 0.8725\n",
            "Epoch 168/400\n",
            "91/91 [==============================] - 4s 44ms/step - loss: 0.0016 - accuracy: 0.9962 - val_loss: 0.1306 - val_accuracy: 0.8666\n",
            "Epoch 169/400\n",
            "91/91 [==============================] - 4s 43ms/step - loss: 0.0026 - accuracy: 0.9943 - val_loss: 0.1135 - val_accuracy: 0.8622\n",
            "Epoch 170/400\n",
            "91/91 [==============================] - 4s 44ms/step - loss: 0.0023 - accuracy: 0.9947 - val_loss: 0.1027 - val_accuracy: 0.8705\n",
            "Epoch 171/400\n",
            "91/91 [==============================] - 4s 44ms/step - loss: 0.0012 - accuracy: 0.9965 - val_loss: 0.1290 - val_accuracy: 0.8763\n",
            "Epoch 172/400\n",
            "91/91 [==============================] - 4s 44ms/step - loss: 0.0012 - accuracy: 0.9971 - val_loss: 0.1439 - val_accuracy: 0.8731\n",
            "Epoch 173/400\n",
            "91/91 [==============================] - 4s 44ms/step - loss: 0.0016 - accuracy: 0.9960 - val_loss: 0.1224 - val_accuracy: 0.8717\n",
            "Epoch 174/400\n",
            "91/91 [==============================] - 4s 44ms/step - loss: 0.0012 - accuracy: 0.9979 - val_loss: 0.1326 - val_accuracy: 0.8763\n",
            "Epoch 175/400\n",
            "91/91 [==============================] - 4s 44ms/step - loss: 0.0011 - accuracy: 0.9977 - val_loss: 0.1133 - val_accuracy: 0.8769\n",
            "Epoch 176/400\n",
            "91/91 [==============================] - 4s 44ms/step - loss: 0.0012 - accuracy: 0.9984 - val_loss: 0.1208 - val_accuracy: 0.8697\n",
            "Epoch 177/400\n",
            "91/91 [==============================] - 4s 44ms/step - loss: 7.4232e-04 - accuracy: 0.9983 - val_loss: 0.1273 - val_accuracy: 0.8779\n",
            "Epoch 178/400\n",
            "91/91 [==============================] - 4s 44ms/step - loss: 7.9126e-04 - accuracy: 0.9985 - val_loss: 0.1090 - val_accuracy: 0.8757\n",
            "Epoch 179/400\n",
            "91/91 [==============================] - 4s 43ms/step - loss: 6.6128e-04 - accuracy: 0.9986 - val_loss: 0.1160 - val_accuracy: 0.8795\n",
            "Epoch 180/400\n",
            "91/91 [==============================] - 4s 43ms/step - loss: 5.8512e-04 - accuracy: 0.9985 - val_loss: 0.1175 - val_accuracy: 0.8837\n",
            "Epoch 181/400\n",
            "91/91 [==============================] - 4s 44ms/step - loss: 7.5416e-04 - accuracy: 0.9984 - val_loss: 0.1132 - val_accuracy: 0.8813\n",
            "Epoch 182/400\n",
            "91/91 [==============================] - 4s 44ms/step - loss: 5.4157e-04 - accuracy: 0.9989 - val_loss: 0.1347 - val_accuracy: 0.8741\n",
            "Epoch 183/400\n",
            "91/91 [==============================] - 4s 44ms/step - loss: 6.2494e-04 - accuracy: 0.9981 - val_loss: 0.1182 - val_accuracy: 0.8781\n",
            "Epoch 184/400\n",
            "91/91 [==============================] - 4s 44ms/step - loss: 8.3690e-04 - accuracy: 0.9984 - val_loss: 0.1161 - val_accuracy: 0.8759\n",
            "Epoch 185/400\n",
            "91/91 [==============================] - 4s 44ms/step - loss: 8.0044e-04 - accuracy: 0.9975 - val_loss: 0.1359 - val_accuracy: 0.8680\n",
            "Epoch 186/400\n",
            "91/91 [==============================] - 4s 43ms/step - loss: 4.6016e-04 - accuracy: 0.9991 - val_loss: 0.1592 - val_accuracy: 0.8654\n",
            "Epoch 187/400\n",
            "91/91 [==============================] - 4s 44ms/step - loss: 6.5656e-04 - accuracy: 0.9985 - val_loss: 0.1184 - val_accuracy: 0.8753\n",
            "Epoch 188/400\n",
            "91/91 [==============================] - 4s 44ms/step - loss: 6.7284e-04 - accuracy: 0.9985 - val_loss: 0.1628 - val_accuracy: 0.8596\n",
            "Epoch 189/400\n",
            "91/91 [==============================] - 4s 43ms/step - loss: 6.3727e-04 - accuracy: 0.9985 - val_loss: 0.1293 - val_accuracy: 0.8749\n",
            "Epoch 190/400\n",
            "91/91 [==============================] - 4s 43ms/step - loss: 4.5416e-04 - accuracy: 0.9987 - val_loss: 0.1187 - val_accuracy: 0.8787\n",
            "Epoch 191/400\n",
            "91/91 [==============================] - 4s 44ms/step - loss: 5.6095e-04 - accuracy: 0.9983 - val_loss: 0.1473 - val_accuracy: 0.8749\n",
            "Epoch 192/400\n",
            "91/91 [==============================] - 4s 44ms/step - loss: 8.2176e-04 - accuracy: 0.9983 - val_loss: 0.1183 - val_accuracy: 0.8759\n",
            "Epoch 193/400\n",
            "91/91 [==============================] - 4s 44ms/step - loss: 5.9960e-04 - accuracy: 0.9985 - val_loss: 0.1131 - val_accuracy: 0.8829\n",
            "Epoch 194/400\n",
            "91/91 [==============================] - 4s 44ms/step - loss: 6.1053e-04 - accuracy: 0.9986 - val_loss: 0.1198 - val_accuracy: 0.8811\n",
            "Epoch 195/400\n",
            "91/91 [==============================] - 4s 44ms/step - loss: 6.7401e-04 - accuracy: 0.9983 - val_loss: 0.1279 - val_accuracy: 0.8749\n",
            "Epoch 196/400\n",
            "91/91 [==============================] - 4s 44ms/step - loss: 0.0046 - accuracy: 0.9879 - val_loss: 0.0701 - val_accuracy: 0.8227\n",
            "Epoch 197/400\n",
            "91/91 [==============================] - 4s 44ms/step - loss: 0.0088 - accuracy: 0.9753 - val_loss: 0.0881 - val_accuracy: 0.8580\n",
            "Epoch 198/400\n",
            "91/91 [==============================] - 4s 44ms/step - loss: 0.0056 - accuracy: 0.9858 - val_loss: 0.1015 - val_accuracy: 0.8668\n",
            "Epoch 199/400\n",
            "91/91 [==============================] - 4s 44ms/step - loss: 0.0042 - accuracy: 0.9889 - val_loss: 0.1040 - val_accuracy: 0.8437\n",
            "Epoch 200/400\n",
            "91/91 [==============================] - 4s 44ms/step - loss: 0.0024 - accuracy: 0.9923 - val_loss: 0.1412 - val_accuracy: 0.8642\n",
            "Epoch 201/400\n",
            "91/91 [==============================] - 4s 44ms/step - loss: 0.0032 - accuracy: 0.9924 - val_loss: 0.1057 - val_accuracy: 0.8691\n",
            "Epoch 202/400\n",
            "91/91 [==============================] - 4s 44ms/step - loss: 0.0019 - accuracy: 0.9951 - val_loss: 0.1279 - val_accuracy: 0.8709\n",
            "Epoch 203/400\n",
            "91/91 [==============================] - 4s 44ms/step - loss: 0.0012 - accuracy: 0.9970 - val_loss: 0.1302 - val_accuracy: 0.8678\n",
            "Epoch 204/400\n",
            "91/91 [==============================] - 4s 44ms/step - loss: 0.0011 - accuracy: 0.9968 - val_loss: 0.1365 - val_accuracy: 0.8723\n",
            "Epoch 205/400\n",
            "91/91 [==============================] - 4s 44ms/step - loss: 0.0011 - accuracy: 0.9966 - val_loss: 0.1436 - val_accuracy: 0.8672\n",
            "Epoch 206/400\n",
            "91/91 [==============================] - 4s 44ms/step - loss: 0.0014 - accuracy: 0.9958 - val_loss: 0.1352 - val_accuracy: 0.8801\n",
            "Epoch 207/400\n",
            "91/91 [==============================] - 4s 44ms/step - loss: 0.0015 - accuracy: 0.9962 - val_loss: 0.1226 - val_accuracy: 0.8797\n",
            "Epoch 208/400\n",
            "91/91 [==============================] - 4s 44ms/step - loss: 0.0013 - accuracy: 0.9968 - val_loss: 0.1293 - val_accuracy: 0.8817\n",
            "Epoch 209/400\n",
            "91/91 [==============================] - 4s 44ms/step - loss: 7.7834e-04 - accuracy: 0.9978 - val_loss: 0.1326 - val_accuracy: 0.8833\n",
            "Epoch 210/400\n",
            "91/91 [==============================] - 4s 44ms/step - loss: 4.9317e-04 - accuracy: 0.9986 - val_loss: 0.1505 - val_accuracy: 0.8638\n",
            "Epoch 211/400\n",
            "91/91 [==============================] - 4s 44ms/step - loss: 7.6483e-04 - accuracy: 0.9983 - val_loss: 0.1270 - val_accuracy: 0.8857\n",
            "Epoch 212/400\n",
            "91/91 [==============================] - 4s 44ms/step - loss: 6.6539e-04 - accuracy: 0.9984 - val_loss: 0.1182 - val_accuracy: 0.8755\n",
            "Epoch 213/400\n",
            "91/91 [==============================] - 4s 44ms/step - loss: 4.8841e-04 - accuracy: 0.9987 - val_loss: 0.1246 - val_accuracy: 0.8847\n",
            "Epoch 214/400\n",
            "91/91 [==============================] - 4s 43ms/step - loss: 6.0975e-04 - accuracy: 0.9986 - val_loss: 0.1214 - val_accuracy: 0.8807\n",
            "Epoch 215/400\n",
            "91/91 [==============================] - 4s 44ms/step - loss: 5.2719e-04 - accuracy: 0.9985 - val_loss: 0.1111 - val_accuracy: 0.8839\n",
            "Epoch 216/400\n",
            "91/91 [==============================] - 4s 44ms/step - loss: 6.7992e-04 - accuracy: 0.9981 - val_loss: 0.1121 - val_accuracy: 0.8815\n",
            "Epoch 217/400\n",
            "91/91 [==============================] - 4s 44ms/step - loss: 6.3643e-04 - accuracy: 0.9981 - val_loss: 0.1238 - val_accuracy: 0.8789\n",
            "Epoch 218/400\n",
            "91/91 [==============================] - 4s 44ms/step - loss: 5.2465e-04 - accuracy: 0.9985 - val_loss: 0.1123 - val_accuracy: 0.8853\n",
            "Epoch 219/400\n",
            "91/91 [==============================] - 4s 44ms/step - loss: 4.4810e-04 - accuracy: 0.9986 - val_loss: 0.1275 - val_accuracy: 0.8761\n",
            "Epoch 220/400\n",
            "91/91 [==============================] - 4s 44ms/step - loss: 5.1901e-04 - accuracy: 0.9985 - val_loss: 0.1364 - val_accuracy: 0.8801\n",
            "Epoch 221/400\n",
            "91/91 [==============================] - 4s 44ms/step - loss: 3.5953e-04 - accuracy: 0.9989 - val_loss: 0.1261 - val_accuracy: 0.8801\n",
            "Epoch 222/400\n",
            "91/91 [==============================] - 4s 44ms/step - loss: 6.6092e-04 - accuracy: 0.9983 - val_loss: 0.1120 - val_accuracy: 0.8847\n",
            "Epoch 223/400\n",
            "91/91 [==============================] - 4s 44ms/step - loss: 5.0401e-04 - accuracy: 0.9985 - val_loss: 0.1133 - val_accuracy: 0.8853\n",
            "Epoch 224/400\n",
            "91/91 [==============================] - 4s 44ms/step - loss: 5.0113e-04 - accuracy: 0.9986 - val_loss: 0.1084 - val_accuracy: 0.8833\n",
            "Epoch 225/400\n",
            "91/91 [==============================] - 4s 44ms/step - loss: 5.7633e-04 - accuracy: 0.9985 - val_loss: 0.1132 - val_accuracy: 0.8845\n",
            "Epoch 226/400\n",
            "91/91 [==============================] - 4s 44ms/step - loss: 0.0014 - accuracy: 0.9970 - val_loss: 0.1190 - val_accuracy: 0.8654\n",
            "Epoch 227/400\n",
            "91/91 [==============================] - 4s 44ms/step - loss: 0.0063 - accuracy: 0.9836 - val_loss: 0.1341 - val_accuracy: 0.8411\n",
            "Epoch 228/400\n",
            "91/91 [==============================] - 4s 44ms/step - loss: 0.0061 - accuracy: 0.9833 - val_loss: 0.1029 - val_accuracy: 0.8405\n",
            "Epoch 229/400\n",
            "91/91 [==============================] - 4s 44ms/step - loss: 0.0036 - accuracy: 0.9918 - val_loss: 0.1141 - val_accuracy: 0.8753\n",
            "Epoch 230/400\n",
            "91/91 [==============================] - 4s 44ms/step - loss: 0.0021 - accuracy: 0.9947 - val_loss: 0.1129 - val_accuracy: 0.8755\n",
            "Epoch 231/400\n",
            "91/91 [==============================] - 4s 44ms/step - loss: 0.0012 - accuracy: 0.9970 - val_loss: 0.1321 - val_accuracy: 0.8783\n",
            "Epoch 232/400\n",
            "91/91 [==============================] - 4s 44ms/step - loss: 0.0022 - accuracy: 0.9948 - val_loss: 0.1101 - val_accuracy: 0.8552\n",
            "Epoch 233/400\n",
            "91/91 [==============================] - 4s 44ms/step - loss: 0.0028 - accuracy: 0.9930 - val_loss: 0.1138 - val_accuracy: 0.8783\n",
            "Epoch 234/400\n",
            "91/91 [==============================] - 4s 44ms/step - loss: 0.0017 - accuracy: 0.9961 - val_loss: 0.1176 - val_accuracy: 0.8739\n",
            "Epoch 235/400\n",
            "91/91 [==============================] - 4s 44ms/step - loss: 0.0013 - accuracy: 0.9973 - val_loss: 0.1253 - val_accuracy: 0.8825\n",
            "Epoch 236/400\n",
            "91/91 [==============================] - 4s 44ms/step - loss: 8.1555e-04 - accuracy: 0.9980 - val_loss: 0.1367 - val_accuracy: 0.8795\n",
            "Epoch 237/400\n",
            "91/91 [==============================] - 4s 44ms/step - loss: 7.5464e-04 - accuracy: 0.9982 - val_loss: 0.1302 - val_accuracy: 0.8797\n",
            "Epoch 238/400\n",
            "91/91 [==============================] - 4s 44ms/step - loss: 4.9199e-04 - accuracy: 0.9985 - val_loss: 0.1376 - val_accuracy: 0.8829\n",
            "Epoch 239/400\n",
            "91/91 [==============================] - 4s 44ms/step - loss: 5.2419e-04 - accuracy: 0.9987 - val_loss: 0.1307 - val_accuracy: 0.8847\n",
            "Epoch 240/400\n",
            "91/91 [==============================] - 4s 44ms/step - loss: 5.0475e-04 - accuracy: 0.9987 - val_loss: 0.1237 - val_accuracy: 0.8845\n",
            "Epoch 241/400\n",
            "91/91 [==============================] - 4s 44ms/step - loss: 4.5243e-04 - accuracy: 0.9987 - val_loss: 0.1239 - val_accuracy: 0.8849\n",
            "Epoch 242/400\n",
            "91/91 [==============================] - 4s 44ms/step - loss: 6.5491e-04 - accuracy: 0.9981 - val_loss: 0.1220 - val_accuracy: 0.8785\n",
            "Epoch 243/400\n",
            "91/91 [==============================] - 4s 44ms/step - loss: 5.8840e-04 - accuracy: 0.9985 - val_loss: 0.1191 - val_accuracy: 0.8821\n",
            "Epoch 244/400\n",
            "91/91 [==============================] - 4s 44ms/step - loss: 5.3462e-04 - accuracy: 0.9984 - val_loss: 0.1193 - val_accuracy: 0.8795\n",
            "Epoch 245/400\n",
            "91/91 [==============================] - 4s 44ms/step - loss: 5.5928e-04 - accuracy: 0.9987 - val_loss: 0.1254 - val_accuracy: 0.8785\n",
            "Epoch 246/400\n",
            "91/91 [==============================] - 4s 44ms/step - loss: 4.1042e-04 - accuracy: 0.9987 - val_loss: 0.1193 - val_accuracy: 0.8823\n",
            "Epoch 247/400\n",
            "91/91 [==============================] - 4s 44ms/step - loss: 5.5383e-04 - accuracy: 0.9986 - val_loss: 0.1204 - val_accuracy: 0.8839\n",
            "Epoch 248/400\n",
            "91/91 [==============================] - 4s 44ms/step - loss: 5.4970e-04 - accuracy: 0.9984 - val_loss: 0.1140 - val_accuracy: 0.8813\n",
            "Epoch 249/400\n",
            "91/91 [==============================] - 4s 44ms/step - loss: 5.0322e-04 - accuracy: 0.9985 - val_loss: 0.1262 - val_accuracy: 0.8733\n",
            "Epoch 250/400\n",
            "91/91 [==============================] - 4s 44ms/step - loss: 8.3014e-04 - accuracy: 0.9985 - val_loss: 0.1021 - val_accuracy: 0.8825\n",
            "Epoch 251/400\n",
            "91/91 [==============================] - 4s 44ms/step - loss: 6.7544e-04 - accuracy: 0.9985 - val_loss: 0.1146 - val_accuracy: 0.8741\n",
            "Epoch 252/400\n",
            "91/91 [==============================] - 4s 44ms/step - loss: 5.2105e-04 - accuracy: 0.9989 - val_loss: 0.1156 - val_accuracy: 0.8815\n",
            "Epoch 253/400\n",
            "91/91 [==============================] - 4s 44ms/step - loss: 4.7247e-04 - accuracy: 0.9982 - val_loss: 0.1075 - val_accuracy: 0.8833\n",
            "Epoch 254/400\n",
            "91/91 [==============================] - 4s 44ms/step - loss: 6.0643e-04 - accuracy: 0.9983 - val_loss: 0.1091 - val_accuracy: 0.8849\n",
            "Epoch 255/400\n",
            "91/91 [==============================] - 4s 44ms/step - loss: 6.3430e-04 - accuracy: 0.9985 - val_loss: 0.1105 - val_accuracy: 0.8801\n",
            "Epoch 256/400\n",
            "91/91 [==============================] - 4s 44ms/step - loss: 4.6384e-04 - accuracy: 0.9986 - val_loss: 0.1170 - val_accuracy: 0.8823\n",
            "Epoch 257/400\n",
            "91/91 [==============================] - 4s 44ms/step - loss: 5.0440e-04 - accuracy: 0.9991 - val_loss: 0.1182 - val_accuracy: 0.8799\n",
            "Epoch 258/400\n",
            "91/91 [==============================] - 4s 44ms/step - loss: 4.5177e-04 - accuracy: 0.9987 - val_loss: 0.1266 - val_accuracy: 0.8815\n",
            "Epoch 259/400\n",
            "91/91 [==============================] - 4s 45ms/step - loss: 7.9792e-04 - accuracy: 0.9985 - val_loss: 0.1266 - val_accuracy: 0.8699\n",
            "Epoch 260/400\n",
            "91/91 [==============================] - 4s 45ms/step - loss: 0.0040 - accuracy: 0.9886 - val_loss: 0.0762 - val_accuracy: 0.8431\n",
            "Epoch 261/400\n",
            "91/91 [==============================] - 4s 45ms/step - loss: 0.0057 - accuracy: 0.9837 - val_loss: 0.1001 - val_accuracy: 0.8791\n",
            "Epoch 262/400\n",
            "91/91 [==============================] - 4s 44ms/step - loss: 0.0038 - accuracy: 0.9900 - val_loss: 0.1006 - val_accuracy: 0.8664\n",
            "Epoch 263/400\n",
            "91/91 [==============================] - 4s 44ms/step - loss: 0.0019 - accuracy: 0.9952 - val_loss: 0.1243 - val_accuracy: 0.8763\n",
            "Epoch 264/400\n",
            "91/91 [==============================] - 4s 45ms/step - loss: 0.0017 - accuracy: 0.9966 - val_loss: 0.1276 - val_accuracy: 0.8761\n",
            "Epoch 265/400\n",
            "91/91 [==============================] - 4s 44ms/step - loss: 6.7203e-04 - accuracy: 0.9978 - val_loss: 0.1403 - val_accuracy: 0.8801\n",
            "Epoch 266/400\n",
            "91/91 [==============================] - 4s 45ms/step - loss: 4.4399e-04 - accuracy: 0.9988 - val_loss: 0.1537 - val_accuracy: 0.8773\n",
            "Epoch 267/400\n",
            "91/91 [==============================] - 4s 44ms/step - loss: 0.0014 - accuracy: 0.9965 - val_loss: 0.1375 - val_accuracy: 0.8727\n",
            "Epoch 268/400\n",
            "91/91 [==============================] - 4s 45ms/step - loss: 0.0027 - accuracy: 0.9935 - val_loss: 0.1182 - val_accuracy: 0.8757\n",
            "Epoch 269/400\n",
            "91/91 [==============================] - 4s 44ms/step - loss: 0.0015 - accuracy: 0.9961 - val_loss: 0.1326 - val_accuracy: 0.8759\n",
            "Epoch 270/400\n",
            "91/91 [==============================] - 4s 45ms/step - loss: 6.6995e-04 - accuracy: 0.9986 - val_loss: 0.1494 - val_accuracy: 0.8827\n",
            "Epoch 271/400\n",
            "91/91 [==============================] - 4s 44ms/step - loss: 5.7302e-04 - accuracy: 0.9983 - val_loss: 0.1450 - val_accuracy: 0.8779\n",
            "Epoch 272/400\n",
            "91/91 [==============================] - 4s 45ms/step - loss: 3.7801e-04 - accuracy: 0.9986 - val_loss: 0.1447 - val_accuracy: 0.8815\n",
            "Epoch 273/400\n",
            "91/91 [==============================] - 4s 44ms/step - loss: 4.4693e-04 - accuracy: 0.9985 - val_loss: 0.1465 - val_accuracy: 0.8849\n",
            "Epoch 274/400\n",
            "91/91 [==============================] - 4s 44ms/step - loss: 5.2415e-04 - accuracy: 0.9982 - val_loss: 0.1395 - val_accuracy: 0.8849\n",
            "Epoch 275/400\n",
            "91/91 [==============================] - 4s 45ms/step - loss: 5.5971e-04 - accuracy: 0.9983 - val_loss: 0.1237 - val_accuracy: 0.8777\n",
            "Epoch 276/400\n",
            "91/91 [==============================] - 4s 45ms/step - loss: 3.9030e-04 - accuracy: 0.9985 - val_loss: 0.1379 - val_accuracy: 0.8829\n",
            "Epoch 277/400\n",
            "91/91 [==============================] - 4s 45ms/step - loss: 6.3587e-04 - accuracy: 0.9985 - val_loss: 0.1262 - val_accuracy: 0.8797\n",
            "Epoch 278/400\n",
            "91/91 [==============================] - 4s 44ms/step - loss: 5.5808e-04 - accuracy: 0.9988 - val_loss: 0.1288 - val_accuracy: 0.8795\n",
            "Epoch 279/400\n",
            "91/91 [==============================] - 4s 44ms/step - loss: 4.7296e-04 - accuracy: 0.9985 - val_loss: 0.1311 - val_accuracy: 0.8791\n",
            "Epoch 280/400\n",
            "91/91 [==============================] - 4s 45ms/step - loss: 3.8571e-04 - accuracy: 0.9987 - val_loss: 0.1329 - val_accuracy: 0.8815\n",
            "Epoch 281/400\n",
            "91/91 [==============================] - 4s 44ms/step - loss: 4.3214e-04 - accuracy: 0.9987 - val_loss: 0.1357 - val_accuracy: 0.8815\n",
            "Epoch 282/400\n",
            "91/91 [==============================] - 4s 45ms/step - loss: 5.7978e-04 - accuracy: 0.9983 - val_loss: 0.1230 - val_accuracy: 0.8795\n",
            "Epoch 283/400\n",
            "91/91 [==============================] - 4s 45ms/step - loss: 5.5672e-04 - accuracy: 0.9984 - val_loss: 0.1213 - val_accuracy: 0.8801\n",
            "Epoch 284/400\n",
            "91/91 [==============================] - 4s 44ms/step - loss: 5.2441e-04 - accuracy: 0.9986 - val_loss: 0.1226 - val_accuracy: 0.8747\n",
            "Epoch 285/400\n",
            "91/91 [==============================] - 4s 45ms/step - loss: 7.4684e-04 - accuracy: 0.9984 - val_loss: 0.1090 - val_accuracy: 0.8797\n",
            "Epoch 286/400\n",
            "91/91 [==============================] - 4s 45ms/step - loss: 4.8062e-04 - accuracy: 0.9985 - val_loss: 0.1229 - val_accuracy: 0.8833\n",
            "Epoch 287/400\n",
            "91/91 [==============================] - 4s 45ms/step - loss: 4.5130e-04 - accuracy: 0.9983 - val_loss: 0.1235 - val_accuracy: 0.8839\n",
            "Epoch 288/400\n",
            "91/91 [==============================] - 4s 45ms/step - loss: 4.6278e-04 - accuracy: 0.9986 - val_loss: 0.1301 - val_accuracy: 0.8837\n",
            "Epoch 289/400\n",
            "91/91 [==============================] - 4s 46ms/step - loss: 5.9923e-04 - accuracy: 0.9987 - val_loss: 0.1186 - val_accuracy: 0.8793\n",
            "Epoch 290/400\n",
            "91/91 [==============================] - 4s 45ms/step - loss: 6.0799e-04 - accuracy: 0.9986 - val_loss: 0.1240 - val_accuracy: 0.8743\n",
            "Epoch 291/400\n",
            "91/91 [==============================] - 4s 45ms/step - loss: 5.1482e-04 - accuracy: 0.9985 - val_loss: 0.1230 - val_accuracy: 0.8819\n",
            "Epoch 292/400\n",
            "91/91 [==============================] - 4s 44ms/step - loss: 4.9219e-04 - accuracy: 0.9984 - val_loss: 0.1223 - val_accuracy: 0.8837\n",
            "Epoch 293/400\n",
            "91/91 [==============================] - 4s 45ms/step - loss: 6.6811e-04 - accuracy: 0.9983 - val_loss: 0.1197 - val_accuracy: 0.8769\n",
            "Epoch 294/400\n",
            "91/91 [==============================] - 4s 45ms/step - loss: 5.3415e-04 - accuracy: 0.9985 - val_loss: 0.1266 - val_accuracy: 0.8799\n",
            "Epoch 295/400\n",
            "91/91 [==============================] - 4s 44ms/step - loss: 5.5006e-04 - accuracy: 0.9985 - val_loss: 0.1245 - val_accuracy: 0.8805\n",
            "Epoch 296/400\n",
            "91/91 [==============================] - 4s 44ms/step - loss: 4.1701e-04 - accuracy: 0.9986 - val_loss: 0.1227 - val_accuracy: 0.8817\n",
            "Epoch 297/400\n",
            "91/91 [==============================] - 4s 45ms/step - loss: 5.1433e-04 - accuracy: 0.9987 - val_loss: 0.1258 - val_accuracy: 0.8803\n",
            "Epoch 298/400\n",
            "91/91 [==============================] - 4s 45ms/step - loss: 5.3183e-04 - accuracy: 0.9984 - val_loss: 0.1221 - val_accuracy: 0.8823\n",
            "Epoch 299/400\n",
            "91/91 [==============================] - 4s 45ms/step - loss: 4.5438e-04 - accuracy: 0.9983 - val_loss: 0.1191 - val_accuracy: 0.8797\n",
            "Epoch 300/400\n",
            "91/91 [==============================] - 4s 45ms/step - loss: 4.4293e-04 - accuracy: 0.9987 - val_loss: 0.1471 - val_accuracy: 0.8678\n",
            "Epoch 301/400\n",
            "91/91 [==============================] - 4s 44ms/step - loss: 3.5312e-04 - accuracy: 0.9991 - val_loss: 0.1341 - val_accuracy: 0.8803\n",
            "Epoch 302/400\n",
            "91/91 [==============================] - 4s 45ms/step - loss: 3.4596e-04 - accuracy: 0.9988 - val_loss: 0.1252 - val_accuracy: 0.8847\n",
            "Epoch 303/400\n",
            "91/91 [==============================] - 4s 45ms/step - loss: 4.5827e-04 - accuracy: 0.9989 - val_loss: 0.1501 - val_accuracy: 0.8699\n",
            "Epoch 304/400\n",
            "91/91 [==============================] - 4s 45ms/step - loss: 6.5525e-04 - accuracy: 0.9985 - val_loss: 0.1138 - val_accuracy: 0.8821\n",
            "Epoch 305/400\n",
            "91/91 [==============================] - 4s 44ms/step - loss: 0.0039 - accuracy: 0.9916 - val_loss: 0.0753 - val_accuracy: 0.8373\n",
            "Epoch 306/400\n",
            "91/91 [==============================] - 4s 45ms/step - loss: 0.0081 - accuracy: 0.9775 - val_loss: 0.0886 - val_accuracy: 0.8502\n",
            "Epoch 307/400\n",
            "91/91 [==============================] - 4s 45ms/step - loss: 0.0039 - accuracy: 0.9909 - val_loss: 0.1044 - val_accuracy: 0.8586\n",
            "Epoch 308/400\n",
            "91/91 [==============================] - 4s 44ms/step - loss: 0.0020 - accuracy: 0.9947 - val_loss: 0.1078 - val_accuracy: 0.8785\n",
            "Epoch 309/400\n",
            "91/91 [==============================] - 4s 45ms/step - loss: 0.0036 - accuracy: 0.9906 - val_loss: 0.0995 - val_accuracy: 0.8773\n",
            "Epoch 310/400\n",
            "91/91 [==============================] - 4s 45ms/step - loss: 0.0013 - accuracy: 0.9970 - val_loss: 0.1199 - val_accuracy: 0.8833\n",
            "Epoch 311/400\n",
            "91/91 [==============================] - 4s 44ms/step - loss: 6.2195e-04 - accuracy: 0.9981 - val_loss: 0.1310 - val_accuracy: 0.8811\n",
            "Epoch 312/400\n",
            "91/91 [==============================] - 4s 45ms/step - loss: 4.4365e-04 - accuracy: 0.9985 - val_loss: 0.1385 - val_accuracy: 0.8829\n",
            "Epoch 313/400\n",
            "91/91 [==============================] - 4s 44ms/step - loss: 4.7858e-04 - accuracy: 0.9987 - val_loss: 0.1397 - val_accuracy: 0.8805\n",
            "Epoch 314/400\n",
            "91/91 [==============================] - 4s 44ms/step - loss: 6.0142e-04 - accuracy: 0.9984 - val_loss: 0.1281 - val_accuracy: 0.8815\n",
            "Epoch 315/400\n",
            "91/91 [==============================] - 4s 44ms/step - loss: 5.4355e-04 - accuracy: 0.9983 - val_loss: 0.1264 - val_accuracy: 0.8831\n",
            "Epoch 316/400\n",
            "91/91 [==============================] - 4s 45ms/step - loss: 5.8458e-04 - accuracy: 0.9984 - val_loss: 0.1283 - val_accuracy: 0.8817\n",
            "Epoch 317/400\n",
            "91/91 [==============================] - 4s 45ms/step - loss: 8.4039e-04 - accuracy: 0.9985 - val_loss: 0.1119 - val_accuracy: 0.8799\n",
            "Epoch 318/400\n",
            "91/91 [==============================] - 4s 45ms/step - loss: 4.7064e-04 - accuracy: 0.9982 - val_loss: 0.1193 - val_accuracy: 0.8829\n",
            "Epoch 319/400\n",
            "91/91 [==============================] - 4s 45ms/step - loss: 5.5009e-04 - accuracy: 0.9984 - val_loss: 0.1198 - val_accuracy: 0.8795\n",
            "Epoch 320/400\n",
            "91/91 [==============================] - 4s 45ms/step - loss: 5.3525e-04 - accuracy: 0.9982 - val_loss: 0.1213 - val_accuracy: 0.8817\n",
            "Epoch 321/400\n",
            "91/91 [==============================] - 4s 45ms/step - loss: 5.5091e-04 - accuracy: 0.9985 - val_loss: 0.1194 - val_accuracy: 0.8809\n",
            "Epoch 322/400\n",
            "91/91 [==============================] - 4s 45ms/step - loss: 4.1237e-04 - accuracy: 0.9985 - val_loss: 0.1225 - val_accuracy: 0.8811\n",
            "Epoch 323/400\n",
            "91/91 [==============================] - 4s 45ms/step - loss: 4.4325e-04 - accuracy: 0.9985 - val_loss: 0.1211 - val_accuracy: 0.8809\n",
            "Epoch 324/400\n",
            "91/91 [==============================] - 4s 45ms/step - loss: 4.0954e-04 - accuracy: 0.9983 - val_loss: 0.1242 - val_accuracy: 0.8841\n",
            "Epoch 325/400\n",
            "91/91 [==============================] - 4s 45ms/step - loss: 5.9781e-04 - accuracy: 0.9983 - val_loss: 0.1102 - val_accuracy: 0.8781\n",
            "Epoch 326/400\n",
            "91/91 [==============================] - 4s 45ms/step - loss: 3.6445e-04 - accuracy: 0.9986 - val_loss: 0.1236 - val_accuracy: 0.8813\n",
            "Epoch 327/400\n",
            "91/91 [==============================] - 4s 45ms/step - loss: 4.9776e-04 - accuracy: 0.9985 - val_loss: 0.1203 - val_accuracy: 0.8815\n",
            "Epoch 328/400\n",
            "91/91 [==============================] - 4s 44ms/step - loss: 4.9225e-04 - accuracy: 0.9989 - val_loss: 0.1209 - val_accuracy: 0.8825\n",
            "Epoch 329/400\n",
            "91/91 [==============================] - 4s 44ms/step - loss: 4.5098e-04 - accuracy: 0.9982 - val_loss: 0.1208 - val_accuracy: 0.8847\n",
            "Epoch 330/400\n",
            "91/91 [==============================] - 4s 45ms/step - loss: 7.1801e-04 - accuracy: 0.9986 - val_loss: 0.1118 - val_accuracy: 0.8831\n",
            "Epoch 331/400\n",
            "91/91 [==============================] - 4s 45ms/step - loss: 5.2925e-04 - accuracy: 0.9987 - val_loss: 0.1248 - val_accuracy: 0.8777\n",
            "Epoch 332/400\n",
            "91/91 [==============================] - 4s 45ms/step - loss: 4.5824e-04 - accuracy: 0.9983 - val_loss: 0.1266 - val_accuracy: 0.8745\n",
            "Epoch 333/400\n",
            "91/91 [==============================] - 4s 44ms/step - loss: 5.8668e-04 - accuracy: 0.9984 - val_loss: 0.1268 - val_accuracy: 0.8823\n",
            "Epoch 334/400\n",
            "91/91 [==============================] - 4s 44ms/step - loss: 5.0512e-04 - accuracy: 0.9988 - val_loss: 0.1160 - val_accuracy: 0.8777\n",
            "Epoch 335/400\n",
            "91/91 [==============================] - 4s 45ms/step - loss: 5.3715e-04 - accuracy: 0.9985 - val_loss: 0.1347 - val_accuracy: 0.8797\n",
            "Epoch 336/400\n",
            "91/91 [==============================] - 4s 45ms/step - loss: 5.2747e-04 - accuracy: 0.9985 - val_loss: 0.1364 - val_accuracy: 0.8753\n",
            "Epoch 337/400\n",
            "91/91 [==============================] - 4s 44ms/step - loss: 0.0012 - accuracy: 0.9969 - val_loss: 0.1233 - val_accuracy: 0.8703\n",
            "Epoch 338/400\n",
            "91/91 [==============================] - 4s 44ms/step - loss: 0.0064 - accuracy: 0.9846 - val_loss: 0.0741 - val_accuracy: 0.8634\n",
            "Epoch 339/400\n",
            "91/91 [==============================] - 4s 45ms/step - loss: 0.0038 - accuracy: 0.9911 - val_loss: 0.1029 - val_accuracy: 0.8759\n",
            "Epoch 340/400\n",
            "91/91 [==============================] - 4s 45ms/step - loss: 0.0020 - accuracy: 0.9948 - val_loss: 0.1234 - val_accuracy: 0.8703\n",
            "Epoch 341/400\n",
            "91/91 [==============================] - 4s 45ms/step - loss: 0.0016 - accuracy: 0.9966 - val_loss: 0.1066 - val_accuracy: 0.8602\n",
            "Epoch 342/400\n",
            "91/91 [==============================] - 4s 44ms/step - loss: 0.0013 - accuracy: 0.9966 - val_loss: 0.1551 - val_accuracy: 0.8713\n",
            "Epoch 343/400\n",
            "91/91 [==============================] - 4s 45ms/step - loss: 0.0014 - accuracy: 0.9957 - val_loss: 0.1514 - val_accuracy: 0.8717\n",
            "Epoch 344/400\n",
            "91/91 [==============================] - 4s 45ms/step - loss: 0.0021 - accuracy: 0.9940 - val_loss: 0.1276 - val_accuracy: 0.8676\n",
            "Epoch 345/400\n",
            "91/91 [==============================] - 4s 45ms/step - loss: 9.7445e-04 - accuracy: 0.9973 - val_loss: 0.1413 - val_accuracy: 0.8678\n",
            "Epoch 346/400\n",
            "91/91 [==============================] - 4s 46ms/step - loss: 0.0012 - accuracy: 0.9967 - val_loss: 0.1325 - val_accuracy: 0.8668\n",
            "Epoch 347/400\n",
            "91/91 [==============================] - 4s 45ms/step - loss: 9.9133e-04 - accuracy: 0.9973 - val_loss: 0.1452 - val_accuracy: 0.8787\n",
            "Epoch 348/400\n",
            "91/91 [==============================] - 4s 45ms/step - loss: 7.4722e-04 - accuracy: 0.9979 - val_loss: 0.1453 - val_accuracy: 0.8769\n",
            "Epoch 349/400\n",
            "91/91 [==============================] - 4s 45ms/step - loss: 7.1073e-04 - accuracy: 0.9980 - val_loss: 0.1491 - val_accuracy: 0.8789\n",
            "Epoch 350/400\n",
            "91/91 [==============================] - 4s 45ms/step - loss: 5.1440e-04 - accuracy: 0.9985 - val_loss: 0.1510 - val_accuracy: 0.8839\n",
            "Epoch 351/400\n",
            "91/91 [==============================] - 4s 45ms/step - loss: 3.8298e-04 - accuracy: 0.9989 - val_loss: 0.1519 - val_accuracy: 0.8831\n",
            "Epoch 352/400\n",
            "91/91 [==============================] - 4s 45ms/step - loss: 8.6836e-04 - accuracy: 0.9977 - val_loss: 0.1518 - val_accuracy: 0.8688\n",
            "Epoch 353/400\n",
            "91/91 [==============================] - 4s 44ms/step - loss: 5.6384e-04 - accuracy: 0.9984 - val_loss: 0.1535 - val_accuracy: 0.8769\n",
            "Epoch 354/400\n",
            "91/91 [==============================] - 4s 45ms/step - loss: 3.0123e-04 - accuracy: 0.9991 - val_loss: 0.1610 - val_accuracy: 0.8795\n",
            "Epoch 355/400\n",
            "91/91 [==============================] - 4s 45ms/step - loss: 3.7624e-04 - accuracy: 0.9990 - val_loss: 0.1590 - val_accuracy: 0.8815\n",
            "Epoch 356/400\n",
            "91/91 [==============================] - 4s 45ms/step - loss: 6.5439e-04 - accuracy: 0.9985 - val_loss: 0.1355 - val_accuracy: 0.8815\n",
            "Epoch 357/400\n",
            "91/91 [==============================] - 4s 45ms/step - loss: 7.6146e-04 - accuracy: 0.9984 - val_loss: 0.1331 - val_accuracy: 0.8755\n",
            "Epoch 358/400\n",
            "91/91 [==============================] - 4s 45ms/step - loss: 4.5503e-04 - accuracy: 0.9987 - val_loss: 0.1369 - val_accuracy: 0.8829\n",
            "Epoch 359/400\n",
            "91/91 [==============================] - 4s 44ms/step - loss: 3.7671e-04 - accuracy: 0.9986 - val_loss: 0.1442 - val_accuracy: 0.8815\n",
            "Epoch 360/400\n",
            "91/91 [==============================] - 4s 46ms/step - loss: 4.3327e-04 - accuracy: 0.9987 - val_loss: 0.1367 - val_accuracy: 0.8819\n",
            "Epoch 361/400\n",
            "91/91 [==============================] - 4s 45ms/step - loss: 3.7743e-04 - accuracy: 0.9987 - val_loss: 0.1344 - val_accuracy: 0.8803\n",
            "Epoch 362/400\n",
            "91/91 [==============================] - 4s 45ms/step - loss: 4.1085e-04 - accuracy: 0.9985 - val_loss: 0.1368 - val_accuracy: 0.8789\n",
            "Epoch 363/400\n",
            "91/91 [==============================] - 4s 44ms/step - loss: 4.2933e-04 - accuracy: 0.9985 - val_loss: 0.1349 - val_accuracy: 0.8823\n",
            "Epoch 364/400\n",
            "91/91 [==============================] - 4s 45ms/step - loss: 3.2567e-04 - accuracy: 0.9987 - val_loss: 0.1383 - val_accuracy: 0.8813\n",
            "Epoch 365/400\n",
            "91/91 [==============================] - 4s 45ms/step - loss: 3.7189e-04 - accuracy: 0.9984 - val_loss: 0.1402 - val_accuracy: 0.8803\n",
            "Epoch 366/400\n",
            "91/91 [==============================] - 4s 45ms/step - loss: 3.8484e-04 - accuracy: 0.9985 - val_loss: 0.1381 - val_accuracy: 0.8821\n",
            "Epoch 367/400\n",
            "91/91 [==============================] - 4s 45ms/step - loss: 4.7243e-04 - accuracy: 0.9987 - val_loss: 0.1212 - val_accuracy: 0.8735\n",
            "Epoch 368/400\n",
            "91/91 [==============================] - 4s 45ms/step - loss: 5.7329e-04 - accuracy: 0.9987 - val_loss: 0.1400 - val_accuracy: 0.8745\n",
            "Epoch 369/400\n",
            "91/91 [==============================] - 4s 45ms/step - loss: 6.6146e-04 - accuracy: 0.9983 - val_loss: 0.1275 - val_accuracy: 0.8775\n",
            "Epoch 370/400\n",
            "91/91 [==============================] - 4s 45ms/step - loss: 4.8251e-04 - accuracy: 0.9986 - val_loss: 0.1210 - val_accuracy: 0.8863\n",
            "Epoch 371/400\n",
            "91/91 [==============================] - 4s 45ms/step - loss: 4.3790e-04 - accuracy: 0.9984 - val_loss: 0.1216 - val_accuracy: 0.8837\n",
            "Epoch 372/400\n",
            "91/91 [==============================] - 4s 45ms/step - loss: 3.9143e-04 - accuracy: 0.9986 - val_loss: 0.1302 - val_accuracy: 0.8815\n",
            "Epoch 373/400\n",
            "91/91 [==============================] - 4s 45ms/step - loss: 4.6841e-04 - accuracy: 0.9985 - val_loss: 0.1360 - val_accuracy: 0.8811\n",
            "Epoch 374/400\n",
            "91/91 [==============================] - 4s 45ms/step - loss: 7.2216e-04 - accuracy: 0.9981 - val_loss: 0.1141 - val_accuracy: 0.8837\n",
            "Epoch 375/400\n",
            "91/91 [==============================] - 4s 45ms/step - loss: 3.5439e-04 - accuracy: 0.9985 - val_loss: 0.1313 - val_accuracy: 0.8861\n",
            "Epoch 376/400\n",
            "91/91 [==============================] - 4s 45ms/step - loss: 4.0369e-04 - accuracy: 0.9988 - val_loss: 0.1304 - val_accuracy: 0.8839\n",
            "Epoch 377/400\n",
            "91/91 [==============================] - 4s 45ms/step - loss: 3.9848e-04 - accuracy: 0.9987 - val_loss: 0.1318 - val_accuracy: 0.8791\n",
            "Epoch 378/400\n",
            "91/91 [==============================] - 4s 45ms/step - loss: 3.5198e-04 - accuracy: 0.9990 - val_loss: 0.1349 - val_accuracy: 0.8853\n",
            "Epoch 379/400\n",
            "91/91 [==============================] - 4s 45ms/step - loss: 5.7644e-04 - accuracy: 0.9985 - val_loss: 0.1221 - val_accuracy: 0.8811\n",
            "Epoch 380/400\n",
            "91/91 [==============================] - 4s 46ms/step - loss: 4.2950e-04 - accuracy: 0.9989 - val_loss: 0.1257 - val_accuracy: 0.8831\n",
            "Epoch 381/400\n",
            "91/91 [==============================] - 4s 45ms/step - loss: 4.1581e-04 - accuracy: 0.9988 - val_loss: 0.1326 - val_accuracy: 0.8841\n",
            "Epoch 382/400\n",
            "91/91 [==============================] - 4s 45ms/step - loss: 0.0020 - accuracy: 0.9951 - val_loss: 0.1012 - val_accuracy: 0.7883\n",
            "Epoch 383/400\n",
            "91/91 [==============================] - 4s 45ms/step - loss: 0.0072 - accuracy: 0.9809 - val_loss: 0.0932 - val_accuracy: 0.8598\n",
            "Epoch 384/400\n",
            "91/91 [==============================] - 4s 45ms/step - loss: 0.0023 - accuracy: 0.9944 - val_loss: 0.1217 - val_accuracy: 0.8729\n",
            "Epoch 385/400\n",
            "91/91 [==============================] - 4s 45ms/step - loss: 0.0024 - accuracy: 0.9942 - val_loss: 0.1221 - val_accuracy: 0.8686\n",
            "Epoch 386/400\n",
            "91/91 [==============================] - 4s 44ms/step - loss: 7.8448e-04 - accuracy: 0.9976 - val_loss: 0.1378 - val_accuracy: 0.8763\n",
            "Epoch 387/400\n",
            "91/91 [==============================] - 4s 46ms/step - loss: 3.8379e-04 - accuracy: 0.9987 - val_loss: 0.1515 - val_accuracy: 0.8805\n",
            "Epoch 388/400\n",
            "91/91 [==============================] - 4s 45ms/step - loss: 4.4691e-04 - accuracy: 0.9988 - val_loss: 0.1487 - val_accuracy: 0.8803\n",
            "Epoch 389/400\n",
            "91/91 [==============================] - 4s 45ms/step - loss: 4.9807e-04 - accuracy: 0.9989 - val_loss: 0.1562 - val_accuracy: 0.8813\n",
            "Epoch 390/400\n",
            "91/91 [==============================] - 4s 45ms/step - loss: 6.1128e-04 - accuracy: 0.9987 - val_loss: 0.1442 - val_accuracy: 0.8785\n",
            "Epoch 391/400\n",
            "91/91 [==============================] - 4s 46ms/step - loss: 4.3758e-04 - accuracy: 0.9986 - val_loss: 0.1438 - val_accuracy: 0.8805\n",
            "Epoch 392/400\n",
            "91/91 [==============================] - 4s 45ms/step - loss: 4.9915e-04 - accuracy: 0.9985 - val_loss: 0.1325 - val_accuracy: 0.8817\n",
            "Epoch 393/400\n",
            "91/91 [==============================] - 4s 45ms/step - loss: 5.2461e-04 - accuracy: 0.9984 - val_loss: 0.1298 - val_accuracy: 0.8781\n",
            "Epoch 394/400\n",
            "91/91 [==============================] - 4s 45ms/step - loss: 4.0362e-04 - accuracy: 0.9987 - val_loss: 0.1333 - val_accuracy: 0.8849\n",
            "Epoch 395/400\n",
            "91/91 [==============================] - 4s 45ms/step - loss: 3.9228e-04 - accuracy: 0.9985 - val_loss: 0.1404 - val_accuracy: 0.8807\n",
            "Epoch 396/400\n",
            "91/91 [==============================] - 4s 45ms/step - loss: 3.3610e-04 - accuracy: 0.9984 - val_loss: 0.1415 - val_accuracy: 0.8823\n",
            "Epoch 397/400\n",
            "91/91 [==============================] - 4s 45ms/step - loss: 4.1189e-04 - accuracy: 0.9985 - val_loss: 0.1402 - val_accuracy: 0.8767\n",
            "Epoch 398/400\n",
            "91/91 [==============================] - 4s 45ms/step - loss: 5.7049e-04 - accuracy: 0.9990 - val_loss: 0.1276 - val_accuracy: 0.8815\n",
            "Epoch 399/400\n",
            "91/91 [==============================] - 4s 45ms/step - loss: 3.1443e-04 - accuracy: 0.9989 - val_loss: 0.1337 - val_accuracy: 0.8823\n",
            "Epoch 400/400\n",
            "91/91 [==============================] - 4s 45ms/step - loss: 3.9037e-04 - accuracy: 0.9991 - val_loss: 0.1325 - val_accuracy: 0.8811\n"
          ]
        }
      ]
    },
    {
      "cell_type": "code",
      "metadata": {
        "colab": {
          "base_uri": "https://localhost:8080/"
        },
        "id": "geoXWoLissqg",
        "outputId": "4ec59dd3-1bc2-4a44-c6ac-af566af5208e"
      },
      "source": [
        "y_test = testY['gender']\n",
        "loss, acc = lcnn.evaluate(x_test, y_test)\n",
        "pred=lcnn.predict(x_test)\n",
        "print(f'Accuracy : {acc*100}')"
      ],
      "execution_count": null,
      "outputs": [
        {
          "output_type": "stream",
          "name": "stdout",
          "text": [
            "75/75 [==============================] - 1s 9ms/step - loss: 0.1312 - accuracy: 0.8843\n",
            "Accuracy : 88.43393921852112\n"
          ]
        }
      ]
    },
    {
      "cell_type": "code",
      "metadata": {
        "id": "GnC-c3pGHt08"
      },
      "source": [
        "from keras.models import load_model\n",
        "lcnn.save(\"/content/drive/MyDrive/DAI/lcnn_400_focal.h5\")"
      ],
      "execution_count": null,
      "outputs": []
    },
    {
      "cell_type": "code",
      "metadata": {
        "colab": {
          "base_uri": "https://localhost:8080/"
        },
        "id": "rVttCQyZZjr0",
        "outputId": "32875e9f-7fb5-4617-f98a-4f9c65808fac"
      },
      "source": [
        "from google.colab import drive\n",
        "drive.mount('/content/drive')"
      ],
      "execution_count": null,
      "outputs": [
        {
          "output_type": "stream",
          "name": "stdout",
          "text": [
            "Mounted at /content/drive\n"
          ]
        }
      ]
    },
    {
      "cell_type": "code",
      "metadata": {
        "id": "v-JIGDopI74L",
        "colab": {
          "base_uri": "https://localhost:8080/"
        },
        "outputId": "4a21376b-2363-4bce-962c-8de1535dc2b4"
      },
      "source": [
        "pred"
      ],
      "execution_count": null,
      "outputs": [
        {
          "output_type": "execute_result",
          "data": {
            "text/plain": [
              "array([[0.00155018, 0.9984498 ],\n",
              "       [0.7118429 , 0.28815714],\n",
              "       [0.7958826 , 0.20411745],\n",
              "       ...,\n",
              "       [0.97597337, 0.02402664],\n",
              "       [0.9986286 , 0.00137137],\n",
              "       [0.00115201, 0.99884796]], dtype=float32)"
            ]
          },
          "metadata": {},
          "execution_count": 47
        }
      ]
    },
    {
      "cell_type": "code",
      "metadata": {
        "id": "GiVKS54axqTK"
      },
      "source": [
        "pred_class = []\n",
        "for i in range(len(pred)):\n",
        "  if pred[i][0] > pred[i][1]:\n",
        "    pred_class.append(0)\n",
        "  else:\n",
        "    pred_class.append(1)"
      ],
      "execution_count": null,
      "outputs": []
    },
    {
      "cell_type": "code",
      "metadata": {
        "colab": {
          "base_uri": "https://localhost:8080/"
        },
        "id": "aQQNlTo3ju-e",
        "outputId": "15adec58-5f06-4f74-9de6-22b62a7cbdfa"
      },
      "source": [
        "pred[0][0]"
      ],
      "execution_count": null,
      "outputs": [
        {
          "output_type": "execute_result",
          "data": {
            "text/plain": [
              "0.0015501849"
            ]
          },
          "metadata": {},
          "execution_count": 49
        }
      ]
    },
    {
      "cell_type": "code",
      "metadata": {
        "id": "khIduro1oISz"
      },
      "source": [
        "df_test = pd.DataFrame()\n",
        "df_test['gender'] = sample_test\n",
        "df_test['age'] = testY['age']\n",
        "df_test['ethnicity'] = testY['ethnicity']\n",
        "df_test['predicted'] = pred_class\n",
        "#df_test['input'] = testX\n"
      ],
      "execution_count": null,
      "outputs": []
    },
    {
      "cell_type": "code",
      "metadata": {
        "colab": {
          "base_uri": "https://localhost:8080/",
          "height": 424
        },
        "id": "EQKlVKVPwo2E",
        "outputId": "c4d0f090-280b-41c0-8cea-1a73d245ec06"
      },
      "source": [
        "df_test"
      ],
      "execution_count": null,
      "outputs": [
        {
          "output_type": "execute_result",
          "data": {
            "text/html": [
              "<div>\n",
              "<style scoped>\n",
              "    .dataframe tbody tr th:only-of-type {\n",
              "        vertical-align: middle;\n",
              "    }\n",
              "\n",
              "    .dataframe tbody tr th {\n",
              "        vertical-align: top;\n",
              "    }\n",
              "\n",
              "    .dataframe thead th {\n",
              "        text-align: right;\n",
              "    }\n",
              "</style>\n",
              "<table border=\"1\" class=\"dataframe\">\n",
              "  <thead>\n",
              "    <tr style=\"text-align: right;\">\n",
              "      <th></th>\n",
              "      <th>gender</th>\n",
              "      <th>age</th>\n",
              "      <th>ethnicity</th>\n",
              "      <th>predicted</th>\n",
              "    </tr>\n",
              "  </thead>\n",
              "  <tbody>\n",
              "    <tr>\n",
              "      <th>0</th>\n",
              "      <td>1</td>\n",
              "      <td>28 - 56</td>\n",
              "      <td>White</td>\n",
              "      <td>1</td>\n",
              "    </tr>\n",
              "    <tr>\n",
              "      <th>1</th>\n",
              "      <td>1</td>\n",
              "      <td>28 - 56</td>\n",
              "      <td>Black</td>\n",
              "      <td>0</td>\n",
              "    </tr>\n",
              "    <tr>\n",
              "      <th>2</th>\n",
              "      <td>0</td>\n",
              "      <td>56 - 24</td>\n",
              "      <td>Asian</td>\n",
              "      <td>0</td>\n",
              "    </tr>\n",
              "    <tr>\n",
              "      <th>3</th>\n",
              "      <td>1</td>\n",
              "      <td>0 - 28</td>\n",
              "      <td>White</td>\n",
              "      <td>1</td>\n",
              "    </tr>\n",
              "    <tr>\n",
              "      <th>4</th>\n",
              "      <td>1</td>\n",
              "      <td>56 - 24</td>\n",
              "      <td>White</td>\n",
              "      <td>1</td>\n",
              "    </tr>\n",
              "    <tr>\n",
              "      <th>...</th>\n",
              "      <td>...</td>\n",
              "      <td>...</td>\n",
              "      <td>...</td>\n",
              "      <td>...</td>\n",
              "    </tr>\n",
              "    <tr>\n",
              "      <th>2364</th>\n",
              "      <td>0</td>\n",
              "      <td>0 - 28</td>\n",
              "      <td>Indian</td>\n",
              "      <td>0</td>\n",
              "    </tr>\n",
              "    <tr>\n",
              "      <th>2365</th>\n",
              "      <td>0</td>\n",
              "      <td>56 - 24</td>\n",
              "      <td>White</td>\n",
              "      <td>0</td>\n",
              "    </tr>\n",
              "    <tr>\n",
              "      <th>2366</th>\n",
              "      <td>0</td>\n",
              "      <td>0 - 28</td>\n",
              "      <td>White</td>\n",
              "      <td>0</td>\n",
              "    </tr>\n",
              "    <tr>\n",
              "      <th>2367</th>\n",
              "      <td>0</td>\n",
              "      <td>56 - 24</td>\n",
              "      <td>Black</td>\n",
              "      <td>0</td>\n",
              "    </tr>\n",
              "    <tr>\n",
              "      <th>2368</th>\n",
              "      <td>1</td>\n",
              "      <td>0 - 28</td>\n",
              "      <td>Asian</td>\n",
              "      <td>1</td>\n",
              "    </tr>\n",
              "  </tbody>\n",
              "</table>\n",
              "<p>2369 rows × 4 columns</p>\n",
              "</div>"
            ],
            "text/plain": [
              "      gender      age ethnicity  predicted\n",
              "0          1  28 - 56     White          1\n",
              "1          1  28 - 56     Black          0\n",
              "2          0  56 - 24     Asian          0\n",
              "3          1   0 - 28     White          1\n",
              "4          1  56 - 24     White          1\n",
              "...      ...      ...       ...        ...\n",
              "2364       0   0 - 28    Indian          0\n",
              "2365       0  56 - 24     White          0\n",
              "2366       0   0 - 28     White          0\n",
              "2367       0  56 - 24     Black          0\n",
              "2368       1   0 - 28     Asian          1\n",
              "\n",
              "[2369 rows x 4 columns]"
            ]
          },
          "metadata": {},
          "execution_count": 51
        }
      ]
    },
    {
      "cell_type": "code",
      "metadata": {
        "id": "Sn8z1fiPzMiE"
      },
      "source": [
        "l = df_test['age'].unique()\n",
        "gk = df_test.groupby('age')"
      ],
      "execution_count": null,
      "outputs": []
    },
    {
      "cell_type": "code",
      "metadata": {
        "colab": {
          "base_uri": "https://localhost:8080/",
          "height": 258
        },
        "id": "yGlPFi8hzoxg",
        "outputId": "44c51618-77a7-4774-abc9-74e5500b6046"
      },
      "source": [
        "acc = []\n",
        "group_age = []\n",
        "count = []\n",
        "for i in range(len(l)):\n",
        "    df_test_age=gk.get_group(l[i])\n",
        "    accuracy = accuracy_score(df_test_age['predicted'], df_test_age['gender'])\n",
        "    cm = confusion_matrix(df_test_age['predicted'], df_test_age['gender'])\n",
        "    acc.append(accuracy)\n",
        "    group_age.append(l[i])\n",
        "    count.append(len(df_test_age))\n",
        "    print(\"Age group\", l[i])\n",
        "    #print(accuracy)\n",
        "    print(\"CM\",cm)\n",
        "    print()"
      ],
      "execution_count": null,
      "outputs": [
        {
          "output_type": "error",
          "ename": "NameError",
          "evalue": "ignored",
          "traceback": [
            "\u001b[0;31m---------------------------------------------------------------------------\u001b[0m",
            "\u001b[0;31mNameError\u001b[0m                                 Traceback (most recent call last)",
            "\u001b[0;32m<ipython-input-1-e713a0a87e41>\u001b[0m in \u001b[0;36m<module>\u001b[0;34m()\u001b[0m\n\u001b[1;32m      2\u001b[0m \u001b[0mgroup_age\u001b[0m \u001b[0;34m=\u001b[0m \u001b[0;34m[\u001b[0m\u001b[0;34m]\u001b[0m\u001b[0;34m\u001b[0m\u001b[0;34m\u001b[0m\u001b[0m\n\u001b[1;32m      3\u001b[0m \u001b[0mcount\u001b[0m \u001b[0;34m=\u001b[0m \u001b[0;34m[\u001b[0m\u001b[0;34m]\u001b[0m\u001b[0;34m\u001b[0m\u001b[0;34m\u001b[0m\u001b[0m\n\u001b[0;32m----> 4\u001b[0;31m \u001b[0;32mfor\u001b[0m \u001b[0mi\u001b[0m \u001b[0;32min\u001b[0m \u001b[0mrange\u001b[0m\u001b[0;34m(\u001b[0m\u001b[0mlen\u001b[0m\u001b[0;34m(\u001b[0m\u001b[0ml\u001b[0m\u001b[0;34m)\u001b[0m\u001b[0;34m)\u001b[0m\u001b[0;34m:\u001b[0m\u001b[0;34m\u001b[0m\u001b[0;34m\u001b[0m\u001b[0m\n\u001b[0m\u001b[1;32m      5\u001b[0m     \u001b[0mdf_test_age\u001b[0m\u001b[0;34m=\u001b[0m\u001b[0mgk\u001b[0m\u001b[0;34m.\u001b[0m\u001b[0mget_group\u001b[0m\u001b[0;34m(\u001b[0m\u001b[0ml\u001b[0m\u001b[0;34m[\u001b[0m\u001b[0mi\u001b[0m\u001b[0;34m]\u001b[0m\u001b[0;34m)\u001b[0m\u001b[0;34m\u001b[0m\u001b[0;34m\u001b[0m\u001b[0m\n\u001b[1;32m      6\u001b[0m     \u001b[0maccuracy\u001b[0m \u001b[0;34m=\u001b[0m \u001b[0maccuracy_score\u001b[0m\u001b[0;34m(\u001b[0m\u001b[0mdf_test_age\u001b[0m\u001b[0;34m[\u001b[0m\u001b[0;34m'predicted'\u001b[0m\u001b[0;34m]\u001b[0m\u001b[0;34m,\u001b[0m \u001b[0mdf_test_age\u001b[0m\u001b[0;34m[\u001b[0m\u001b[0;34m'gender'\u001b[0m\u001b[0;34m]\u001b[0m\u001b[0;34m)\u001b[0m\u001b[0;34m\u001b[0m\u001b[0;34m\u001b[0m\u001b[0m\n",
            "\u001b[0;31mNameError\u001b[0m: name 'l' is not defined"
          ]
        }
      ]
    },
    {
      "cell_type": "code",
      "metadata": {
        "colab": {
          "base_uri": "https://localhost:8080/"
        },
        "id": "hRPEx1-_zqwQ",
        "outputId": "49d6a8a5-a244-4456-9f0d-598e54d163e4"
      },
      "source": [
        "df_age_result = pd.DataFrame()\n",
        "df_age_result['age'] = group_age\n",
        "df_age_result['acc'] = acc\n",
        "df_age_result['count'] = count\n",
        "print(df_age_result)"
      ],
      "execution_count": null,
      "outputs": [
        {
          "output_type": "stream",
          "name": "stdout",
          "text": [
            "        age       acc  count\n",
            "0   28 - 56  0.945000   1000\n",
            "1   56 - 24  0.897764    313\n",
            "2    0 - 28  0.825743   1010\n",
            "3  84 - 116  0.760870     46\n"
          ]
        }
      ]
    },
    {
      "cell_type": "code",
      "metadata": {
        "id": "2K8d3v6uzstO"
      },
      "source": [
        "l = df_test['ethnicity'].unique()\n",
        "#print(l)\n",
        "gk1 = df_test.groupby('ethnicity')\n",
        "acc = []\n",
        "group_race = []\n",
        "count = []\n",
        "for i in range(len(l)):\n",
        "    df_test_race=gk1.get_group(l[i])\n",
        "    accuracy = accuracy_score(df_test_race['predicted'], df_test_race['gender'])\n",
        "    cm = confusion_matrix(df_test_race['predicted'], df_test_race['gender'])\n",
        "    acc.append(accuracy)\n",
        "    group_race.append(l[i])\n",
        "    count.append(len(df_test_race))\n",
        "    #print(l[i])\n",
        "    #print(accuracy)\n",
        "    #print(cm)\n",
        "    df_test_race = pd.DataFrame()"
      ],
      "execution_count": null,
      "outputs": []
    },
    {
      "cell_type": "code",
      "metadata": {
        "colab": {
          "base_uri": "https://localhost:8080/"
        },
        "id": "_Nm6xr7HzzLO",
        "outputId": "64f70db5-e869-4c4e-eadc-b2c75e8fffe3"
      },
      "source": [
        "df_race_result = pd.DataFrame()\n",
        "df_race_result['race'] = group_race\n",
        "df_race_result['acc'] = acc\n",
        "df_race_result['count'] = count\n",
        "print(df_race_result)"
      ],
      "execution_count": null,
      "outputs": [
        {
          "output_type": "stream",
          "name": "stdout",
          "text": [
            "     race       acc  count\n",
            "0   White  0.878431   1020\n",
            "1   Black  0.929864    442\n",
            "2   Asian  0.845238    336\n",
            "3   Other  0.869565    161\n",
            "4  Indian  0.887805    410\n"
          ]
        }
      ]
    },
    {
      "cell_type": "markdown",
      "metadata": {
        "id": "Zxx4E1Zxz8TD"
      },
      "source": [
        "# ROC"
      ]
    },
    {
      "cell_type": "code",
      "metadata": {
        "id": "Wq0hRmW4z064"
      },
      "source": [
        "def get_values(y_true, y_prob, thresholds):\n",
        "\n",
        "    fpr = []\n",
        "    tpr = []\n",
        "    precision = []\n",
        "    far = []\n",
        "    frr = []\n",
        "    for threshold in thresholds:\n",
        "\n",
        "        y_pred = np.where(y_prob >= threshold, 1, 0)\n",
        "\n",
        "        # fp = np.sum((y_pred == 1) & (y_true == 0))\n",
        "        # tp = np.sum((y_pred == 1) & (y_true == 1))\n",
        "\n",
        "        # fn = np.sum((y_pred == 0) & (y_true == 1))\n",
        "        # tn = np.sum((y_pred == 0) & (y_true == 0))\n",
        "        tn, fp, fn, tp = confusion_matrix(y_true, y_pred).ravel()\n",
        "\n",
        "        fpr.append(fp / (fp + tn))\n",
        "        tpr.append(tp / (tp + fn))\n",
        "        precision.append(tp / (tp + fp))\n",
        "        far.append(fp / (fp + tn))\n",
        "        frr.append(fn / (tp + fn))\n",
        "    return [fpr, tpr, precision, tpr, far, frr]"
      ],
      "execution_count": null,
      "outputs": []
    },
    {
      "cell_type": "code",
      "metadata": {
        "id": "6AR6hzPWz9Mu"
      },
      "source": [
        "thresholds = []\n",
        "i = 0.0001\n",
        "while i < 1:\n",
        "  thresholds.append(i)\n",
        "  i += 0.0001"
      ],
      "execution_count": null,
      "outputs": []
    },
    {
      "cell_type": "code",
      "metadata": {
        "id": "3DHjMqEbz_Wj"
      },
      "source": [
        "y_test = sample_test\n",
        "y_prob = pred"
      ],
      "execution_count": null,
      "outputs": []
    },
    {
      "cell_type": "code",
      "metadata": {
        "id": "o6A7tJmO0CAc",
        "colab": {
          "base_uri": "https://localhost:8080/"
        },
        "outputId": "4de6ebf9-afa0-4b4c-b499-17f649933e0e"
      },
      "source": [
        "fpr1, tpr1, precision1, recall1, far1, frr1 = get_values(y_test, y_prob[:, 1], thresholds)"
      ],
      "execution_count": null,
      "outputs": [
        {
          "output_type": "stream",
          "name": "stderr",
          "text": [
            "/usr/local/lib/python3.7/dist-packages/ipykernel_launcher.py:21: RuntimeWarning: invalid value encountered in long_scalars\n"
          ]
        }
      ]
    },
    {
      "cell_type": "markdown",
      "metadata": {
        "id": "bXzPHubx0GBP"
      },
      "source": [
        "# Precision-Recall curve"
      ]
    },
    {
      "cell_type": "code",
      "metadata": {
        "colab": {
          "base_uri": "https://localhost:8080/",
          "height": 314
        },
        "id": "30HhrI9C0E0X",
        "outputId": "092ab4b4-5117-4ccb-fc18-7bf624f97206"
      },
      "source": [
        "plt.plot(recall1, precision1)\n",
        "plt.xlabel('Recall')\n",
        "plt.ylabel('Precision')\n",
        "plt.title(\"LCNN Precision-Recall curve at focal loss\")"
      ],
      "execution_count": null,
      "outputs": [
        {
          "output_type": "execute_result",
          "data": {
            "text/plain": [
              "Text(0.5, 1.0, 'LCNN Precision-Recall curve at focal loss')"
            ]
          },
          "metadata": {},
          "execution_count": 71
        },
        {
          "output_type": "display_data",
          "data": {
            "image/png": "[encoded data removed]",
            "text/plain": [
              "<Figure size 432x288 with 1 Axes>"
            ]
          },
          "metadata": {
            "needs_background": "light"
          }
        }
      ]
    },
    {
      "cell_type": "code",
      "metadata": {
        "colab": {
          "base_uri": "https://localhost:8080/",
          "height": 284
        },
        "id": "yqL-KP0-0Mfg",
        "outputId": "4abfb4ec-7c14-425b-edbb-0de0fbf97f46"
      },
      "source": [
        "plt.plot(far1)\n",
        "plt.plot(frr1)\n",
        "plt.legend(['FAR', 'FRR'])"
      ],
      "execution_count": null,
      "outputs": [
        {
          "output_type": "execute_result",
          "data": {
            "text/plain": [
              "<matplotlib.legend.Legend at 0x7fde0f6e80d0>"
            ]
          },
          "metadata": {},
          "execution_count": 62
        },
        {
          "output_type": "display_data",
          "data": {
            "image/png": "[encoded data removed]",
            "text/plain": [
              "<Figure size 432x288 with 1 Axes>"
            ]
          },
          "metadata": {
            "needs_background": "light"
          }
        }
      ]
    },
    {
      "cell_type": "code",
      "metadata": {
        "colab": {
          "base_uri": "https://localhost:8080/"
        },
        "id": "WmEC82CB0PWv",
        "outputId": "490015ad-2eb9-478e-9404-955d0c5a1b17"
      },
      "source": [
        "index = -1\n",
        "ans = 1000\n",
        "t = []\n",
        "for i in range(len(far1)):\n",
        "  if ans > abs(far1[i]-frr1[i]):\n",
        "    ans = abs(far1[i]-frr1[i])\n",
        "    index = i\n",
        "print(ans, index, far1[index], frr1[index])"
      ],
      "execution_count": null,
      "outputs": [
        {
          "output_type": "stream",
          "name": "stdout",
          "text": [
            "0.00034791039881368335 4276 0.11295681063122924 0.11330472103004292\n"
          ]
        }
      ]
    },
    {
      "cell_type": "code",
      "metadata": {
        "colab": {
          "base_uri": "https://localhost:8080/",
          "height": 314
        },
        "id": "EgS8I7cH0SXH",
        "outputId": "74cdc73a-7a09-4610-bddf-63f0040c169e"
      },
      "source": [
        "\n",
        "from matplotlib import pyplot as plt\n",
        "plt.plot(fpr1, tpr1, marker='.', label='Male')\n",
        "pyplot.plot([0, 1], [0, 1], linestyle='--', label='Female')\n",
        "plt.title(\"LCNN ROC curve at focal loss\")\n",
        "plt.xlabel('False Positive Rate')\n",
        "plt.ylabel('True Positive Rate')\n",
        "plt.legend()"
      ],
      "execution_count": null,
      "outputs": [
        {
          "output_type": "execute_result",
          "data": {
            "text/plain": [
              "<matplotlib.legend.Legend at 0x7fdd99af5150>"
            ]
          },
          "metadata": {},
          "execution_count": 70
        },
        {
          "output_type": "display_data",
          "data": {
            "image/png": "[encoded data removed]",
            "text/plain": [
              "<Figure size 432x288 with 1 Axes>"
            ]
          },
          "metadata": {
            "needs_background": "light"
          }
        }
      ]
    },
    {
      "cell_type": "code",
      "metadata": {
        "id": "HhG4IsWaNzkY"
      },
      "source": [
        ""
      ],
      "execution_count": null,
      "outputs": []
    }
  ]
}