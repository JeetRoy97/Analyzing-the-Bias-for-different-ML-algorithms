{
  "nbformat": 4,
  "nbformat_minor": 0,
  "metadata": {
    "colab": {
      "name": "lcnn-dai_Roy.ipynb",
      "provenance": [],
      "collapsed_sections": []
    },
    "kernelspec": {
      "display_name": "Python 3",
      "name": "python3"
    },
    "language_info": {
      "name": "python"
    },
    "accelerator": "GPU"
  },
  "cells": [
    {
      "cell_type": "code",
      "metadata": {
        "id": "rMX5A5Xp07rm"
      },
      "source": [
        "import keras\n",
        "import tensorflow as tf\n",
        "from typeguard import typechecked\n",
        "\n",
        "\n",
        "class Maxout(keras.layers.Layer):\n",
        "    \"\"\"\n",
        "    Arguments:\n",
        "      num_units: Specifies how many features will remain after maxout\n",
        "        in the `axis` dimension (usually channel).\n",
        "        This must be a factor of number of features.\n",
        "      axis: The dimension where max pooling will be performed. Default is the\n",
        "        last dimension.\n",
        "    Input shape:\n",
        "      nD tensor with shape: `(batch_size, ..., axis_dim, ...)`.\n",
        "    Output shape:\n",
        "      nD tensor with shape: `(batch_size, ..., num_units, ...)`.\n",
        "    Reference : https://github.com/tensorflow/addons/blob/v0.10.0/tensorflow_addons/layers/maxout.py#L22-L90\n",
        "    \"\"\"\n",
        "\n",
        "    @typechecked\n",
        "    def __init__(self, num_units: int, axis: int = -1, **kwargs):\n",
        "        super().__init__(**kwargs)\n",
        "        self.num_units = num_units\n",
        "        self.axis = axis\n",
        "\n",
        "    def call(self, inputs):\n",
        "        inputs = tf.convert_to_tensor(inputs)\n",
        "        shape = inputs.get_shape().as_list()\n",
        "        # Dealing with batches with arbitrary sizes\n",
        "        for i in range(len(shape)):\n",
        "            if shape[i] is None:\n",
        "                shape[i] = tf.shape(inputs)[i]\n",
        "\n",
        "        num_channels = shape[self.axis]\n",
        "        if not isinstance(num_channels, tf.Tensor) and num_channels % self.num_units:\n",
        "            raise ValueError(\n",
        "                \"number of features({}) is not \" \"a multiple of num_units({})\".format(num_channels, self.num_units)\n",
        "            )\n",
        "\n",
        "        if self.axis < 0:\n",
        "            axis = self.axis + len(shape)\n",
        "        else:\n",
        "            axis = self.axis\n",
        "        assert axis >= 0, \"Find invalid axis: {}\".format(self.axis)\n",
        "\n",
        "        expand_shape = shape[:]\n",
        "        expand_shape[axis] = self.num_units\n",
        "        k = num_channels // self.num_units\n",
        "        expand_shape.insert(axis, k)\n",
        "\n",
        "        outputs = tf.math.reduce_max(tf.reshape(inputs, expand_shape), axis, keepdims=False)\n",
        "        return outputs\n",
        "\n",
        "    def compute_output_shape(self, input_shape):\n",
        "        input_shape = tf.TensorShape(input_shape).as_list()\n",
        "        input_shape[self.axis] = self.num_units\n",
        "        return tf.TensorShape(input_shape)\n",
        "\n",
        "    def get_config(self):\n",
        "        config = {\"num_units\": self.num_units, \"axis\": self.axis}\n",
        "        base_config = super().get_config()\n",
        "        return {**base_config, **config}"
      ],
      "execution_count": null,
      "outputs": []
    },
    {
      "cell_type": "code",
      "metadata": {
        "id": "ZudBlI0Z6Pnx"
      },
      "source": [
        "import tensorflow as tf\n",
        "from keras.layers import Activation, Dense, BatchNormalization, MaxPool2D, Lambda, Input, Flatten, Dropout\n",
        "from keras.layers.convolutional import Conv2D\n",
        "from keras.models import Model\n",
        "from keras.initializers import he_normal\n",
        "\n",
        "#Custom layer\n",
        "\n",
        "\n",
        "#function that return the stuck of Conv2D and MFM\n",
        "def MaxOutConv2D(x, dim, kernel_size, strides, padding='same'):\n",
        "    conv_out = Conv2D(dim, kernel_size=kernel_size, strides=strides, padding=padding)(x)\n",
        "    mfm_out = Maxout(int(dim/2))(conv_out)\n",
        "    return mfm_out\n",
        "\n",
        "\n",
        "#function that return the stuck of FC and MFM\n",
        "def MaxOutDense(x, dim):\n",
        "    dense_out = Dense(dim)(x)\n",
        "    mfm_out = Maxout(int(dim/2))(dense_out)\n",
        "    return mfm_out\n",
        "\n",
        "# this function helps to build LCNN. \n",
        "def build_lcnn(shape, n_label=2):\n",
        "    \"\"\"\n",
        "    Auguments:\n",
        "     shape (list) : \n",
        "      Input shape for LCNN. (Example : [128, 128, 1])\n",
        "     n_label (int) : \n",
        "      Number of label that LCNN should predict.\n",
        "    \"\"\"\n",
        "    \n",
        "    input = Input(shape=shape)\n",
        "\n",
        "    conv2d_1 = MaxOutConv2D(input, 64, kernel_size=5, strides=1, padding='same')\n",
        "    maxpool_1 = MaxPool2D(pool_size=(2, 2), strides=(2,2))(conv2d_1)\n",
        "\n",
        "    conv_2d_2 = MaxOutConv2D(maxpool_1, 64, kernel_size=1, strides=1, padding='same')\n",
        "    batch_norm_2 = BatchNormalization()(conv_2d_2)\n",
        "\n",
        "    conv2d_3 = MaxOutConv2D(batch_norm_2, 96, kernel_size=3, strides=1, padding='same')\n",
        "    maxpool_3 = MaxPool2D(pool_size=(2, 2), strides=(2,2))(conv2d_3)\n",
        "    batch_norm_3 = BatchNormalization()(maxpool_3)\n",
        "\n",
        "    conv_2d_4 = MaxOutConv2D(batch_norm_3, 96, kernel_size=1, strides=1, padding='same')\n",
        "    batch_norm_4 = BatchNormalization()(conv_2d_4)\n",
        "\n",
        "    conv2d_5 = MaxOutConv2D(batch_norm_4, 128, kernel_size=3, strides=1, padding='same')\n",
        "    maxpool_5 = MaxPool2D(pool_size=(2, 2), strides=(2,2))(conv2d_5)\n",
        "\n",
        "    conv_2d_6 = MaxOutConv2D(maxpool_5, 128, kernel_size=1, strides=1, padding='same')\n",
        "    batch_norm_6 = BatchNormalization()(conv_2d_6)\n",
        "\n",
        "    conv_2d_7 = MaxOutConv2D(batch_norm_6, 64, kernel_size=3, strides=1, padding='same')\n",
        "    batch_norm_7 = BatchNormalization()(conv_2d_7)\n",
        "\n",
        "    conv_2d_8 = MaxOutConv2D(batch_norm_7, 64, kernel_size=1, strides=1, padding='same')\n",
        "    batch_norm_8 = BatchNormalization()(conv_2d_8)\n",
        "\n",
        "    conv_2d_9 = MaxOutConv2D(batch_norm_8, 64, kernel_size=3, strides=1, padding='same')\n",
        "    maxpool_9 = MaxPool2D(pool_size=(2, 2), strides=(2,2))(conv_2d_9)\n",
        "    flatten = Flatten()(maxpool_9)\n",
        "\n",
        "    dense_10 = MaxOutDense(flatten, 160)\n",
        "    batch_norm_10 = BatchNormalization()(dense_10)\n",
        "    dropout_10 = Dropout(0.75)(batch_norm_10)\n",
        "\n",
        "    output = Dense(n_label, activation='softmax')(dropout_10)\n",
        "            \n",
        "    return Model(inputs=input, outputs=output)"
      ],
      "execution_count": null,
      "outputs": []
    },
    {
      "cell_type": "markdown",
      "metadata": {
        "id": "3n42zQObu9Tk"
      },
      "source": [
        "Dataset"
      ]
    },
    {
      "cell_type": "code",
      "metadata": {
        "colab": {
          "base_uri": "https://localhost:8080/"
        },
        "id": "83Ry591wa2qy",
        "outputId": "a6b6d872-6dfb-4893-c9bc-28a2d78ea5c0"
      },
      "source": [
        "!git clone https://github.com/ayulockin/faceattributes.git"
      ],
      "execution_count": null,
      "outputs": [
        {
          "output_type": "stream",
          "name": "stdout",
          "text": [
            "Cloning into 'faceattributes'...\n",
            "remote: Enumerating objects: 23407, done.\u001b[K\n",
            "remote: Counting objects: 100% (19/19), done.\u001b[K\n",
            "remote: Compressing objects: 100% (18/18), done.\u001b[K\n",
            "remote: Total 23407 (delta 4), reused 6 (delta 1), pack-reused 23388\u001b[K\n",
            "Receiving objects: 100% (23407/23407), 115.73 MiB | 32.29 MiB/s, done.\n",
            "Resolving deltas: 100% (16/16), done.\n",
            "Checking out files: 100% (23747/23747), done.\n"
          ]
        }
      ]
    },
    {
      "cell_type": "code",
      "metadata": {
        "colab": {
          "base_uri": "https://localhost:8080/"
        },
        "id": "VHHWlq0la7q_",
        "outputId": "f39ff2dc-5257-4d5d-86d4-c4c10428a141"
      },
      "source": [
        "!ls"
      ],
      "execution_count": null,
      "outputs": [
        {
          "output_type": "stream",
          "name": "stdout",
          "text": [
            "drive  faceattributes  sample_data\n"
          ]
        }
      ]
    },
    {
      "cell_type": "code",
      "metadata": {
        "colab": {
          "base_uri": "https://localhost:8080/"
        },
        "id": "hkep7MGOa_-C",
        "outputId": "916ef09a-6c52-4149-9094-d31512bd995d"
      },
      "source": [
        "%cd faceattributes"
      ],
      "execution_count": null,
      "outputs": [
        {
          "output_type": "stream",
          "name": "stdout",
          "text": [
            "/content/faceattributes\n"
          ]
        }
      ]
    },
    {
      "cell_type": "code",
      "metadata": {
        "colab": {
          "base_uri": "https://localhost:8080/"
        },
        "id": "6eyQZFmbbhqI",
        "outputId": "bdd81550-f751-40a4-dbb8-bfd71bf1e360"
      },
      "source": [
        "!ls"
      ],
      "execution_count": null,
      "outputs": [
        {
          "output_type": "stream",
          "name": "stdout",
          "text": [
            " datasets\n",
            "'EDA of Face Dataset.ipynb'\n",
            " examples\n",
            " face_detector\n",
            " Image1.jpeg\n",
            " images\n",
            " LICENSE\n",
            " main.py\n",
            " prepareUTKFaceData.py\n",
            " README.md\n",
            "'UTK_Face_Attribute_Classifier_with_TF2_0_and_W&B.ipynb'\n"
          ]
        }
      ]
    },
    {
      "cell_type": "code",
      "metadata": {
        "colab": {
          "base_uri": "https://localhost:8080/"
        },
        "id": "HdmVG9C1bw9Y",
        "outputId": "ce2cdb2d-4fa5-4a35-dc61-f7e856645e5b"
      },
      "source": [
        "import os\n",
        "\n",
        "images = os.listdir('images')\n",
        "print('Total number of images: ', len(images))"
      ],
      "execution_count": null,
      "outputs": [
        {
          "output_type": "stream",
          "name": "stdout",
          "text": [
            "Total number of images:  23705\n"
          ]
        }
      ]
    },
    {
      "cell_type": "code",
      "metadata": {
        "id": "REYXOXhpbCE4"
      },
      "source": [
        "import pandas as pd\n",
        "import numpy as np\n",
        "from sklearn import svm\n",
        "from sklearn.metrics import confusion_matrix, accuracy_score\n",
        "from skimage.transform import rescale, resize, downscale_local_mean\n",
        "from sklearn import datasets, svm, metrics\n",
        "from sklearn.model_selection import train_test_split\n",
        "import warnings\n",
        "import sys\n",
        "import os\n",
        "import shutil\n",
        "from joblib import dump, load\n",
        "import numpy as np\n",
        "import math\n",
        "import torch"
      ],
      "execution_count": null,
      "outputs": []
    },
    {
      "cell_type": "code",
      "metadata": {
        "id": "eWNseVm2bCJm"
      },
      "source": [
        "labels = pd.read_csv('datasets/face_dataset.csv')"
      ],
      "execution_count": null,
      "outputs": []
    },
    {
      "cell_type": "code",
      "metadata": {
        "id": "TSVK_WyCbCMY"
      },
      "source": [
        "labels = labels.sample(frac=1).reset_index(drop=True)"
      ],
      "execution_count": null,
      "outputs": []
    },
    {
      "cell_type": "code",
      "metadata": {
        "id": "cz1elP3lbCO-"
      },
      "source": [
        "def groupAge(age):\n",
        "#   Age (0-28 ) as children(28-56) as Young , (56-84) as Adults and (84-116) as Old.\n",
        "    if age>=0 and age<28:\n",
        "        return '0 - 28'\n",
        "    elif age>=28 and age<56:\n",
        "        return '28 - 56'\n",
        "    elif age>=56 and age<84:\n",
        "        return '56 - 24'\n",
        "    elif age>=84 and age<=116:\n",
        "        return '84 - 116'"
      ],
      "execution_count": null,
      "outputs": []
    },
    {
      "cell_type": "code",
      "metadata": {
        "id": "USx-TYuXbCRZ"
      },
      "source": [
        " #White, Black, Asian, Indian, and Others\n",
        " def groupRace(race):\n",
        "    if race == 0:\n",
        "        return 'White'\n",
        "    elif race == 1:\n",
        "        return 'Black'\n",
        "    elif race == 2:\n",
        "        return 'Asian'\n",
        "    elif race == 3:\n",
        "        return 'Indian'\n",
        "    else:\n",
        "        return 'Other'\n"
      ],
      "execution_count": null,
      "outputs": []
    },
    {
      "cell_type": "code",
      "metadata": {
        "id": "Xa9GJIASbCT9"
      },
      "source": [
        "import numpy as np \n",
        "import cv2\n",
        "import random\n",
        "import matplotlib.pyplot as plt\n",
        "\n",
        "%matplotlib inline\n",
        "\n",
        "#from tensorflow.keras.utils import to_categorical"
      ],
      "execution_count": null,
      "outputs": []
    },
    {
      "cell_type": "code",
      "metadata": {
        "id": "eYLbnyNabCWw"
      },
      "source": [
        "def to_categorical(y, num_classes):\n",
        "    \"\"\" 1-hot encodes a tensor \"\"\"\n",
        "    return np.eye(num_classes, dtype='uint8')[y]"
      ],
      "execution_count": null,
      "outputs": []
    },
    {
      "cell_type": "code",
      "metadata": {
        "id": "COXli0XmbQ_C"
      },
      "source": [
        "def formatdata(train_count, validation_count, test_count):\n",
        "  partitions = {'train': [],\n",
        "                'validation': [],\n",
        "                'test': []}\n",
        "  labels_dict = {'train_age': [], 'train_gender': [], 'train_ethnicity': [],\n",
        "                 'validation_age': [], 'validation_gender': [], 'validation_ethnicity': [],\n",
        "                 'test_age': [], 'test_gender': [], 'test_ethnicity': []}\n",
        "  random.seed(1)\n",
        "\n",
        "  print(\"[INFO] Preparing train data....\")\n",
        "  for ID in range(train_count):\n",
        "    try:\n",
        "        data = labels.loc[labels['image_id'] == images[ID][:-4]].values\n",
        "        labels_dict['train_age'].append(groupAge(data[0][1]))\n",
        "        labels_dict['train_gender'].append(data[0][2])\n",
        "        labels_dict['train_ethnicity'].append(groupRace(data[0][3]))\n",
        "        partitions['train'].append(images[ID])\n",
        "    except IndexError:\n",
        "        print(\"[ERROR]\", images[ID])\n",
        "        discared_data.append(images[ID])\n",
        "  print(\"[INFO] Done\")\n",
        "\n",
        "  print(\"[INFO] Preparing validation data....\")\n",
        "  for ID in range(train_count, train_count+validation_count):\n",
        "    try:\n",
        "        data = labels.loc[labels['image_id'] == images[ID][:-4]].values\n",
        "        labels_dict['validation_age'].append(groupAge(data[0][1]))\n",
        "        labels_dict['validation_gender'].append(data[0][2])\n",
        "        labels_dict['validation_ethnicity'].append(groupRace(data[0][3]))\n",
        "        partitions['validation'].append(images[ID])\n",
        "    except IndexError:\n",
        "        print(\"[ERROR]\", images[ID])\n",
        "        discared_data.append(images[ID])\n",
        "  print(\"[INFO] Done\")\n",
        "\n",
        "  ## Uncomment to get test split\n",
        "  print(\"[INFO] Preparing test data....\")\n",
        "  for ID in range(train_count+validation_count,train_count+validation_count+test_count):\n",
        "    try:\n",
        "        data = labels.loc[labels['image_id'] == images[ID][:-4]].values\n",
        "        labels_dict['test_age'].append(groupAge(data[0][1]))\n",
        "        labels_dict['test_gender'].append(data[0][2])\n",
        "        labels_dict['test_ethnicity'].append(groupRace(data[0][3]))\n",
        "        partitions['test'].append(images[ID])\n",
        "    except IndexError:\n",
        "        print(\"[ERROR]\", images[ID])\n",
        "        discared_data.append(images[ID])\n",
        "  print(\"[INFO] Done\")\n",
        "\n",
        "  return partitions, labels_dict"
      ],
      "execution_count": null,
      "outputs": []
    },
    {
      "cell_type": "code",
      "metadata": {
        "colab": {
          "base_uri": "https://localhost:8080/"
        },
        "id": "oi1HcJeXbRCG",
        "outputId": "b2f8010d-c9bf-4ad2-d94e-ac31686b63ff"
      },
      "source": [
        "# train:validation:test = 70:20:10 = 16596:4742:2370\n",
        "\n",
        "train_count = 16595\n",
        "validation_count = 4741\n",
        "test_count = 2369\n",
        "\n",
        "partitions, labels_dict = formatdata(train_count, validation_count, test_count)"
      ],
      "execution_count": null,
      "outputs": [
        {
          "output_type": "stream",
          "name": "stdout",
          "text": [
            "[INFO] Preparing train data....\n",
            "[INFO] Done\n",
            "[INFO] Preparing validation data....\n",
            "[INFO] Done\n",
            "[INFO] Preparing test data....\n",
            "[INFO] Done\n"
          ]
        }
      ]
    },
    {
      "cell_type": "code",
      "metadata": {
        "colab": {
          "base_uri": "https://localhost:8080/"
        },
        "id": "vLdNdm9sbRE_",
        "outputId": "06d55d44-6d71-48fa-e749-e84961e1e514"
      },
      "source": [
        "print(\"[INFO] Training Data\")\n",
        "print(\"Size of train data: \", len(partitions['train']))\n",
        "print(\"Size of age as label: \", len(labels_dict['train_age']))\n",
        "print(\"Size of gender as label: \", len(labels_dict['train_gender']))\n",
        "print(\"Size of ethnicity as label: \", len(labels_dict['train_ethnicity']))\n",
        "print(\"\\n\")\n",
        "print(\"[INFO] Validation Data\")\n",
        "print(\"Size of validation data: \", len(partitions['validation']))\n",
        "print(\"Size of age as label: \", len(labels_dict['validation_age']))\n",
        "print(\"Size of gender as label: \", len(labels_dict['validation_gender']))\n",
        "print(\"Size of ethnicity as label: \", len(labels_dict['validation_ethnicity']))\n",
        "print(\"\\n\")\n",
        "# Uncomment to log test split details\n",
        "print(\"[INFO] Test Data\")\n",
        "print(\"Size of test data: \", len(partitions['test']))\n",
        "print(\"Size of age as label: \", len(labels_dict['test_age']))\n",
        "print(\"Size of gender as label: \", len(labels_dict['test_gender']))\n",
        "print(\"Size of ethnicity as label: \", len(labels_dict['test_ethnicity']))"
      ],
      "execution_count": null,
      "outputs": [
        {
          "output_type": "stream",
          "name": "stdout",
          "text": [
            "[INFO] Training Data\n",
            "Size of train data:  16595\n",
            "Size of age as label:  16595\n",
            "Size of gender as label:  16595\n",
            "Size of ethnicity as label:  16595\n",
            "\n",
            "\n",
            "[INFO] Validation Data\n",
            "Size of validation data:  4741\n",
            "Size of age as label:  4741\n",
            "Size of gender as label:  4741\n",
            "Size of ethnicity as label:  4741\n",
            "\n",
            "\n",
            "[INFO] Test Data\n",
            "Size of test data:  2369\n",
            "Size of age as label:  2369\n",
            "Size of gender as label:  2369\n",
            "Size of ethnicity as label:  2369\n"
          ]
        }
      ]
    },
    {
      "cell_type": "code",
      "metadata": {
        "colab": {
          "base_uri": "https://localhost:8080/"
        },
        "id": "FGY5APu7bRHz",
        "outputId": "4c4022b6-6135-4939-c124-93225c13e1f1"
      },
      "source": [
        "import imageio\n",
        "def loadImages(images, imagesPath):\n",
        "    print(\"[INFO] Loading....\")\n",
        "    X = []\n",
        "    count = 0\n",
        "    for image in images:\n",
        "        if count%1000==0:\n",
        "            print(\"[INFO] {} images loaded\".format(count))\n",
        "        img = imageio.imread(imagesPath+'/'+image)\n",
        "        #img = np.array(img)\n",
        "        #resized_images = rescale(img, 0.5, anti_aliasing=False)\n",
        "        resized_images = cv2.resize(img,(32,32))\n",
        "        X.append(resized_images)\n",
        "        count+=1\n",
        "    print(\"[INFO] Done\")\n",
        "    return np.array(X)\n",
        "\n",
        "print(\"[INFO] Training Data\")\n",
        "trainX = loadImages(partitions['train'], 'images/')\n",
        "print(\"[INFO] Validation Data\")\n",
        "validationX = loadImages(partitions['validation'], 'images/')"
      ],
      "execution_count": null,
      "outputs": [
        {
          "output_type": "stream",
          "name": "stdout",
          "text": [
            "[INFO] Training Data\n",
            "[INFO] Loading....\n",
            "[INFO] 0 images loaded\n",
            "[INFO] 1000 images loaded\n",
            "[INFO] 2000 images loaded\n",
            "[INFO] 3000 images loaded\n",
            "[INFO] 4000 images loaded\n",
            "[INFO] 5000 images loaded\n",
            "[INFO] 6000 images loaded\n",
            "[INFO] 7000 images loaded\n",
            "[INFO] 8000 images loaded\n",
            "[INFO] 9000 images loaded\n",
            "[INFO] 10000 images loaded\n",
            "[INFO] 11000 images loaded\n",
            "[INFO] 12000 images loaded\n",
            "[INFO] 13000 images loaded\n",
            "[INFO] 14000 images loaded\n",
            "[INFO] 15000 images loaded\n",
            "[INFO] 16000 images loaded\n",
            "[INFO] Done\n",
            "[INFO] Validation Data\n",
            "[INFO] Loading....\n",
            "[INFO] 0 images loaded\n",
            "[INFO] 1000 images loaded\n",
            "[INFO] 2000 images loaded\n",
            "[INFO] 3000 images loaded\n",
            "[INFO] 4000 images loaded\n",
            "[INFO] Done\n"
          ]
        }
      ]
    },
    {
      "cell_type": "code",
      "metadata": {
        "colab": {
          "base_uri": "https://localhost:8080/"
        },
        "id": "T_DuDkzVbRKM",
        "outputId": "0cc71862-9a71-4139-98cf-cfe6a67c6ec5"
      },
      "source": [
        "print(\"[INFO] test Data\")\n",
        "testX = loadImages(partitions['test'], 'images/')\n",
        "testX = testX/255.0\n",
        "# testX_reshape = testX.flatten().reshape(testX.shape[0],testX.shape[1]* testX.shape[2]* testX.shape[3])"
      ],
      "execution_count": null,
      "outputs": [
        {
          "output_type": "stream",
          "name": "stdout",
          "text": [
            "[INFO] test Data\n",
            "[INFO] Loading....\n",
            "[INFO] 0 images loaded\n",
            "[INFO] 1000 images loaded\n",
            "[INFO] 2000 images loaded\n",
            "[INFO] Done\n"
          ]
        }
      ]
    },
    {
      "cell_type": "code",
      "metadata": {
        "id": "d7WvLJg7bRMm"
      },
      "source": [
        "trainX = trainX/255.0\n",
        "validationX = validationX/255.0"
      ],
      "execution_count": null,
      "outputs": []
    },
    {
      "cell_type": "code",
      "metadata": {
        "colab": {
          "base_uri": "https://localhost:8080/"
        },
        "id": "8H5UHPsmowif",
        "outputId": "9524fc86-ee78-4b2f-d1b4-4d98a3fbea32"
      },
      "source": [
        "trainX.shape"
      ],
      "execution_count": null,
      "outputs": [
        {
          "output_type": "execute_result",
          "data": {
            "text/plain": [
              "(16595, 32, 32, 3)"
            ]
          },
          "metadata": {},
          "execution_count": 25
        }
      ]
    },
    {
      "cell_type": "code",
      "metadata": {
        "colab": {
          "base_uri": "https://localhost:8080/"
        },
        "id": "aEId182BqRv9",
        "outputId": "14d623e6-1898-4f91-e2a6-d2c0eaa60e26"
      },
      "source": [
        "testX.shape"
      ],
      "execution_count": null,
      "outputs": [
        {
          "output_type": "execute_result",
          "data": {
            "text/plain": [
              "(2369, 32, 32, 3)"
            ]
          },
          "metadata": {},
          "execution_count": 26
        }
      ]
    },
    {
      "cell_type": "code",
      "metadata": {
        "id": "OvTISByhbRPO"
      },
      "source": [
        "trainY = {\n",
        "    'gender': np.array(labels_dict['train_gender']),\n",
        "    'ethnicity': np.array(labels_dict['train_ethnicity']),\n",
        "    'age': np.array(labels_dict['train_age'])\n",
        "}\n",
        "\n",
        "validationY = {\n",
        "    'gender': np.array(labels_dict['validation_gender']),\n",
        "    'ethnicity': np.array(labels_dict['validation_ethnicity']),\n",
        "    'age': np.array(labels_dict['validation_age'])\n",
        "}\n",
        "testY = {\n",
        "    'gender': np.array(labels_dict['test_gender']),\n",
        "    'ethnicity': np.array(labels_dict['test_ethnicity']),\n",
        "    'age': np.array(labels_dict['test_age'])\n",
        "}\n",
        "\n",
        "trainY['gender'] = trainY['gender'].reshape(trainY['gender'].shape[0])\n",
        "validationY['gender'] = validationY['gender'].reshape(validationY['gender'].shape[0])\n",
        "sample_test = testY['gender']\n",
        "#testY['gender'] = testY['gender'].reshape(testY['gender'].shape[0], 1)"
      ],
      "execution_count": null,
      "outputs": []
    },
    {
      "cell_type": "code",
      "metadata": {
        "colab": {
          "base_uri": "https://localhost:8080/"
        },
        "id": "E6zAr9S9cQfp",
        "outputId": "148f41e8-75c3-4097-a583-3dec174eb424"
      },
      "source": [
        "print('Training labels')\n",
        "print('[INFO] Shape of gender label: ', trainY['gender'].shape)\n",
        "print('[INFO] Shape of ethnicity label: ', trainY['ethnicity'].shape)\n",
        "print('[INFO] Shape of age label: ', trainY['age'].shape)\n",
        "print('\\nValidation labels')\n",
        "print('[INFO] Shape of gender label: ', validationY['gender'].shape)\n",
        "print('[INFO] Shape of ethnicity label: ', validationY['ethnicity'].shape)\n",
        "print('[INFO] Shape of age label: ', validationY['age'].shape)"
      ],
      "execution_count": null,
      "outputs": [
        {
          "output_type": "stream",
          "name": "stdout",
          "text": [
            "Training labels\n",
            "[INFO] Shape of gender label:  (16595,)\n",
            "[INFO] Shape of ethnicity label:  (16595,)\n",
            "[INFO] Shape of age label:  (16595,)\n",
            "\n",
            "Validation labels\n",
            "[INFO] Shape of gender label:  (4741,)\n",
            "[INFO] Shape of ethnicity label:  (4741,)\n",
            "[INFO] Shape of age label:  (4741,)\n"
          ]
        }
      ]
    },
    {
      "cell_type": "code",
      "metadata": {
        "id": "f2wViEvlq5V5"
      },
      "source": [
        "from tensorflow.keras.utils import to_categorical\n",
        "trainY['gender'] = to_categorical(trainY['gender'])"
      ],
      "execution_count": null,
      "outputs": []
    },
    {
      "cell_type": "code",
      "metadata": {
        "colab": {
          "base_uri": "https://localhost:8080/"
        },
        "id": "-frCWsRccQj2",
        "outputId": "5118c917-760e-44d0-e9cf-fb9fb56b0c02"
      },
      "source": [
        "trainY['gender'].shape"
      ],
      "execution_count": null,
      "outputs": [
        {
          "output_type": "execute_result",
          "data": {
            "text/plain": [
              "(16595, 2)"
            ]
          },
          "metadata": {},
          "execution_count": 30
        }
      ]
    },
    {
      "cell_type": "code",
      "metadata": {
        "id": "bwr4tXbNcQoY"
      },
      "source": [
        "testY['gender'] = to_categorical(testY['gender'])"
      ],
      "execution_count": null,
      "outputs": []
    },
    {
      "cell_type": "code",
      "metadata": {
        "id": "DdXrpe1SB3iO",
        "colab": {
          "base_uri": "https://localhost:8080/"
        },
        "outputId": "a8ce7e78-302c-49f6-d58d-793270c8a72a"
      },
      "source": [
        "testY['gender'].shape"
      ],
      "execution_count": null,
      "outputs": [
        {
          "output_type": "execute_result",
          "data": {
            "text/plain": [
              "(2369, 2)"
            ]
          },
          "metadata": {},
          "execution_count": 32
        }
      ]
    },
    {
      "cell_type": "code",
      "metadata": {
        "id": "CjwKIjE_OrL4"
      },
      "source": [
        "import numpy\n",
        "x_train = trainX\n",
        "x_test = testX\n",
        "y_train_gender = trainY['gender']\n",
        "y_test_gender = testY['gender']\n"
      ],
      "execution_count": null,
      "outputs": []
    },
    {
      "cell_type": "code",
      "metadata": {
        "colab": {
          "base_uri": "https://localhost:8080/"
        },
        "id": "d0kyVKsEs-wn",
        "outputId": "7a3b85cd-31db-4988-c555-5543ad8fa80c"
      },
      "source": [
        "y_test_gender.shape"
      ],
      "execution_count": null,
      "outputs": [
        {
          "output_type": "execute_result",
          "data": {
            "text/plain": [
              "(2369, 2)"
            ]
          },
          "metadata": {},
          "execution_count": 34
        }
      ]
    },
    {
      "cell_type": "code",
      "metadata": {
        "colab": {
          "base_uri": "https://localhost:8080/"
        },
        "id": "WeSny_QWOmWY",
        "outputId": "6b00fd4a-5b7d-4f38-fd11-64a5e28e5a88"
      },
      "source": [
        "x_train.shape,y_train_gender.shape,x_test.shape,y_test_gender.shape"
      ],
      "execution_count": null,
      "outputs": [
        {
          "output_type": "execute_result",
          "data": {
            "text/plain": [
              "((16595, 32, 32, 3), (16595, 2), (2369, 32, 32, 3), (2369, 2))"
            ]
          },
          "metadata": {},
          "execution_count": 35
        }
      ]
    },
    {
      "cell_type": "markdown",
      "metadata": {
        "id": "M3XJF0e6v9O7"
      },
      "source": [
        "Training"
      ]
    },
    {
      "cell_type": "code",
      "metadata": {
        "id": "0PtiVeZKnPjP"
      },
      "source": [
        "import numpy as np\n",
        "from keras.callbacks import EarlyStopping\n",
        "from tensorflow.keras.utils import to_categorical\n",
        "\n",
        "\n",
        "lr = 0.001\n",
        "epochs = 100\n",
        "batch_size =100\n",
        "x_train, y_train = x_train,y_train_gender\n",
        "x_test, y_test = x_test,y_test_gender\n",
        "input_shape = x_train.shape[1:]\n",
        "lcnn = build_lcnn(input_shape, n_label=2)\n",
        "lcnn.compile(optimizer=tf.keras.optimizers.Adam(learning_rate=lr), loss='binary_crossentropy', metrics=['accuracy'])\n",
        "es = EarlyStopping(monitor='val_loss', patience=5 , verbose=1)\n"
      ],
      "execution_count": null,
      "outputs": []
    },
    {
      "cell_type": "code",
      "metadata": {
        "colab": {
          "base_uri": "https://localhost:8080/"
        },
        "id": "V7ZFAM3LQThj",
        "outputId": "10e1bab1-c34d-4039-b3bb-33a2194881a8"
      },
      "source": [
        "x_train.shape"
      ],
      "execution_count": null,
      "outputs": [
        {
          "output_type": "execute_result",
          "data": {
            "text/plain": [
              "(16595, 32, 32, 3)"
            ]
          },
          "metadata": {},
          "execution_count": 43
        }
      ]
    },
    {
      "cell_type": "code",
      "metadata": {
        "colab": {
          "base_uri": "https://localhost:8080/",
          "height": 1000
        },
        "id": "aLmZ2qazExUG",
        "outputId": "f2ac937e-bd1c-40cf-a556-7c0858891472"
      },
      "source": [
        "history = lcnn.fit(x_train, y_train, epochs=epochs, batch_size = 128, validation_split=0.3)\n",
        "\n"
      ],
      "execution_count": null,
      "outputs": [
        {
          "output_type": "stream",
          "name": "stdout",
          "text": [
            "Epoch 1/100\n",
            "91/91 [==============================] - 48s 504ms/step - loss: 0.8988 - accuracy: 0.6396 - val_loss: 0.6910 - val_accuracy: 0.5176\n",
            "Epoch 2/100\n",
            "91/91 [==============================] - 46s 502ms/step - loss: 0.5932 - accuracy: 0.7738 - val_loss: 1.1793 - val_accuracy: 0.5174\n",
            "Epoch 3/100\n",
            "91/91 [==============================] - 45s 497ms/step - loss: 0.4437 - accuracy: 0.8280 - val_loss: 1.3882 - val_accuracy: 0.5208\n",
            "Epoch 4/100\n",
            "91/91 [==============================] - 45s 496ms/step - loss: 0.3482 - accuracy: 0.8625 - val_loss: 0.5847 - val_accuracy: 0.7188\n",
            "Epoch 5/100\n",
            "91/91 [==============================] - 45s 497ms/step - loss: 0.2962 - accuracy: 0.8799 - val_loss: 0.3430 - val_accuracy: 0.8389\n",
            "Epoch 6/100\n",
            "91/91 [==============================] - 45s 496ms/step - loss: 0.2504 - accuracy: 0.8990 - val_loss: 0.3566 - val_accuracy: 0.8381\n",
            "Epoch 7/100\n",
            "91/91 [==============================] - 45s 497ms/step - loss: 0.2191 - accuracy: 0.9123 - val_loss: 0.4391 - val_accuracy: 0.8140\n",
            "Epoch 8/100\n",
            "91/91 [==============================] - 45s 497ms/step - loss: 0.2013 - accuracy: 0.9212 - val_loss: 0.4179 - val_accuracy: 0.8389\n",
            "Epoch 9/100\n",
            "91/91 [==============================] - 45s 496ms/step - loss: 0.1856 - accuracy: 0.9273 - val_loss: 0.4025 - val_accuracy: 0.8405\n",
            "Epoch 10/100\n",
            "91/91 [==============================] - 45s 495ms/step - loss: 0.1749 - accuracy: 0.9315 - val_loss: 0.4367 - val_accuracy: 0.8281\n",
            "Epoch 11/100\n",
            "91/91 [==============================] - 45s 497ms/step - loss: 0.1408 - accuracy: 0.9452 - val_loss: 0.4498 - val_accuracy: 0.8562\n",
            "Epoch 12/100\n",
            "91/91 [==============================] - 45s 494ms/step - loss: 0.1307 - accuracy: 0.9518 - val_loss: 0.4112 - val_accuracy: 0.8518\n",
            "Epoch 13/100\n",
            "91/91 [==============================] - 45s 496ms/step - loss: 0.1055 - accuracy: 0.9619 - val_loss: 0.4859 - val_accuracy: 0.8421\n",
            "Epoch 14/100\n",
            "91/91 [==============================] - 45s 495ms/step - loss: 0.0936 - accuracy: 0.9648 - val_loss: 0.4814 - val_accuracy: 0.8464\n",
            "Epoch 15/100\n",
            "91/91 [==============================] - 45s 497ms/step - loss: 0.0855 - accuracy: 0.9675 - val_loss: 0.4678 - val_accuracy: 0.8658\n",
            "Epoch 16/100\n",
            "91/91 [==============================] - 45s 497ms/step - loss: 0.0920 - accuracy: 0.9648 - val_loss: 0.7001 - val_accuracy: 0.8018\n",
            "Epoch 17/100\n",
            "91/91 [==============================] - 45s 498ms/step - loss: 0.0808 - accuracy: 0.9695 - val_loss: 0.5589 - val_accuracy: 0.8407\n",
            "Epoch 18/100\n",
            "91/91 [==============================] - 45s 497ms/step - loss: 0.0673 - accuracy: 0.9765 - val_loss: 0.5325 - val_accuracy: 0.8558\n",
            "Epoch 19/100\n",
            "91/91 [==============================] - 45s 498ms/step - loss: 0.0676 - accuracy: 0.9740 - val_loss: 0.4786 - val_accuracy: 0.8552\n",
            "Epoch 20/100\n",
            "91/91 [==============================] - 45s 496ms/step - loss: 0.0576 - accuracy: 0.9784 - val_loss: 0.5201 - val_accuracy: 0.8664\n",
            "Epoch 21/100\n",
            "91/91 [==============================] - 45s 498ms/step - loss: 0.0492 - accuracy: 0.9838 - val_loss: 0.6223 - val_accuracy: 0.8391\n",
            "Epoch 22/100\n",
            "91/91 [==============================] - 45s 498ms/step - loss: 0.0382 - accuracy: 0.9871 - val_loss: 0.6621 - val_accuracy: 0.8413\n",
            "Epoch 23/100\n",
            "91/91 [==============================] - 45s 498ms/step - loss: 0.0413 - accuracy: 0.9863 - val_loss: 0.6163 - val_accuracy: 0.8634\n",
            "Epoch 24/100\n",
            "91/91 [==============================] - 45s 497ms/step - loss: 0.0489 - accuracy: 0.9826 - val_loss: 0.5371 - val_accuracy: 0.8610\n",
            "Epoch 25/100\n",
            "91/91 [==============================] - 45s 497ms/step - loss: 0.0542 - accuracy: 0.9818 - val_loss: 0.6619 - val_accuracy: 0.8389\n",
            "Epoch 26/100\n",
            "91/91 [==============================] - 45s 496ms/step - loss: 0.0422 - accuracy: 0.9849 - val_loss: 0.5765 - val_accuracy: 0.8711\n",
            "Epoch 27/100\n",
            "91/91 [==============================] - 45s 497ms/step - loss: 0.0302 - accuracy: 0.9902 - val_loss: 0.5680 - val_accuracy: 0.8654\n",
            "Epoch 28/100\n",
            "91/91 [==============================] - 45s 497ms/step - loss: 0.0289 - accuracy: 0.9906 - val_loss: 0.6015 - val_accuracy: 0.8656\n",
            "Epoch 29/100\n",
            "91/91 [==============================] - 45s 497ms/step - loss: 0.0291 - accuracy: 0.9915 - val_loss: 0.5852 - val_accuracy: 0.8536\n",
            "Epoch 30/100\n",
            "91/91 [==============================] - 45s 497ms/step - loss: 0.0312 - accuracy: 0.9898 - val_loss: 0.6124 - val_accuracy: 0.8678\n",
            "Epoch 31/100\n",
            "91/91 [==============================] - 45s 496ms/step - loss: 0.0397 - accuracy: 0.9865 - val_loss: 0.7755 - val_accuracy: 0.8375\n",
            "Epoch 32/100\n",
            "91/91 [==============================] - 45s 496ms/step - loss: 0.0527 - accuracy: 0.9822 - val_loss: 0.5794 - val_accuracy: 0.8546\n",
            "Epoch 33/100\n",
            "91/91 [==============================] - 45s 496ms/step - loss: 0.0368 - accuracy: 0.9877 - val_loss: 0.6288 - val_accuracy: 0.8494\n",
            "Epoch 34/100\n",
            "91/91 [==============================] - 47s 513ms/step - loss: 0.0389 - accuracy: 0.9872 - val_loss: 0.6470 - val_accuracy: 0.8516\n",
            "Epoch 35/100\n",
            "91/91 [==============================] - 46s 508ms/step - loss: 0.0370 - accuracy: 0.9886 - val_loss: 0.7445 - val_accuracy: 0.8287\n",
            "Epoch 36/100\n",
            "91/91 [==============================] - 47s 517ms/step - loss: 0.0288 - accuracy: 0.9904 - val_loss: 0.6977 - val_accuracy: 0.8510\n",
            "Epoch 37/100\n",
            "91/91 [==============================] - 45s 498ms/step - loss: 0.0199 - accuracy: 0.9939 - val_loss: 0.6571 - val_accuracy: 0.8672\n",
            "Epoch 38/100\n",
            "91/91 [==============================] - 47s 513ms/step - loss: 0.0184 - accuracy: 0.9953 - val_loss: 0.6204 - val_accuracy: 0.8672\n",
            "Epoch 39/100\n",
            "91/91 [==============================] - 47s 515ms/step - loss: 0.0164 - accuracy: 0.9949 - val_loss: 0.7652 - val_accuracy: 0.8437\n",
            "Epoch 40/100\n",
            "91/91 [==============================] - 47s 512ms/step - loss: 0.0221 - accuracy: 0.9929 - val_loss: 0.7764 - val_accuracy: 0.8462\n",
            "Epoch 41/100\n",
            "91/91 [==============================] - 46s 503ms/step - loss: 0.0216 - accuracy: 0.9927 - val_loss: 0.6796 - val_accuracy: 0.8697\n",
            "Epoch 42/100\n",
            "91/91 [==============================] - 45s 497ms/step - loss: 0.0201 - accuracy: 0.9936 - val_loss: 0.6888 - val_accuracy: 0.8630\n",
            "Epoch 43/100\n",
            "91/91 [==============================] - 45s 496ms/step - loss: 0.0289 - accuracy: 0.9907 - val_loss: 1.1551 - val_accuracy: 0.7809\n",
            "Epoch 44/100\n",
            "91/91 [==============================] - 45s 495ms/step - loss: 0.0444 - accuracy: 0.9848 - val_loss: 0.9497 - val_accuracy: 0.8265\n",
            "Epoch 45/100\n",
            "91/91 [==============================] - 45s 496ms/step - loss: 0.0330 - accuracy: 0.9884 - val_loss: 0.6515 - val_accuracy: 0.8650\n",
            "Epoch 46/100\n",
            "91/91 [==============================] - ETA: 0s - loss: 0.0341 - accuracy: 0.9876"
          ]
        },
        {
          "output_type": "error",
          "ename": "KeyboardInterrupt",
          "evalue": "ignored",
          "traceback": [
            "\u001b[0;31m---------------------------------------------------------------------------\u001b[0m",
            "\u001b[0;31mKeyboardInterrupt\u001b[0m                         Traceback (most recent call last)",
            "\u001b[0;32m<ipython-input-44-17bc7ccf6477>\u001b[0m in \u001b[0;36m<module>\u001b[0;34m()\u001b[0m\n\u001b[0;32m----> 1\u001b[0;31m \u001b[0mhistory\u001b[0m \u001b[0;34m=\u001b[0m \u001b[0mlcnn\u001b[0m\u001b[0;34m.\u001b[0m\u001b[0mfit\u001b[0m\u001b[0;34m(\u001b[0m\u001b[0mx_train\u001b[0m\u001b[0;34m,\u001b[0m \u001b[0my_train\u001b[0m\u001b[0;34m,\u001b[0m \u001b[0mepochs\u001b[0m\u001b[0;34m=\u001b[0m\u001b[0mepochs\u001b[0m\u001b[0;34m,\u001b[0m \u001b[0mbatch_size\u001b[0m \u001b[0;34m=\u001b[0m \u001b[0;36m128\u001b[0m\u001b[0;34m,\u001b[0m \u001b[0mvalidation_split\u001b[0m\u001b[0;34m=\u001b[0m\u001b[0;36m0.3\u001b[0m\u001b[0;34m)\u001b[0m\u001b[0;34m\u001b[0m\u001b[0;34m\u001b[0m\u001b[0m\n\u001b[0m\u001b[1;32m      2\u001b[0m \u001b[0;34m\u001b[0m\u001b[0m\n",
            "\u001b[0;32m/usr/local/lib/python3.7/dist-packages/keras/engine/training.py\u001b[0m in \u001b[0;36mfit\u001b[0;34m(self, x, y, batch_size, epochs, verbose, callbacks, validation_split, validation_data, shuffle, class_weight, sample_weight, initial_epoch, steps_per_epoch, validation_steps, validation_batch_size, validation_freq, max_queue_size, workers, use_multiprocessing)\u001b[0m\n\u001b[1;32m   1224\u001b[0m               \u001b[0muse_multiprocessing\u001b[0m\u001b[0;34m=\u001b[0m\u001b[0muse_multiprocessing\u001b[0m\u001b[0;34m,\u001b[0m\u001b[0;34m\u001b[0m\u001b[0;34m\u001b[0m\u001b[0m\n\u001b[1;32m   1225\u001b[0m               \u001b[0mreturn_dict\u001b[0m\u001b[0;34m=\u001b[0m\u001b[0;32mTrue\u001b[0m\u001b[0;34m,\u001b[0m\u001b[0;34m\u001b[0m\u001b[0;34m\u001b[0m\u001b[0m\n\u001b[0;32m-> 1226\u001b[0;31m               _use_cached_eval_dataset=True)\n\u001b[0m\u001b[1;32m   1227\u001b[0m           \u001b[0mval_logs\u001b[0m \u001b[0;34m=\u001b[0m \u001b[0;34m{\u001b[0m\u001b[0;34m'val_'\u001b[0m \u001b[0;34m+\u001b[0m \u001b[0mname\u001b[0m\u001b[0;34m:\u001b[0m \u001b[0mval\u001b[0m \u001b[0;32mfor\u001b[0m \u001b[0mname\u001b[0m\u001b[0;34m,\u001b[0m \u001b[0mval\u001b[0m \u001b[0;32min\u001b[0m \u001b[0mval_logs\u001b[0m\u001b[0;34m.\u001b[0m\u001b[0mitems\u001b[0m\u001b[0;34m(\u001b[0m\u001b[0;34m)\u001b[0m\u001b[0;34m}\u001b[0m\u001b[0;34m\u001b[0m\u001b[0;34m\u001b[0m\u001b[0m\n\u001b[1;32m   1228\u001b[0m           \u001b[0mepoch_logs\u001b[0m\u001b[0;34m.\u001b[0m\u001b[0mupdate\u001b[0m\u001b[0;34m(\u001b[0m\u001b[0mval_logs\u001b[0m\u001b[0;34m)\u001b[0m\u001b[0;34m\u001b[0m\u001b[0;34m\u001b[0m\u001b[0m\n",
            "\u001b[0;32m/usr/local/lib/python3.7/dist-packages/keras/engine/training.py\u001b[0m in \u001b[0;36mevaluate\u001b[0;34m(self, x, y, batch_size, verbose, sample_weight, steps, callbacks, max_queue_size, workers, use_multiprocessing, return_dict, **kwargs)\u001b[0m\n\u001b[1;32m   1499\u001b[0m             \u001b[0;32mwith\u001b[0m \u001b[0mtf\u001b[0m\u001b[0;34m.\u001b[0m\u001b[0mprofiler\u001b[0m\u001b[0;34m.\u001b[0m\u001b[0mexperimental\u001b[0m\u001b[0;34m.\u001b[0m\u001b[0mTrace\u001b[0m\u001b[0;34m(\u001b[0m\u001b[0;34m'test'\u001b[0m\u001b[0;34m,\u001b[0m \u001b[0mstep_num\u001b[0m\u001b[0;34m=\u001b[0m\u001b[0mstep\u001b[0m\u001b[0;34m,\u001b[0m \u001b[0m_r\u001b[0m\u001b[0;34m=\u001b[0m\u001b[0;36m1\u001b[0m\u001b[0;34m)\u001b[0m\u001b[0;34m:\u001b[0m\u001b[0;34m\u001b[0m\u001b[0;34m\u001b[0m\u001b[0m\n\u001b[1;32m   1500\u001b[0m               \u001b[0mcallbacks\u001b[0m\u001b[0;34m.\u001b[0m\u001b[0mon_test_batch_begin\u001b[0m\u001b[0;34m(\u001b[0m\u001b[0mstep\u001b[0m\u001b[0;34m)\u001b[0m\u001b[0;34m\u001b[0m\u001b[0;34m\u001b[0m\u001b[0m\n\u001b[0;32m-> 1501\u001b[0;31m               \u001b[0mtmp_logs\u001b[0m \u001b[0;34m=\u001b[0m \u001b[0mself\u001b[0m\u001b[0;34m.\u001b[0m\u001b[0mtest_function\u001b[0m\u001b[0;34m(\u001b[0m\u001b[0miterator\u001b[0m\u001b[0;34m)\u001b[0m\u001b[0;34m\u001b[0m\u001b[0;34m\u001b[0m\u001b[0m\n\u001b[0m\u001b[1;32m   1502\u001b[0m               \u001b[0;32mif\u001b[0m \u001b[0mdata_handler\u001b[0m\u001b[0;34m.\u001b[0m\u001b[0mshould_sync\u001b[0m\u001b[0;34m:\u001b[0m\u001b[0;34m\u001b[0m\u001b[0;34m\u001b[0m\u001b[0m\n\u001b[1;32m   1503\u001b[0m                 \u001b[0mcontext\u001b[0m\u001b[0;34m.\u001b[0m\u001b[0masync_wait\u001b[0m\u001b[0;34m(\u001b[0m\u001b[0;34m)\u001b[0m\u001b[0;34m\u001b[0m\u001b[0;34m\u001b[0m\u001b[0m\n",
            "\u001b[0;32m/usr/local/lib/python3.7/dist-packages/tensorflow/python/eager/def_function.py\u001b[0m in \u001b[0;36m__call__\u001b[0;34m(self, *args, **kwds)\u001b[0m\n\u001b[1;32m    883\u001b[0m \u001b[0;34m\u001b[0m\u001b[0m\n\u001b[1;32m    884\u001b[0m       \u001b[0;32mwith\u001b[0m \u001b[0mOptionalXlaContext\u001b[0m\u001b[0;34m(\u001b[0m\u001b[0mself\u001b[0m\u001b[0;34m.\u001b[0m\u001b[0m_jit_compile\u001b[0m\u001b[0;34m)\u001b[0m\u001b[0;34m:\u001b[0m\u001b[0;34m\u001b[0m\u001b[0;34m\u001b[0m\u001b[0m\n\u001b[0;32m--> 885\u001b[0;31m         \u001b[0mresult\u001b[0m \u001b[0;34m=\u001b[0m \u001b[0mself\u001b[0m\u001b[0;34m.\u001b[0m\u001b[0m_call\u001b[0m\u001b[0;34m(\u001b[0m\u001b[0;34m*\u001b[0m\u001b[0margs\u001b[0m\u001b[0;34m,\u001b[0m \u001b[0;34m**\u001b[0m\u001b[0mkwds\u001b[0m\u001b[0;34m)\u001b[0m\u001b[0;34m\u001b[0m\u001b[0;34m\u001b[0m\u001b[0m\n\u001b[0m\u001b[1;32m    886\u001b[0m \u001b[0;34m\u001b[0m\u001b[0m\n\u001b[1;32m    887\u001b[0m       \u001b[0mnew_tracing_count\u001b[0m \u001b[0;34m=\u001b[0m \u001b[0mself\u001b[0m\u001b[0;34m.\u001b[0m\u001b[0mexperimental_get_tracing_count\u001b[0m\u001b[0;34m(\u001b[0m\u001b[0;34m)\u001b[0m\u001b[0;34m\u001b[0m\u001b[0;34m\u001b[0m\u001b[0m\n",
            "\u001b[0;32m/usr/local/lib/python3.7/dist-packages/tensorflow/python/eager/def_function.py\u001b[0m in \u001b[0;36m_call\u001b[0;34m(self, *args, **kwds)\u001b[0m\n\u001b[1;32m    922\u001b[0m       \u001b[0;31m# In this case we have not created variables on the first call. So we can\u001b[0m\u001b[0;34m\u001b[0m\u001b[0;34m\u001b[0m\u001b[0;34m\u001b[0m\u001b[0m\n\u001b[1;32m    923\u001b[0m       \u001b[0;31m# run the first trace but we should fail if variables are created.\u001b[0m\u001b[0;34m\u001b[0m\u001b[0;34m\u001b[0m\u001b[0;34m\u001b[0m\u001b[0m\n\u001b[0;32m--> 924\u001b[0;31m       \u001b[0mresults\u001b[0m \u001b[0;34m=\u001b[0m \u001b[0mself\u001b[0m\u001b[0;34m.\u001b[0m\u001b[0m_stateful_fn\u001b[0m\u001b[0;34m(\u001b[0m\u001b[0;34m*\u001b[0m\u001b[0margs\u001b[0m\u001b[0;34m,\u001b[0m \u001b[0;34m**\u001b[0m\u001b[0mkwds\u001b[0m\u001b[0;34m)\u001b[0m\u001b[0;34m\u001b[0m\u001b[0;34m\u001b[0m\u001b[0m\n\u001b[0m\u001b[1;32m    925\u001b[0m       \u001b[0;32mif\u001b[0m \u001b[0mself\u001b[0m\u001b[0;34m.\u001b[0m\u001b[0m_created_variables\u001b[0m \u001b[0;32mand\u001b[0m \u001b[0;32mnot\u001b[0m \u001b[0mALLOW_DYNAMIC_VARIABLE_CREATION\u001b[0m\u001b[0;34m:\u001b[0m\u001b[0;34m\u001b[0m\u001b[0;34m\u001b[0m\u001b[0m\n\u001b[1;32m    926\u001b[0m         raise ValueError(\"Creating variables on a non-first call to a function\"\n",
            "\u001b[0;32m/usr/local/lib/python3.7/dist-packages/tensorflow/python/eager/function.py\u001b[0m in \u001b[0;36m__call__\u001b[0;34m(self, *args, **kwargs)\u001b[0m\n\u001b[1;32m   3038\u001b[0m        filtered_flat_args) = self._maybe_define_function(args, kwargs)\n\u001b[1;32m   3039\u001b[0m     return graph_function._call_flat(\n\u001b[0;32m-> 3040\u001b[0;31m         filtered_flat_args, captured_inputs=graph_function.captured_inputs)  # pylint: disable=protected-access\n\u001b[0m\u001b[1;32m   3041\u001b[0m \u001b[0;34m\u001b[0m\u001b[0m\n\u001b[1;32m   3042\u001b[0m   \u001b[0;34m@\u001b[0m\u001b[0mproperty\u001b[0m\u001b[0;34m\u001b[0m\u001b[0;34m\u001b[0m\u001b[0m\n",
            "\u001b[0;32m/usr/local/lib/python3.7/dist-packages/tensorflow/python/eager/function.py\u001b[0m in \u001b[0;36m_call_flat\u001b[0;34m(self, args, captured_inputs, cancellation_manager)\u001b[0m\n\u001b[1;32m   1962\u001b[0m       \u001b[0;31m# No tape is watching; skip to running the function.\u001b[0m\u001b[0;34m\u001b[0m\u001b[0;34m\u001b[0m\u001b[0;34m\u001b[0m\u001b[0m\n\u001b[1;32m   1963\u001b[0m       return self._build_call_outputs(self._inference_function.call(\n\u001b[0;32m-> 1964\u001b[0;31m           ctx, args, cancellation_manager=cancellation_manager))\n\u001b[0m\u001b[1;32m   1965\u001b[0m     forward_backward = self._select_forward_and_backward_functions(\n\u001b[1;32m   1966\u001b[0m         \u001b[0margs\u001b[0m\u001b[0;34m,\u001b[0m\u001b[0;34m\u001b[0m\u001b[0;34m\u001b[0m\u001b[0m\n",
            "\u001b[0;32m/usr/local/lib/python3.7/dist-packages/tensorflow/python/eager/function.py\u001b[0m in \u001b[0;36mcall\u001b[0;34m(self, ctx, args, cancellation_manager)\u001b[0m\n\u001b[1;32m    594\u001b[0m               \u001b[0minputs\u001b[0m\u001b[0;34m=\u001b[0m\u001b[0margs\u001b[0m\u001b[0;34m,\u001b[0m\u001b[0;34m\u001b[0m\u001b[0;34m\u001b[0m\u001b[0m\n\u001b[1;32m    595\u001b[0m               \u001b[0mattrs\u001b[0m\u001b[0;34m=\u001b[0m\u001b[0mattrs\u001b[0m\u001b[0;34m,\u001b[0m\u001b[0;34m\u001b[0m\u001b[0;34m\u001b[0m\u001b[0m\n\u001b[0;32m--> 596\u001b[0;31m               ctx=ctx)\n\u001b[0m\u001b[1;32m    597\u001b[0m         \u001b[0;32melse\u001b[0m\u001b[0;34m:\u001b[0m\u001b[0;34m\u001b[0m\u001b[0;34m\u001b[0m\u001b[0m\n\u001b[1;32m    598\u001b[0m           outputs = execute.execute_with_cancellation(\n",
            "\u001b[0;32m/usr/local/lib/python3.7/dist-packages/tensorflow/python/eager/execute.py\u001b[0m in \u001b[0;36mquick_execute\u001b[0;34m(op_name, num_outputs, inputs, attrs, ctx, name)\u001b[0m\n\u001b[1;32m     58\u001b[0m     \u001b[0mctx\u001b[0m\u001b[0;34m.\u001b[0m\u001b[0mensure_initialized\u001b[0m\u001b[0;34m(\u001b[0m\u001b[0;34m)\u001b[0m\u001b[0;34m\u001b[0m\u001b[0;34m\u001b[0m\u001b[0m\n\u001b[1;32m     59\u001b[0m     tensors = pywrap_tfe.TFE_Py_Execute(ctx._handle, device_name, op_name,\n\u001b[0;32m---> 60\u001b[0;31m                                         inputs, attrs, num_outputs)\n\u001b[0m\u001b[1;32m     61\u001b[0m   \u001b[0;32mexcept\u001b[0m \u001b[0mcore\u001b[0m\u001b[0;34m.\u001b[0m\u001b[0m_NotOkStatusException\u001b[0m \u001b[0;32mas\u001b[0m \u001b[0me\u001b[0m\u001b[0;34m:\u001b[0m\u001b[0;34m\u001b[0m\u001b[0;34m\u001b[0m\u001b[0m\n\u001b[1;32m     62\u001b[0m     \u001b[0;32mif\u001b[0m \u001b[0mname\u001b[0m \u001b[0;32mis\u001b[0m \u001b[0;32mnot\u001b[0m \u001b[0;32mNone\u001b[0m\u001b[0;34m:\u001b[0m\u001b[0;34m\u001b[0m\u001b[0;34m\u001b[0m\u001b[0m\n",
            "\u001b[0;31mKeyboardInterrupt\u001b[0m: "
          ]
        }
      ]
    },
    {
      "cell_type": "code",
      "metadata": {
        "id": "GnC-c3pGHt08"
      },
      "source": [
        "from keras.models import load_model\n",
        "lcnn.save(\"/content/drive/MyDrive/DAI_model/lcnn_400.h5\")"
      ],
      "execution_count": null,
      "outputs": []
    },
    {
      "cell_type": "code",
      "metadata": {
        "colab": {
          "base_uri": "https://localhost:8080/"
        },
        "id": "JGbxsKRijDZX",
        "outputId": "27304bfa-d197-4aaa-9b3b-9ce087a63073"
      },
      "source": [
        "from google.colab import drive\n",
        "drive.mount('/content/drive')"
      ],
      "execution_count": null,
      "outputs": [
        {
          "output_type": "stream",
          "name": "stdout",
          "text": [
            "Mounted at /content/drive\n"
          ]
        }
      ]
    },
    {
      "cell_type": "code",
      "metadata": {
        "colab": {
          "base_uri": "https://localhost:8080/",
          "height": 398
        },
        "id": "cAzgX_bYjeu6",
        "outputId": "23b6d5f6-8b66-4195-8890-ca29e3f2d34f"
      },
      "source": [
        "from keras.models import load_model\n",
        "model = load_model('/content/drive/MyDrive/DAI/lcnn_400.h5')"
      ],
      "execution_count": null,
      "outputs": [
        {
          "output_type": "error",
          "ename": "ValueError",
          "evalue": "ignored",
          "traceback": [
            "\u001b[0;31m---------------------------------------------------------------------------\u001b[0m",
            "\u001b[0;31mValueError\u001b[0m                                Traceback (most recent call last)",
            "\u001b[0;32m<ipython-input-38-a06b26d38552>\u001b[0m in \u001b[0;36m<module>\u001b[0;34m()\u001b[0m\n\u001b[1;32m      1\u001b[0m \u001b[0;32mfrom\u001b[0m \u001b[0mkeras\u001b[0m\u001b[0;34m.\u001b[0m\u001b[0mmodels\u001b[0m \u001b[0;32mimport\u001b[0m \u001b[0mload_model\u001b[0m\u001b[0;34m\u001b[0m\u001b[0;34m\u001b[0m\u001b[0m\n\u001b[0;32m----> 2\u001b[0;31m \u001b[0mmodel\u001b[0m \u001b[0;34m=\u001b[0m \u001b[0mload_model\u001b[0m\u001b[0;34m(\u001b[0m\u001b[0;34m'/content/drive/MyDrive/DAI/lcnn_400.h5'\u001b[0m\u001b[0;34m)\u001b[0m\u001b[0;34m\u001b[0m\u001b[0;34m\u001b[0m\u001b[0m\n\u001b[0m",
            "\u001b[0;32m/usr/local/lib/python3.7/dist-packages/keras/saving/save.py\u001b[0m in \u001b[0;36mload_model\u001b[0;34m(filepath, custom_objects, compile, options)\u001b[0m\n\u001b[1;32m    199\u001b[0m             (isinstance(filepath, h5py.File) or h5py.is_hdf5(filepath))):\n\u001b[1;32m    200\u001b[0m           return hdf5_format.load_model_from_hdf5(filepath, custom_objects,\n\u001b[0;32m--> 201\u001b[0;31m                                                   compile)\n\u001b[0m\u001b[1;32m    202\u001b[0m \u001b[0;34m\u001b[0m\u001b[0m\n\u001b[1;32m    203\u001b[0m         \u001b[0mfilepath\u001b[0m \u001b[0;34m=\u001b[0m \u001b[0mpath_to_string\u001b[0m\u001b[0;34m(\u001b[0m\u001b[0mfilepath\u001b[0m\u001b[0;34m)\u001b[0m\u001b[0;34m\u001b[0m\u001b[0;34m\u001b[0m\u001b[0m\n",
            "\u001b[0;32m/usr/local/lib/python3.7/dist-packages/keras/saving/hdf5_format.py\u001b[0m in \u001b[0;36mload_model_from_hdf5\u001b[0;34m(filepath, custom_objects, compile)\u001b[0m\n\u001b[1;32m    179\u001b[0m     \u001b[0mmodel_config\u001b[0m \u001b[0;34m=\u001b[0m \u001b[0mjson_utils\u001b[0m\u001b[0;34m.\u001b[0m\u001b[0mdecode\u001b[0m\u001b[0;34m(\u001b[0m\u001b[0mmodel_config\u001b[0m\u001b[0;34m)\u001b[0m\u001b[0;34m\u001b[0m\u001b[0;34m\u001b[0m\u001b[0m\n\u001b[1;32m    180\u001b[0m     model = model_config_lib.model_from_config(model_config,\n\u001b[0;32m--> 181\u001b[0;31m                                                custom_objects=custom_objects)\n\u001b[0m\u001b[1;32m    182\u001b[0m \u001b[0;34m\u001b[0m\u001b[0m\n\u001b[1;32m    183\u001b[0m     \u001b[0;31m# set weights\u001b[0m\u001b[0;34m\u001b[0m\u001b[0;34m\u001b[0m\u001b[0;34m\u001b[0m\u001b[0m\n",
            "\u001b[0;32m/usr/local/lib/python3.7/dist-packages/keras/saving/model_config.py\u001b[0m in \u001b[0;36mmodel_from_config\u001b[0;34m(config, custom_objects)\u001b[0m\n\u001b[1;32m     50\u001b[0m                     '`Sequential.from_config(config)`?')\n\u001b[1;32m     51\u001b[0m   \u001b[0;32mfrom\u001b[0m \u001b[0mkeras\u001b[0m\u001b[0;34m.\u001b[0m\u001b[0mlayers\u001b[0m \u001b[0;32mimport\u001b[0m \u001b[0mdeserialize\u001b[0m  \u001b[0;31m# pylint: disable=g-import-not-at-top\u001b[0m\u001b[0;34m\u001b[0m\u001b[0;34m\u001b[0m\u001b[0m\n\u001b[0;32m---> 52\u001b[0;31m   \u001b[0;32mreturn\u001b[0m \u001b[0mdeserialize\u001b[0m\u001b[0;34m(\u001b[0m\u001b[0mconfig\u001b[0m\u001b[0;34m,\u001b[0m \u001b[0mcustom_objects\u001b[0m\u001b[0;34m=\u001b[0m\u001b[0mcustom_objects\u001b[0m\u001b[0;34m)\u001b[0m\u001b[0;34m\u001b[0m\u001b[0;34m\u001b[0m\u001b[0m\n\u001b[0m\u001b[1;32m     53\u001b[0m \u001b[0;34m\u001b[0m\u001b[0m\n\u001b[1;32m     54\u001b[0m \u001b[0;34m\u001b[0m\u001b[0m\n",
            "\u001b[0;32m/usr/local/lib/python3.7/dist-packages/keras/layers/serialization.py\u001b[0m in \u001b[0;36mdeserialize\u001b[0;34m(config, custom_objects)\u001b[0m\n\u001b[1;32m    210\u001b[0m       \u001b[0mmodule_objects\u001b[0m\u001b[0;34m=\u001b[0m\u001b[0mLOCAL\u001b[0m\u001b[0;34m.\u001b[0m\u001b[0mALL_OBJECTS\u001b[0m\u001b[0;34m,\u001b[0m\u001b[0;34m\u001b[0m\u001b[0;34m\u001b[0m\u001b[0m\n\u001b[1;32m    211\u001b[0m       \u001b[0mcustom_objects\u001b[0m\u001b[0;34m=\u001b[0m\u001b[0mcustom_objects\u001b[0m\u001b[0;34m,\u001b[0m\u001b[0;34m\u001b[0m\u001b[0;34m\u001b[0m\u001b[0m\n\u001b[0;32m--> 212\u001b[0;31m       printable_module_name='layer')\n\u001b[0m",
            "\u001b[0;32m/usr/local/lib/python3.7/dist-packages/keras/utils/generic_utils.py\u001b[0m in \u001b[0;36mdeserialize_keras_object\u001b[0;34m(identifier, module_objects, custom_objects, printable_module_name)\u001b[0m\n\u001b[1;32m    676\u001b[0m             custom_objects=dict(\n\u001b[1;32m    677\u001b[0m                 \u001b[0mlist\u001b[0m\u001b[0;34m(\u001b[0m\u001b[0m_GLOBAL_CUSTOM_OBJECTS\u001b[0m\u001b[0;34m.\u001b[0m\u001b[0mitems\u001b[0m\u001b[0;34m(\u001b[0m\u001b[0;34m)\u001b[0m\u001b[0;34m)\u001b[0m \u001b[0;34m+\u001b[0m\u001b[0;34m\u001b[0m\u001b[0;34m\u001b[0m\u001b[0m\n\u001b[0;32m--> 678\u001b[0;31m                 list(custom_objects.items())))\n\u001b[0m\u001b[1;32m    679\u001b[0m       \u001b[0;32melse\u001b[0m\u001b[0;34m:\u001b[0m\u001b[0;34m\u001b[0m\u001b[0;34m\u001b[0m\u001b[0m\n\u001b[1;32m    680\u001b[0m         \u001b[0;32mwith\u001b[0m \u001b[0mCustomObjectScope\u001b[0m\u001b[0;34m(\u001b[0m\u001b[0mcustom_objects\u001b[0m\u001b[0;34m)\u001b[0m\u001b[0;34m:\u001b[0m\u001b[0;34m\u001b[0m\u001b[0;34m\u001b[0m\u001b[0m\n",
            "\u001b[0;32m/usr/local/lib/python3.7/dist-packages/keras/engine/functional.py\u001b[0m in \u001b[0;36mfrom_config\u001b[0;34m(cls, config, custom_objects)\u001b[0m\n\u001b[1;32m    661\u001b[0m     \u001b[0;32mwith\u001b[0m \u001b[0mgeneric_utils\u001b[0m\u001b[0;34m.\u001b[0m\u001b[0mSharedObjectLoadingScope\u001b[0m\u001b[0;34m(\u001b[0m\u001b[0;34m)\u001b[0m\u001b[0;34m:\u001b[0m\u001b[0;34m\u001b[0m\u001b[0;34m\u001b[0m\u001b[0m\n\u001b[1;32m    662\u001b[0m       input_tensors, output_tensors, created_layers = reconstruct_from_config(\n\u001b[0;32m--> 663\u001b[0;31m           config, custom_objects)\n\u001b[0m\u001b[1;32m    664\u001b[0m       model = cls(inputs=input_tensors, outputs=output_tensors,\n\u001b[1;32m    665\u001b[0m                   name=config.get('name'))\n",
            "\u001b[0;32m/usr/local/lib/python3.7/dist-packages/keras/engine/functional.py\u001b[0m in \u001b[0;36mreconstruct_from_config\u001b[0;34m(config, custom_objects, created_layers)\u001b[0m\n\u001b[1;32m   1271\u001b[0m   \u001b[0;31m# First, we create all layers and enqueue nodes to be processed\u001b[0m\u001b[0;34m\u001b[0m\u001b[0;34m\u001b[0m\u001b[0;34m\u001b[0m\u001b[0m\n\u001b[1;32m   1272\u001b[0m   \u001b[0;32mfor\u001b[0m \u001b[0mlayer_data\u001b[0m \u001b[0;32min\u001b[0m \u001b[0mconfig\u001b[0m\u001b[0;34m[\u001b[0m\u001b[0;34m'layers'\u001b[0m\u001b[0;34m]\u001b[0m\u001b[0;34m:\u001b[0m\u001b[0;34m\u001b[0m\u001b[0;34m\u001b[0m\u001b[0m\n\u001b[0;32m-> 1273\u001b[0;31m     \u001b[0mprocess_layer\u001b[0m\u001b[0;34m(\u001b[0m\u001b[0mlayer_data\u001b[0m\u001b[0;34m)\u001b[0m\u001b[0;34m\u001b[0m\u001b[0;34m\u001b[0m\u001b[0m\n\u001b[0m\u001b[1;32m   1274\u001b[0m   \u001b[0;31m# Then we process nodes in order of layer depth.\u001b[0m\u001b[0;34m\u001b[0m\u001b[0;34m\u001b[0m\u001b[0;34m\u001b[0m\u001b[0m\n\u001b[1;32m   1275\u001b[0m   \u001b[0;31m# Nodes that cannot yet be processed (if the inbound node\u001b[0m\u001b[0;34m\u001b[0m\u001b[0;34m\u001b[0m\u001b[0;34m\u001b[0m\u001b[0m\n",
            "\u001b[0;32m/usr/local/lib/python3.7/dist-packages/keras/engine/functional.py\u001b[0m in \u001b[0;36mprocess_layer\u001b[0;34m(layer_data)\u001b[0m\n\u001b[1;32m   1253\u001b[0m       \u001b[0;32mfrom\u001b[0m \u001b[0mkeras\u001b[0m\u001b[0;34m.\u001b[0m\u001b[0mlayers\u001b[0m \u001b[0;32mimport\u001b[0m \u001b[0mdeserialize\u001b[0m \u001b[0;32mas\u001b[0m \u001b[0mdeserialize_layer\u001b[0m  \u001b[0;31m# pylint: disable=g-import-not-at-top\u001b[0m\u001b[0;34m\u001b[0m\u001b[0;34m\u001b[0m\u001b[0m\n\u001b[1;32m   1254\u001b[0m \u001b[0;34m\u001b[0m\u001b[0m\n\u001b[0;32m-> 1255\u001b[0;31m       \u001b[0mlayer\u001b[0m \u001b[0;34m=\u001b[0m \u001b[0mdeserialize_layer\u001b[0m\u001b[0;34m(\u001b[0m\u001b[0mlayer_data\u001b[0m\u001b[0;34m,\u001b[0m \u001b[0mcustom_objects\u001b[0m\u001b[0;34m=\u001b[0m\u001b[0mcustom_objects\u001b[0m\u001b[0;34m)\u001b[0m\u001b[0;34m\u001b[0m\u001b[0;34m\u001b[0m\u001b[0m\n\u001b[0m\u001b[1;32m   1256\u001b[0m       \u001b[0mcreated_layers\u001b[0m\u001b[0;34m[\u001b[0m\u001b[0mlayer_name\u001b[0m\u001b[0;34m]\u001b[0m \u001b[0;34m=\u001b[0m \u001b[0mlayer\u001b[0m\u001b[0;34m\u001b[0m\u001b[0;34m\u001b[0m\u001b[0m\n\u001b[1;32m   1257\u001b[0m \u001b[0;34m\u001b[0m\u001b[0m\n",
            "\u001b[0;32m/usr/local/lib/python3.7/dist-packages/keras/layers/serialization.py\u001b[0m in \u001b[0;36mdeserialize\u001b[0;34m(config, custom_objects)\u001b[0m\n\u001b[1;32m    210\u001b[0m       \u001b[0mmodule_objects\u001b[0m\u001b[0;34m=\u001b[0m\u001b[0mLOCAL\u001b[0m\u001b[0;34m.\u001b[0m\u001b[0mALL_OBJECTS\u001b[0m\u001b[0;34m,\u001b[0m\u001b[0;34m\u001b[0m\u001b[0;34m\u001b[0m\u001b[0m\n\u001b[1;32m    211\u001b[0m       \u001b[0mcustom_objects\u001b[0m\u001b[0;34m=\u001b[0m\u001b[0mcustom_objects\u001b[0m\u001b[0;34m,\u001b[0m\u001b[0;34m\u001b[0m\u001b[0;34m\u001b[0m\u001b[0m\n\u001b[0;32m--> 212\u001b[0;31m       printable_module_name='layer')\n\u001b[0m",
            "\u001b[0;32m/usr/local/lib/python3.7/dist-packages/keras/utils/generic_utils.py\u001b[0m in \u001b[0;36mdeserialize_keras_object\u001b[0;34m(identifier, module_objects, custom_objects, printable_module_name)\u001b[0m\n\u001b[1;32m    658\u001b[0m     \u001b[0mconfig\u001b[0m \u001b[0;34m=\u001b[0m \u001b[0midentifier\u001b[0m\u001b[0;34m\u001b[0m\u001b[0;34m\u001b[0m\u001b[0m\n\u001b[1;32m    659\u001b[0m     (cls, cls_config) = class_and_config_for_serialized_keras_object(\n\u001b[0;32m--> 660\u001b[0;31m         config, module_objects, custom_objects, printable_module_name)\n\u001b[0m\u001b[1;32m    661\u001b[0m \u001b[0;34m\u001b[0m\u001b[0m\n\u001b[1;32m    662\u001b[0m     \u001b[0;31m# If this object has already been loaded (i.e. it's shared between multiple\u001b[0m\u001b[0;34m\u001b[0m\u001b[0;34m\u001b[0m\u001b[0;34m\u001b[0m\u001b[0m\n",
            "\u001b[0;32m/usr/local/lib/python3.7/dist-packages/keras/utils/generic_utils.py\u001b[0m in \u001b[0;36mclass_and_config_for_serialized_keras_object\u001b[0;34m(config, module_objects, custom_objects, printable_module_name)\u001b[0m\n\u001b[1;32m    559\u001b[0m         \u001b[0;34m'https://www.tensorflow.org/guide/keras/save_and_serialize'\u001b[0m\u001b[0;34m\u001b[0m\u001b[0;34m\u001b[0m\u001b[0m\n\u001b[1;32m    560\u001b[0m         \u001b[0;34m'#registering_the_custom_object for details.'\u001b[0m\u001b[0;34m\u001b[0m\u001b[0;34m\u001b[0m\u001b[0m\n\u001b[0;32m--> 561\u001b[0;31m         .format(printable_module_name, class_name))\n\u001b[0m\u001b[1;32m    562\u001b[0m \u001b[0;34m\u001b[0m\u001b[0m\n\u001b[1;32m    563\u001b[0m   \u001b[0mcls_config\u001b[0m \u001b[0;34m=\u001b[0m \u001b[0mconfig\u001b[0m\u001b[0;34m[\u001b[0m\u001b[0;34m'config'\u001b[0m\u001b[0;34m]\u001b[0m\u001b[0;34m\u001b[0m\u001b[0;34m\u001b[0m\u001b[0m\n",
            "\u001b[0;31mValueError\u001b[0m: Unknown layer: Maxout. Please ensure this object is passed to the `custom_objects` argument. See https://www.tensorflow.org/guide/keras/save_and_serialize#registering_the_custom_object for details."
          ]
        }
      ]
    },
    {
      "cell_type": "code",
      "metadata": {
        "colab": {
          "base_uri": "https://localhost:8080/"
        },
        "id": "geoXWoLissqg",
        "outputId": "5c03c89a-ba89-400f-b3cd-ab976e8436a7"
      },
      "source": [
        "y_test = testY['gender']\n",
        "loss, acc = lcnn.evaluate(x_test, y_test)\n",
        "pred=lcnn.predict(x_test)\n",
        "print(f'Accuracy : {acc*100}')"
      ],
      "execution_count": null,
      "outputs": [
        {
          "output_type": "stream",
          "name": "stdout",
          "text": [
            "75/75 [==============================] - 3s 36ms/step - loss: 0.6217 - accuracy: 0.8628\n",
            "Accuracy : 86.28113269805908\n"
          ]
        }
      ]
    },
    {
      "cell_type": "code",
      "metadata": {
        "id": "v-JIGDopI74L",
        "colab": {
          "base_uri": "https://localhost:8080/"
        },
        "outputId": "792d4747-cea2-42e9-ca05-c80fe93feb45"
      },
      "source": [
        "pred"
      ],
      "execution_count": null,
      "outputs": [
        {
          "output_type": "execute_result",
          "data": {
            "text/plain": [
              "array([[9.9999869e-01, 1.3440252e-06],\n",
              "       [3.0399654e-09, 1.0000000e+00],\n",
              "       [4.4730317e-05, 9.9995530e-01],\n",
              "       ...,\n",
              "       [1.0000000e+00, 3.0145981e-14],\n",
              "       [2.1317942e-02, 9.7868210e-01],\n",
              "       [1.0000000e+00, 2.2793405e-09]], dtype=float32)"
            ]
          },
          "metadata": {},
          "execution_count": 46
        }
      ]
    },
    {
      "cell_type": "code",
      "metadata": {
        "id": "GiVKS54axqTK"
      },
      "source": [
        "pred_class = []\n",
        "for i in range(len(pred)):\n",
        "  if pred[i][0] > pred[i][1]:\n",
        "    pred_class.append(0)\n",
        "  else:\n",
        "    pred_class.append(1)"
      ],
      "execution_count": null,
      "outputs": []
    },
    {
      "cell_type": "code",
      "metadata": {
        "colab": {
          "base_uri": "https://localhost:8080/"
        },
        "id": "aQQNlTo3ju-e",
        "outputId": "2f5492b5-91dc-480f-f5c6-f4c32d6b2bc7"
      },
      "source": [
        "pred[0][0]"
      ],
      "execution_count": null,
      "outputs": [
        {
          "output_type": "execute_result",
          "data": {
            "text/plain": [
              "0.9999987"
            ]
          },
          "metadata": {},
          "execution_count": 48
        }
      ]
    },
    {
      "cell_type": "code",
      "metadata": {
        "id": "khIduro1oISz"
      },
      "source": [
        "df_test = pd.DataFrame()\n",
        "df_test['gender'] = sample_test\n",
        "df_test['age'] = testY['age']\n",
        "df_test['ethnicity'] = testY['ethnicity']\n",
        "df_test['predicted'] = pred_class\n",
        "#df_test['input'] = testX\n"
      ],
      "execution_count": null,
      "outputs": []
    },
    {
      "cell_type": "code",
      "metadata": {
        "colab": {
          "base_uri": "https://localhost:8080/",
          "height": 112
        },
        "id": "xi80xVSu0cZm",
        "outputId": "e9c27d68-aca2-4409-ce15-3648b4b60da2"
      },
      "source": [
        "cm = confusion_matrix(df_test['gender'], df_test['predicted'])\n",
        "pd.DataFrame(cm, index = ['Female', 'Male'], columns = ['Female', 'Male'])"
      ],
      "execution_count": null,
      "outputs": [
        {
          "output_type": "execute_result",
          "data": {
            "text/html": [
              "<div>\n",
              "<style scoped>\n",
              "    .dataframe tbody tr th:only-of-type {\n",
              "        vertical-align: middle;\n",
              "    }\n",
              "\n",
              "    .dataframe tbody tr th {\n",
              "        vertical-align: top;\n",
              "    }\n",
              "\n",
              "    .dataframe thead th {\n",
              "        text-align: right;\n",
              "    }\n",
              "</style>\n",
              "<table border=\"1\" class=\"dataframe\">\n",
              "  <thead>\n",
              "    <tr style=\"text-align: right;\">\n",
              "      <th></th>\n",
              "      <th>Female</th>\n",
              "      <th>Male</th>\n",
              "    </tr>\n",
              "  </thead>\n",
              "  <tbody>\n",
              "    <tr>\n",
              "      <th>Female</th>\n",
              "      <td>1096</td>\n",
              "      <td>159</td>\n",
              "    </tr>\n",
              "    <tr>\n",
              "      <th>Male</th>\n",
              "      <td>166</td>\n",
              "      <td>948</td>\n",
              "    </tr>\n",
              "  </tbody>\n",
              "</table>\n",
              "</div>"
            ],
            "text/plain": [
              "        Female  Male\n",
              "Female    1096   159\n",
              "Male       166   948"
            ]
          },
          "metadata": {},
          "execution_count": 81
        }
      ]
    },
    {
      "cell_type": "code",
      "metadata": {
        "colab": {
          "base_uri": "https://localhost:8080/"
        },
        "id": "Vuga1SPU3VVn",
        "outputId": "218ae7cf-b9d2-4c85-ba07-f88c0f1f1490"
      },
      "source": [
        "temp = cm.astype('float') / cm.sum(axis=1)[:, np.newaxis]\n",
        "temp.diagonal()\n",
        "dob = np.std(temp.diagonal())\n",
        "print(dob)"
      ],
      "execution_count": null,
      "outputs": [
        {
          "output_type": "stream",
          "name": "stdout",
          "text": [
            "0.21574074074074073\n"
          ]
        }
      ]
    },
    {
      "cell_type": "code",
      "metadata": {
        "colab": {
          "base_uri": "https://localhost:8080/",
          "height": 424
        },
        "id": "EQKlVKVPwo2E",
        "outputId": "39fab149-2d2f-4dc1-89d3-8fbf7e6be056"
      },
      "source": [
        "df_test"
      ],
      "execution_count": null,
      "outputs": [
        {
          "output_type": "execute_result",
          "data": {
            "text/html": [
              "<div>\n",
              "<style scoped>\n",
              "    .dataframe tbody tr th:only-of-type {\n",
              "        vertical-align: middle;\n",
              "    }\n",
              "\n",
              "    .dataframe tbody tr th {\n",
              "        vertical-align: top;\n",
              "    }\n",
              "\n",
              "    .dataframe thead th {\n",
              "        text-align: right;\n",
              "    }\n",
              "</style>\n",
              "<table border=\"1\" class=\"dataframe\">\n",
              "  <thead>\n",
              "    <tr style=\"text-align: right;\">\n",
              "      <th></th>\n",
              "      <th>gender</th>\n",
              "      <th>age</th>\n",
              "      <th>ethnicity</th>\n",
              "      <th>predicted</th>\n",
              "    </tr>\n",
              "  </thead>\n",
              "  <tbody>\n",
              "    <tr>\n",
              "      <th>0</th>\n",
              "      <td>1</td>\n",
              "      <td>56 - 24</td>\n",
              "      <td>White</td>\n",
              "      <td>0</td>\n",
              "    </tr>\n",
              "    <tr>\n",
              "      <th>1</th>\n",
              "      <td>1</td>\n",
              "      <td>28 - 56</td>\n",
              "      <td>Indian</td>\n",
              "      <td>1</td>\n",
              "    </tr>\n",
              "    <tr>\n",
              "      <th>2</th>\n",
              "      <td>1</td>\n",
              "      <td>28 - 56</td>\n",
              "      <td>Other</td>\n",
              "      <td>1</td>\n",
              "    </tr>\n",
              "    <tr>\n",
              "      <th>3</th>\n",
              "      <td>1</td>\n",
              "      <td>0 - 28</td>\n",
              "      <td>Black</td>\n",
              "      <td>0</td>\n",
              "    </tr>\n",
              "    <tr>\n",
              "      <th>4</th>\n",
              "      <td>0</td>\n",
              "      <td>28 - 56</td>\n",
              "      <td>Indian</td>\n",
              "      <td>0</td>\n",
              "    </tr>\n",
              "    <tr>\n",
              "      <th>...</th>\n",
              "      <td>...</td>\n",
              "      <td>...</td>\n",
              "      <td>...</td>\n",
              "      <td>...</td>\n",
              "    </tr>\n",
              "    <tr>\n",
              "      <th>2364</th>\n",
              "      <td>1</td>\n",
              "      <td>0 - 28</td>\n",
              "      <td>Other</td>\n",
              "      <td>0</td>\n",
              "    </tr>\n",
              "    <tr>\n",
              "      <th>2365</th>\n",
              "      <td>0</td>\n",
              "      <td>28 - 56</td>\n",
              "      <td>White</td>\n",
              "      <td>0</td>\n",
              "    </tr>\n",
              "    <tr>\n",
              "      <th>2366</th>\n",
              "      <td>0</td>\n",
              "      <td>28 - 56</td>\n",
              "      <td>Indian</td>\n",
              "      <td>0</td>\n",
              "    </tr>\n",
              "    <tr>\n",
              "      <th>2367</th>\n",
              "      <td>1</td>\n",
              "      <td>28 - 56</td>\n",
              "      <td>White</td>\n",
              "      <td>1</td>\n",
              "    </tr>\n",
              "    <tr>\n",
              "      <th>2368</th>\n",
              "      <td>0</td>\n",
              "      <td>56 - 24</td>\n",
              "      <td>White</td>\n",
              "      <td>0</td>\n",
              "    </tr>\n",
              "  </tbody>\n",
              "</table>\n",
              "<p>2369 rows × 4 columns</p>\n",
              "</div>"
            ],
            "text/plain": [
              "      gender      age ethnicity  predicted\n",
              "0          1  56 - 24     White          0\n",
              "1          1  28 - 56    Indian          1\n",
              "2          1  28 - 56     Other          1\n",
              "3          1   0 - 28     Black          0\n",
              "4          0  28 - 56    Indian          0\n",
              "...      ...      ...       ...        ...\n",
              "2364       1   0 - 28     Other          0\n",
              "2365       0  28 - 56     White          0\n",
              "2366       0  28 - 56    Indian          0\n",
              "2367       1  28 - 56     White          1\n",
              "2368       0  56 - 24     White          0\n",
              "\n",
              "[2369 rows x 4 columns]"
            ]
          },
          "metadata": {},
          "execution_count": 50
        }
      ]
    },
    {
      "cell_type": "code",
      "metadata": {
        "id": "Sn8z1fiPzMiE"
      },
      "source": [
        "l = df_test['age'].unique()\n",
        "gk = df_test.groupby('age')"
      ],
      "execution_count": null,
      "outputs": []
    },
    {
      "cell_type": "code",
      "metadata": {
        "colab": {
          "base_uri": "https://localhost:8080/"
        },
        "id": "yGlPFi8hzoxg",
        "outputId": "ccd64d6f-0544-4a32-9258-633232d30970"
      },
      "source": [
        "acc = []\n",
        "group_age = []\n",
        "count = []\n",
        "for i in range(len(l)):\n",
        "    df_test_age=gk.get_group(l[i])\n",
        "    accuracy = accuracy_score(df_test_age['predicted'], df_test_age['gender'])\n",
        "    cm = confusion_matrix(df_test_age['predicted'], df_test_age['gender'])\n",
        "    acc.append(accuracy)\n",
        "    group_age.append(l[i])\n",
        "    count.append(len(df_test_age))\n",
        "    print(\"Age group\", l[i])\n",
        "    #print(accuracy)\n",
        "    print(\"CM\",cm)\n",
        "    print()"
      ],
      "execution_count": null,
      "outputs": [
        {
          "output_type": "stream",
          "name": "stdout",
          "text": [
            "Age group 56 - 24\n",
            "CM [[177  20]\n",
            " [ 13  83]]\n",
            "\n",
            "Age group 28 - 56\n",
            "CM [[547  46]\n",
            " [ 31 352]]\n",
            "\n",
            "Age group 0 - 28\n",
            "CM [[358  87]\n",
            " [114 494]]\n",
            "\n",
            "Age group 84 - 116\n",
            "CM [[14 13]\n",
            " [ 1 19]]\n",
            "\n"
          ]
        }
      ]
    },
    {
      "cell_type": "code",
      "metadata": {
        "id": "gr3lPQ3n1qKT"
      },
      "source": [
        ""
      ],
      "execution_count": null,
      "outputs": []
    },
    {
      "cell_type": "code",
      "metadata": {
        "colab": {
          "base_uri": "https://localhost:8080/"
        },
        "id": "hRPEx1-_zqwQ",
        "outputId": "4be0174c-7375-471c-d55e-5fdae11daa62"
      },
      "source": [
        "df_age_result = pd.DataFrame()\n",
        "df_age_result['age'] = group_age\n",
        "df_age_result['acc'] = acc\n",
        "df_age_result['count'] = count\n",
        "print(df_age_result)"
      ],
      "execution_count": null,
      "outputs": [
        {
          "output_type": "stream",
          "name": "stdout",
          "text": [
            "        age       acc  count\n",
            "0   56 - 24  0.887372    293\n",
            "1   28 - 56  0.921107    976\n",
            "2    0 - 28  0.809117   1053\n",
            "3  84 - 116  0.702128     47\n"
          ]
        }
      ]
    },
    {
      "cell_type": "code",
      "metadata": {
        "colab": {
          "base_uri": "https://localhost:8080/",
          "height": 175
        },
        "id": "Fy6mfW8GyhBl",
        "outputId": "c6db7295-86d3-49f2-e68f-e8a469f0a4d1"
      },
      "source": [
        "df_age_result"
      ],
      "execution_count": null,
      "outputs": [
        {
          "output_type": "execute_result",
          "data": {
            "text/html": [
              "<div>\n",
              "<style scoped>\n",
              "    .dataframe tbody tr th:only-of-type {\n",
              "        vertical-align: middle;\n",
              "    }\n",
              "\n",
              "    .dataframe tbody tr th {\n",
              "        vertical-align: top;\n",
              "    }\n",
              "\n",
              "    .dataframe thead th {\n",
              "        text-align: right;\n",
              "    }\n",
              "</style>\n",
              "<table border=\"1\" class=\"dataframe\">\n",
              "  <thead>\n",
              "    <tr style=\"text-align: right;\">\n",
              "      <th></th>\n",
              "      <th>age</th>\n",
              "      <th>acc</th>\n",
              "      <th>count</th>\n",
              "    </tr>\n",
              "  </thead>\n",
              "  <tbody>\n",
              "    <tr>\n",
              "      <th>0</th>\n",
              "      <td>56 - 24</td>\n",
              "      <td>0.887372</td>\n",
              "      <td>293</td>\n",
              "    </tr>\n",
              "    <tr>\n",
              "      <th>1</th>\n",
              "      <td>28 - 56</td>\n",
              "      <td>0.921107</td>\n",
              "      <td>976</td>\n",
              "    </tr>\n",
              "    <tr>\n",
              "      <th>2</th>\n",
              "      <td>0 - 28</td>\n",
              "      <td>0.809117</td>\n",
              "      <td>1053</td>\n",
              "    </tr>\n",
              "    <tr>\n",
              "      <th>3</th>\n",
              "      <td>84 - 116</td>\n",
              "      <td>0.702128</td>\n",
              "      <td>47</td>\n",
              "    </tr>\n",
              "  </tbody>\n",
              "</table>\n",
              "</div>"
            ],
            "text/plain": [
              "        age       acc  count\n",
              "0   56 - 24  0.887372    293\n",
              "1   28 - 56  0.921107    976\n",
              "2    0 - 28  0.809117   1053\n",
              "3  84 - 116  0.702128     47"
            ]
          },
          "metadata": {},
          "execution_count": 85
        }
      ]
    },
    {
      "cell_type": "code",
      "metadata": {
        "id": "2K8d3v6uzstO"
      },
      "source": [
        "l = df_test['ethnicity'].unique()\n",
        "#print(l)\n",
        "gk1 = df_test.groupby('ethnicity')\n",
        "acc = []\n",
        "group_race = []\n",
        "count = []\n",
        "for i in range(len(l)):\n",
        "    df_test_race=gk1.get_group(l[i])\n",
        "    accuracy = accuracy_score(df_test_race['predicted'], df_test_race['gender'])\n",
        "    cm = confusion_matrix(df_test_race['predicted'], df_test_race['gender'])\n",
        "    acc.append(accuracy)\n",
        "    group_race.append(l[i])\n",
        "    count.append(len(df_test_race))\n",
        "    #print(l[i])\n",
        "    #print(accuracy)\n",
        "    #print(cm)\n",
        "    df_test_race = pd.DataFrame()"
      ],
      "execution_count": null,
      "outputs": []
    },
    {
      "cell_type": "code",
      "metadata": {
        "colab": {
          "base_uri": "https://localhost:8080/"
        },
        "id": "_Nm6xr7HzzLO",
        "outputId": "559a80bd-fea3-47a1-b9b1-4d2d7609ba69"
      },
      "source": [
        "df_race_result = pd.DataFrame()\n",
        "df_race_result['race'] = group_race\n",
        "df_race_result['acc'] = acc\n",
        "df_race_result['count'] = count\n",
        "print(df_race_result)"
      ],
      "execution_count": null,
      "outputs": [
        {
          "output_type": "stream",
          "name": "stdout",
          "text": [
            "     race       acc  count\n",
            "0   White  0.856716   1005\n",
            "1  Indian  0.910891    404\n",
            "2   Other  0.801242    161\n",
            "3   Black  0.878205    468\n",
            "4   Asian  0.830816    331\n"
          ]
        }
      ]
    },
    {
      "cell_type": "markdown",
      "metadata": {
        "id": "Zxx4E1Zxz8TD"
      },
      "source": [
        "# ROC"
      ]
    },
    {
      "cell_type": "code",
      "metadata": {
        "id": "Wq0hRmW4z064"
      },
      "source": [
        "def get_values(y_true, y_prob, thresholds):\n",
        "\n",
        "    fpr = []\n",
        "    tpr = []\n",
        "    precision = []\n",
        "    far = []\n",
        "    frr = []\n",
        "    for threshold in thresholds:\n",
        "\n",
        "        y_pred = np.where(y_prob >= threshold, 1, 0)\n",
        "\n",
        "        # fp = np.sum((y_pred == 1) & (y_true == 0))\n",
        "        # tp = np.sum((y_pred == 1) & (y_true == 1))\n",
        "\n",
        "        # fn = np.sum((y_pred == 0) & (y_true == 1))\n",
        "        # tn = np.sum((y_pred == 0) & (y_true == 0))\n",
        "        tn, fp, fn, tp = confusion_matrix(y_true, y_pred).ravel()\n",
        "\n",
        "        fpr.append(fp / (fp + tn))\n",
        "        tpr.append(tp / (tp + fn))\n",
        "        precision.append(tp / (tp + fp))\n",
        "        far.append(fp / (fp + tn))\n",
        "        frr.append(fn / (tp + fn))\n",
        "    return [fpr, tpr, precision, tpr, far, frr]"
      ],
      "execution_count": null,
      "outputs": []
    },
    {
      "cell_type": "code",
      "metadata": {
        "id": "6AR6hzPWz9Mu"
      },
      "source": [
        "thresholds = []\n",
        "i = 0.0001\n",
        "while i < 1:\n",
        "  thresholds.append(i)\n",
        "  i += 0.0001"
      ],
      "execution_count": null,
      "outputs": []
    },
    {
      "cell_type": "code",
      "metadata": {
        "id": "3DHjMqEbz_Wj"
      },
      "source": [
        "y_test = sample_test\n",
        "y_prob = pred"
      ],
      "execution_count": null,
      "outputs": []
    },
    {
      "cell_type": "code",
      "metadata": {
        "id": "o6A7tJmO0CAc"
      },
      "source": [
        "fpr1, tpr1, precision1, recall1, far1, frr1 = get_values(y_test, y_prob[:, 1], thresholds)"
      ],
      "execution_count": null,
      "outputs": []
    },
    {
      "cell_type": "markdown",
      "metadata": {
        "id": "bXzPHubx0GBP"
      },
      "source": [
        "# Precision-Recall curve"
      ]
    },
    {
      "cell_type": "code",
      "metadata": {
        "colab": {
          "base_uri": "https://localhost:8080/",
          "height": 314
        },
        "id": "30HhrI9C0E0X",
        "outputId": "1f6872dd-d03d-421c-fe39-69a19fc94780"
      },
      "source": [
        "plt.plot(recall1, precision1)\n",
        "plt.xlabel('Recall')\n",
        "plt.ylabel('Precision')\n",
        "plt.title(\"LCNN Precision-Recall curve at binary-crossentropy loss\")"
      ],
      "execution_count": null,
      "outputs": [
        {
          "output_type": "execute_result",
          "data": {
            "text/plain": [
              "Text(0.5, 1.0, 'LCNN Precision-Recall curve at binary-crossentropy loss')"
            ]
          },
          "metadata": {},
          "execution_count": 61
        },
        {
          "output_type": "display_data",
          "data": {
            "image/png": "[encoded data removed]",
            "text/plain": [
              "<Figure size 432x288 with 1 Axes>"
            ]
          },
          "metadata": {
            "needs_background": "light"
          }
        }
      ]
    },
    {
      "cell_type": "code",
      "metadata": {
        "colab": {
          "base_uri": "https://localhost:8080/",
          "height": 284
        },
        "id": "yqL-KP0-0Mfg",
        "outputId": "c949be58-00b4-4b38-ffe4-7c8968a1af2f"
      },
      "source": [
        "plt.plot(far1)\n",
        "plt.plot(frr1)\n",
        "plt.legend(['FAR', 'FRR'])"
      ],
      "execution_count": null,
      "outputs": [
        {
          "output_type": "execute_result",
          "data": {
            "text/plain": [
              "<matplotlib.legend.Legend at 0x7fc792457050>"
            ]
          },
          "metadata": {},
          "execution_count": 62
        },
        {
          "output_type": "display_data",
          "data": {
            "image/png": "[encoded data removed]",
            "text/plain": [
              "<Figure size 432x288 with 1 Axes>"
            ]
          },
          "metadata": {
            "needs_background": "light"
          }
        }
      ]
    },
    {
      "cell_type": "code",
      "metadata": {
        "colab": {
          "base_uri": "https://localhost:8080/"
        },
        "id": "WmEC82CB0PWv",
        "outputId": "f6682b49-644a-4a5a-8047-a5f6e9c9fb4c"
      },
      "source": [
        "index = -1\n",
        "ans = 1000\n",
        "t = []\n",
        "for i in range(len(far1)):\n",
        "  if ans > abs(far1[i]-frr1[i]):\n",
        "    ans = abs(far1[i]-frr1[i])\n",
        "    index = i\n",
        "print(ans, index, far1[index], frr1[index])"
      ],
      "execution_count": null,
      "outputs": [
        {
          "output_type": "stream",
          "name": "stdout",
          "text": [
            "1.1444348280126304e-05 2853 0.1346613545816733 0.13464991023339318\n"
          ]
        }
      ]
    },
    {
      "cell_type": "code",
      "metadata": {
        "colab": {
          "base_uri": "https://localhost:8080/",
          "height": 314
        },
        "id": "EgS8I7cH0SXH",
        "outputId": "580c26e0-35f5-47a1-b001-5ab191546fa5"
      },
      "source": [
        "from matplotlib import pyplot as plt\n",
        "plt.plot(fpr1, tpr1, marker='.', label='Male')\n",
        "pyplot.plot([0, 1], [0, 1], linestyle='--', label='Female')\n",
        "plt.title(\"LCNN ROC curve at focal loss\")\n",
        "plt.xlabel('False Positive Rate')\n",
        "plt.ylabel('True Positive Rate')\n",
        "plt.legend()"
      ],
      "execution_count": null,
      "outputs": [
        {
          "output_type": "execute_result",
          "data": {
            "text/plain": [
              "<matplotlib.legend.Legend at 0x7fc79234cad0>"
            ]
          },
          "metadata": {},
          "execution_count": 66
        },
        {
          "output_type": "display_data",
          "data": {
            "image/png": "[encoded data removed]",
            "text/plain": [
              "<Figure size 432x288 with 1 Axes>"
            ]
          },
          "metadata": {
            "needs_background": "light"
          }
        }
      ]
    },
    {
      "cell_type": "code",
      "metadata": {
        "colab": {
          "base_uri": "https://localhost:8080/",
          "height": 279
        },
        "id": "i-c6dsYa0US1",
        "outputId": "06399165-b562-47c7-899a-cb640bd2b512"
      },
      "source": [
        "from sklearn.metrics import roc_curve\n",
        "from matplotlib import pyplot\n",
        "# retrieve just the probabilities for the positive class\n",
        "#pos_probs = y_val_cat_prob[:, 1]\n",
        "# plot no skill roc curve\n",
        "pyplot.plot([0, 1], [0, 1], linestyle='--', label='Female')\n",
        "\n",
        "# calculate roc curve for model\n",
        "fpr, tpr, thresholds_new = roc_curve(y_test, y_prob[:, 1])\n",
        "# plot model roc curve\n",
        "pyplot.plot(fpr, tpr, marker='.', label='Male')\n",
        "# axis labels\n",
        "pyplot.xlabel('False Positive Rate')\n",
        "pyplot.ylabel('True Positive Rate')\n",
        "# show the legend\n",
        "pyplot.legend()\n",
        "# show the plot\n",
        "pyplot.show()\n",
        "\n"
      ],
      "execution_count": null,
      "outputs": [
        {
          "output_type": "display_data",
          "data": {
            "image/png": "[encoded data removed]",
            "text/plain": [
              "<Figure size 432x288 with 1 Axes>"
            ]
          },
          "metadata": {
            "needs_background": "light"
          }
        }
      ]
    },
    {
      "cell_type": "code",
      "metadata": {
        "colab": {
          "base_uri": "https://localhost:8080/"
        },
        "id": "PHUGl-IHHhyb",
        "outputId": "6aec7369-3e9b-4cff-d187-63fcc0377786"
      },
      "source": [
        "thresholds"
      ],
      "execution_count": null,
      "outputs": [
        {
          "output_type": "execute_result",
          "data": {
            "text/plain": [
              "array([2.00000000e+00, 1.00000000e+00, 9.99999881e-01, 9.99999762e-01,\n",
              "       9.99999642e-01, 9.99999523e-01, 9.99999404e-01, 9.99999285e-01,\n",
              "       9.99999166e-01, 9.99999046e-01, 9.99998927e-01, 9.99998808e-01,\n",
              "       9.99998689e-01, 9.99998569e-01, 9.99998331e-01, 9.99998212e-01,\n",
              "       9.99997973e-01, 9.99996781e-01, 9.99996662e-01, 9.99996424e-01,\n",
              "       9.99996185e-01, 9.99995470e-01, 9.99995112e-01, 9.99994874e-01,\n",
              "       9.99994278e-01, 9.99994159e-01, 9.99993086e-01, 9.99992967e-01,\n",
              "       9.99989271e-01, 9.99987364e-01, 9.99982238e-01, 9.99980211e-01,\n",
              "       9.99972820e-01, 9.99966502e-01, 9.99910474e-01, 9.99905944e-01,\n",
              "       9.99892116e-01, 9.99891520e-01, 9.99890566e-01, 9.99885321e-01,\n",
              "       9.99863029e-01, 9.99796569e-01, 9.99752939e-01, 9.99750912e-01,\n",
              "       9.99738872e-01, 9.99735773e-01, 9.99677658e-01, 9.99652624e-01,\n",
              "       9.99538422e-01, 9.99505997e-01, 9.99291897e-01, 9.99270022e-01,\n",
              "       9.99249637e-01, 9.99209106e-01, 9.99110639e-01, 9.99084115e-01,\n",
              "       9.99039948e-01, 9.98849392e-01, 9.98827159e-01, 9.98825848e-01,\n",
              "       9.98664379e-01, 9.98630643e-01, 9.98628616e-01, 9.98485982e-01,\n",
              "       9.98039424e-01, 9.97949064e-01, 9.97478664e-01, 9.97115254e-01,\n",
              "       9.97058749e-01, 9.96455431e-01, 9.96122897e-01, 9.96068358e-01,\n",
              "       9.95165706e-01, 9.95073617e-01, 9.92824435e-01, 9.92092550e-01,\n",
              "       9.89525914e-01, 9.87403870e-01, 9.86097276e-01, 9.85467970e-01,\n",
              "       9.85409319e-01, 9.81850088e-01, 9.78097618e-01, 9.75374401e-01,\n",
              "       9.70523357e-01, 9.62817907e-01, 9.59334731e-01, 9.58069265e-01,\n",
              "       9.54525769e-01, 9.52151835e-01, 9.49861288e-01, 9.42388296e-01,\n",
              "       9.34768319e-01, 9.33952153e-01, 9.27376866e-01, 9.11018550e-01,\n",
              "       9.10409629e-01, 8.91614616e-01, 8.90787125e-01, 8.81123006e-01,\n",
              "       8.80440116e-01, 8.75557065e-01, 8.62861812e-01, 8.61041486e-01,\n",
              "       8.48131895e-01, 8.31827343e-01, 8.24491084e-01, 8.12722266e-01,\n",
              "       8.12646270e-01, 7.92286634e-01, 7.82021463e-01, 7.46512055e-01,\n",
              "       7.21290290e-01, 7.21242130e-01, 7.07988203e-01, 7.05845535e-01,\n",
              "       6.93623960e-01, 6.82288408e-01, 6.78305209e-01, 6.58657432e-01,\n",
              "       6.52072608e-01, 5.87894082e-01, 5.07685721e-01, 5.03430724e-01,\n",
              "       5.02524137e-01, 4.80494350e-01, 4.03149366e-01, 4.02787507e-01,\n",
              "       3.86729032e-01, 3.76122326e-01, 3.69624674e-01, 3.61491591e-01,\n",
              "       3.52735013e-01, 3.32159042e-01, 3.01153392e-01, 2.83670843e-01,\n",
              "       2.21634910e-01, 2.16586083e-01, 2.15213865e-01, 1.84172735e-01,\n",
              "       1.71706796e-01, 1.31609187e-01, 1.15342475e-01, 1.08052246e-01,\n",
              "       1.05816372e-01, 9.69239250e-02, 9.33412686e-02, 8.76096860e-02,\n",
              "       7.66198635e-02, 6.75631538e-02, 4.69247662e-02, 4.61290553e-02,\n",
              "       4.59971763e-02, 4.31904569e-02, 3.42531428e-02, 3.34987864e-02,\n",
              "       3.33155580e-02, 3.02589871e-02, 2.99599301e-02, 2.97620893e-02,\n",
              "       2.85173636e-02, 2.73152366e-02, 2.24111285e-02, 1.79706011e-02,\n",
              "       1.69128273e-02, 1.59716606e-02, 1.30886724e-02, 1.09045031e-02,\n",
              "       8.30966607e-03, 7.23857386e-03, 6.68656453e-03, 4.87610558e-03,\n",
              "       3.77630489e-03, 2.29721004e-03, 2.15978408e-03, 1.85586617e-03,\n",
              "       1.59650121e-03, 1.55632931e-03, 1.17451954e-03, 9.25024331e-04,\n",
              "       8.98718659e-04, 8.06090597e-04, 7.80963048e-04, 7.05532671e-04,\n",
              "       6.95543888e-04, 6.34899247e-04, 5.29795245e-04, 5.25008829e-04,\n",
              "       4.75420180e-04, 4.64758574e-04, 4.48840932e-04, 3.76742217e-04,\n",
              "       3.70189577e-04, 3.66594439e-04, 3.13047087e-04, 2.72362289e-04,\n",
              "       2.69024284e-04, 1.54741982e-04, 1.43889207e-04, 1.16118033e-04,\n",
              "       1.12440845e-04, 1.11201509e-04, 1.10235793e-04, 9.33045230e-05,\n",
              "       8.91204327e-05, 7.58734895e-05, 7.38494055e-05, 6.80680532e-05,\n",
              "       6.36788536e-05, 4.05000719e-05, 4.03726663e-05, 3.96759533e-05,\n",
              "       3.83004153e-05, 3.77144133e-05, 3.60350023e-05, 3.49404909e-05,\n",
              "       3.23869426e-05, 2.33412266e-05, 2.28228619e-05, 1.89160546e-05,\n",
              "       1.42287936e-05, 1.41197634e-05, 1.33175718e-05, 1.18315447e-05,\n",
              "       9.12793166e-06, 8.62149500e-06, 7.78524736e-06, 3.70103953e-06,\n",
              "       3.68606561e-06, 3.26827012e-06, 3.24855614e-06, 2.82291785e-06,\n",
              "       2.54880661e-06, 1.90620028e-06, 1.83416478e-06, 1.33874971e-06,\n",
              "       1.31708828e-06, 9.92068294e-07, 9.85892484e-07, 9.24640460e-07,\n",
              "       9.21446883e-07, 9.02324189e-07, 8.66402274e-07, 6.66879714e-07,\n",
              "       6.66741073e-07, 6.26813801e-07, 5.12171539e-07, 2.99908862e-07,\n",
              "       2.88755331e-07, 2.71391485e-07, 2.54224688e-07, 2.07373844e-07,\n",
              "       1.99091602e-07, 1.85188370e-07, 1.76798352e-07, 1.74192522e-07,\n",
              "       1.53363260e-07, 1.48190125e-07, 1.41152867e-07, 7.79886022e-08,\n",
              "       7.64515846e-08, 7.21082714e-08, 7.04739023e-08, 5.31032320e-08,\n",
              "       4.69503121e-08, 4.60958098e-08, 4.59320404e-08, 4.33264695e-08,\n",
              "       4.20166089e-08, 3.27245040e-08, 3.20272235e-08, 1.37613192e-08,\n",
              "       1.36079228e-08, 1.03522622e-08, 8.90001939e-09, 6.69564937e-09,\n",
              "       6.51324461e-09, 3.36593020e-09, 3.29330585e-09, 2.83626300e-09,\n",
              "       2.82994606e-09, 2.34589748e-09, 2.31092878e-09, 2.14127893e-09,\n",
              "       2.12596518e-09, 1.82907867e-09, 1.74953863e-09, 1.58461821e-09,\n",
              "       1.58379643e-09, 1.53449731e-09, 1.28675559e-09, 1.18715715e-09,\n",
              "       1.11316523e-09, 9.14327891e-10, 9.02531883e-10, 7.12364556e-10,\n",
              "       6.93110069e-10, 3.45369733e-10, 3.13588239e-10, 2.74725881e-10,\n",
              "       2.67258521e-10, 2.62503991e-10, 2.53467108e-10, 1.65394448e-10,\n",
              "       1.58843952e-10, 1.42459586e-10, 1.38604295e-10, 4.61980176e-11,\n",
              "       4.60298466e-11, 3.99054748e-11, 3.89525252e-11, 3.82300198e-11,\n",
              "       3.70724701e-11, 3.22290319e-11, 3.20183810e-11, 1.90676988e-11,\n",
              "       1.83668393e-11, 1.65960960e-11, 1.62485476e-11, 1.17338327e-11,\n",
              "       1.15326099e-11, 1.13277053e-11, 1.11853816e-11, 7.69045157e-12,\n",
              "       7.51155822e-12, 5.24017331e-12, 5.11117494e-12, 4.95074641e-12,\n",
              "       4.90001746e-12, 4.64526421e-12, 4.54204686e-12, 3.14984041e-12,\n",
              "       3.12496470e-12, 2.53220405e-12, 2.52172588e-12, 2.46946344e-12,\n",
              "       2.42645270e-12, 7.40136359e-13, 7.38325959e-13, 6.06660013e-13,\n",
              "       6.03405672e-13, 1.09231973e-13, 1.06266572e-13, 9.05561365e-14,\n",
              "       8.82755444e-14, 1.29927578e-14, 1.29083298e-14, 2.29984967e-15,\n",
              "       2.23209445e-15, 3.89776196e-20], dtype=float32)"
            ]
          },
          "metadata": {},
          "execution_count": 75
        }
      ]
    },
    {
      "cell_type": "code",
      "metadata": {
        "id": "HhG4IsWaNzkY"
      },
      "source": [
        ""
      ],
      "execution_count": null,
      "outputs": []
    }
  ]
}